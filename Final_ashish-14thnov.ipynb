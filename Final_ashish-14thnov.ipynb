{
 "cells": [
  {
   "cell_type": "code",
   "execution_count": 1,
   "metadata": {},
   "outputs": [],
   "source": [
    "# import 'Pandas' \n",
    "import pandas as pd \n",
    "\n",
    "# import 'Numpy' \n",
    "import numpy as np\n",
    "\n",
    "# import subpackage of Matplotlib\n",
    "import matplotlib.pyplot as plt\n",
    "\n",
    "# import 'Seaborn' \n",
    "import seaborn as sns\n",
    "\n",
    "# to suppress warnings \n",
    "from warnings import filterwarnings\n",
    "filterwarnings('ignore')\n",
    "\n",
    "# display all columns of the dataframe\n",
    "pd.options.display.max_columns = None\n",
    "\n",
    "# display all rows of the dataframe\n",
    "pd.options.display.max_rows = None\n",
    " \n",
    "# to display the float values upto 6 decimal places     \n",
    "pd.options.display.float_format = '{:.6f}'.format\n",
    "\n",
    "# import train-test split \n",
    "from sklearn.model_selection import train_test_split\n",
    "\n",
    "# import StandardScaler to perform scaling\n",
    "from sklearn.preprocessing import StandardScaler \n",
    "\n",
    "# import various functions from sklearn\n",
    "from sklearn.metrics import classification_report\n",
    "from sklearn.tree import DecisionTreeClassifier\n",
    "from sklearn.ensemble import RandomForestClassifier\n",
    "from sklearn import tree\n",
    "from sklearn.model_selection import GridSearchCV\n",
    "\n"
   ]
  },
  {
   "cell_type": "code",
   "execution_count": 5,
   "metadata": {},
   "outputs": [
    {
     "data": {
      "text/html": [
       "<div>\n",
       "<style scoped>\n",
       "    .dataframe tbody tr th:only-of-type {\n",
       "        vertical-align: middle;\n",
       "    }\n",
       "\n",
       "    .dataframe tbody tr th {\n",
       "        vertical-align: top;\n",
       "    }\n",
       "\n",
       "    .dataframe thead th {\n",
       "        text-align: right;\n",
       "    }\n",
       "</style>\n",
       "<table border=\"1\" class=\"dataframe\">\n",
       "  <thead>\n",
       "    <tr style=\"text-align: right;\">\n",
       "      <th></th>\n",
       "      <th>age</th>\n",
       "      <th>workclass</th>\n",
       "      <th>fnlwgt</th>\n",
       "      <th>education</th>\n",
       "      <th>education-num</th>\n",
       "      <th>marital-status</th>\n",
       "      <th>occupation</th>\n",
       "      <th>relationship</th>\n",
       "      <th>race</th>\n",
       "      <th>sex</th>\n",
       "      <th>capital-gain</th>\n",
       "      <th>capital-loss</th>\n",
       "      <th>hours-per-week</th>\n",
       "      <th>native-country</th>\n",
       "      <th>class</th>\n",
       "    </tr>\n",
       "  </thead>\n",
       "  <tbody>\n",
       "    <tr>\n",
       "      <th>0</th>\n",
       "      <td>25</td>\n",
       "      <td>Private</td>\n",
       "      <td>226802</td>\n",
       "      <td>11th</td>\n",
       "      <td>7</td>\n",
       "      <td>Never-married</td>\n",
       "      <td>Machine-op-inspct</td>\n",
       "      <td>Own-child</td>\n",
       "      <td>Black</td>\n",
       "      <td>Male</td>\n",
       "      <td>0</td>\n",
       "      <td>0</td>\n",
       "      <td>40</td>\n",
       "      <td>United-States</td>\n",
       "      <td>&lt;=50K</td>\n",
       "    </tr>\n",
       "    <tr>\n",
       "      <th>1</th>\n",
       "      <td>38</td>\n",
       "      <td>Private</td>\n",
       "      <td>89814</td>\n",
       "      <td>HS-grad</td>\n",
       "      <td>9</td>\n",
       "      <td>Married-civ-spouse</td>\n",
       "      <td>Farming-fishing</td>\n",
       "      <td>Husband</td>\n",
       "      <td>White</td>\n",
       "      <td>Male</td>\n",
       "      <td>0</td>\n",
       "      <td>0</td>\n",
       "      <td>50</td>\n",
       "      <td>United-States</td>\n",
       "      <td>&lt;=50K</td>\n",
       "    </tr>\n",
       "  </tbody>\n",
       "</table>\n",
       "</div>"
      ],
      "text/plain": [
       "   age workclass  fnlwgt education  education-num       marital-status  \\\n",
       "0   25   Private  226802      11th              7        Never-married   \n",
       "1   38   Private   89814   HS-grad              9   Married-civ-spouse   \n",
       "\n",
       "           occupation relationship    race    sex  capital-gain  capital-loss  \\\n",
       "0   Machine-op-inspct    Own-child   Black   Male             0             0   \n",
       "1     Farming-fishing      Husband   White   Male             0             0   \n",
       "\n",
       "   hours-per-week  native-country   class  \n",
       "0              40   United-States   <=50K  \n",
       "1              50   United-States   <=50K  "
      ]
     },
     "execution_count": 5,
     "metadata": {},
     "output_type": "execute_result"
    }
   ],
   "source": [
    "df = pd.read_csv(\"E:/Mtech/Sem2/ml 2/project/ml2 project/adult.csv\")\n",
    "df.head(2)"
   ]
  },
  {
   "cell_type": "code",
   "execution_count": 6,
   "metadata": {},
   "outputs": [
    {
     "name": "stdout",
     "output_type": "stream",
     "text": [
      "Total number of records: 48842\n",
      "Individual making more than 50K: 11687\n",
      "Individual making at most 50K: 37155\n",
      "% Individual making more than 50K: 23.928176569346054\n"
     ]
    }
   ],
   "source": [
    "num_of_records=df.shape[0]\n",
    "n_greater_50k=df[df['class']==' >50K'].shape[0]\n",
    "n_at_most_50k=df[df['class']==' <=50K'].shape[0]\n",
    "greater_percentage=(n_greater_50k/num_of_records)*100\n",
    "print('Total number of records: {}'.format(num_of_records))\n",
    "print('Individual making more than 50K: {}'.format(n_greater_50k))\n",
    "print('Individual making at most 50K: {}'.format(n_at_most_50k))\n",
    "print('% Individual making more than 50K: {}'.format(greater_percentage))"
   ]
  },
  {
   "cell_type": "code",
   "execution_count": 7,
   "metadata": {},
   "outputs": [
    {
     "name": "stdout",
     "output_type": "stream",
     "text": [
      "<class 'pandas.core.frame.DataFrame'>\n",
      "RangeIndex: 48842 entries, 0 to 48841\n",
      "Data columns (total 15 columns):\n",
      " #   Column          Non-Null Count  Dtype \n",
      "---  ------          --------------  ----- \n",
      " 0   age             48842 non-null  int64 \n",
      " 1   workclass       48842 non-null  object\n",
      " 2   fnlwgt          48842 non-null  int64 \n",
      " 3   education       48842 non-null  object\n",
      " 4   education-num   48842 non-null  int64 \n",
      " 5   marital-status  48842 non-null  object\n",
      " 6   occupation      48842 non-null  object\n",
      " 7   relationship    48842 non-null  object\n",
      " 8   race            48842 non-null  object\n",
      " 9   sex             48842 non-null  object\n",
      " 10  capital-gain    48842 non-null  int64 \n",
      " 11  capital-loss    48842 non-null  int64 \n",
      " 12  hours-per-week  48842 non-null  int64 \n",
      " 13  native-country  48842 non-null  object\n",
      " 14  class           48842 non-null  object\n",
      "dtypes: int64(6), object(9)\n",
      "memory usage: 5.6+ MB\n"
     ]
    }
   ],
   "source": [
    "df.info()"
   ]
  },
  {
   "cell_type": "code",
   "execution_count": 8,
   "metadata": {},
   "outputs": [
    {
     "data": {
      "text/html": [
       "<div>\n",
       "<style scoped>\n",
       "    .dataframe tbody tr th:only-of-type {\n",
       "        vertical-align: middle;\n",
       "    }\n",
       "\n",
       "    .dataframe tbody tr th {\n",
       "        vertical-align: top;\n",
       "    }\n",
       "\n",
       "    .dataframe thead th {\n",
       "        text-align: right;\n",
       "    }\n",
       "</style>\n",
       "<table border=\"1\" class=\"dataframe\">\n",
       "  <thead>\n",
       "    <tr style=\"text-align: right;\">\n",
       "      <th></th>\n",
       "      <th>age</th>\n",
       "      <th>fnlwgt</th>\n",
       "      <th>education-num</th>\n",
       "      <th>capital-gain</th>\n",
       "      <th>capital-loss</th>\n",
       "      <th>hours-per-week</th>\n",
       "    </tr>\n",
       "  </thead>\n",
       "  <tbody>\n",
       "    <tr>\n",
       "      <th>count</th>\n",
       "      <td>48842.000000</td>\n",
       "      <td>48842.000000</td>\n",
       "      <td>48842.000000</td>\n",
       "      <td>48842.000000</td>\n",
       "      <td>48842.000000</td>\n",
       "      <td>48842.000000</td>\n",
       "    </tr>\n",
       "    <tr>\n",
       "      <th>mean</th>\n",
       "      <td>38.643585</td>\n",
       "      <td>189664.134597</td>\n",
       "      <td>10.078089</td>\n",
       "      <td>1079.067626</td>\n",
       "      <td>87.502314</td>\n",
       "      <td>40.422382</td>\n",
       "    </tr>\n",
       "    <tr>\n",
       "      <th>std</th>\n",
       "      <td>13.710510</td>\n",
       "      <td>105604.025423</td>\n",
       "      <td>2.570973</td>\n",
       "      <td>7452.019058</td>\n",
       "      <td>403.004552</td>\n",
       "      <td>12.391444</td>\n",
       "    </tr>\n",
       "    <tr>\n",
       "      <th>min</th>\n",
       "      <td>17.000000</td>\n",
       "      <td>12285.000000</td>\n",
       "      <td>1.000000</td>\n",
       "      <td>0.000000</td>\n",
       "      <td>0.000000</td>\n",
       "      <td>1.000000</td>\n",
       "    </tr>\n",
       "    <tr>\n",
       "      <th>25%</th>\n",
       "      <td>28.000000</td>\n",
       "      <td>117550.500000</td>\n",
       "      <td>9.000000</td>\n",
       "      <td>0.000000</td>\n",
       "      <td>0.000000</td>\n",
       "      <td>40.000000</td>\n",
       "    </tr>\n",
       "    <tr>\n",
       "      <th>50%</th>\n",
       "      <td>37.000000</td>\n",
       "      <td>178144.500000</td>\n",
       "      <td>10.000000</td>\n",
       "      <td>0.000000</td>\n",
       "      <td>0.000000</td>\n",
       "      <td>40.000000</td>\n",
       "    </tr>\n",
       "    <tr>\n",
       "      <th>75%</th>\n",
       "      <td>48.000000</td>\n",
       "      <td>237642.000000</td>\n",
       "      <td>12.000000</td>\n",
       "      <td>0.000000</td>\n",
       "      <td>0.000000</td>\n",
       "      <td>45.000000</td>\n",
       "    </tr>\n",
       "    <tr>\n",
       "      <th>max</th>\n",
       "      <td>90.000000</td>\n",
       "      <td>1490400.000000</td>\n",
       "      <td>16.000000</td>\n",
       "      <td>99999.000000</td>\n",
       "      <td>4356.000000</td>\n",
       "      <td>99.000000</td>\n",
       "    </tr>\n",
       "  </tbody>\n",
       "</table>\n",
       "</div>"
      ],
      "text/plain": [
       "               age         fnlwgt  education-num  capital-gain  capital-loss  \\\n",
       "count 48842.000000   48842.000000   48842.000000  48842.000000  48842.000000   \n",
       "mean     38.643585  189664.134597      10.078089   1079.067626     87.502314   \n",
       "std      13.710510  105604.025423       2.570973   7452.019058    403.004552   \n",
       "min      17.000000   12285.000000       1.000000      0.000000      0.000000   \n",
       "25%      28.000000  117550.500000       9.000000      0.000000      0.000000   \n",
       "50%      37.000000  178144.500000      10.000000      0.000000      0.000000   \n",
       "75%      48.000000  237642.000000      12.000000      0.000000      0.000000   \n",
       "max      90.000000 1490400.000000      16.000000  99999.000000   4356.000000   \n",
       "\n",
       "       hours-per-week  \n",
       "count    48842.000000  \n",
       "mean        40.422382  \n",
       "std         12.391444  \n",
       "min          1.000000  \n",
       "25%         40.000000  \n",
       "50%         40.000000  \n",
       "75%         45.000000  \n",
       "max         99.000000  "
      ]
     },
     "execution_count": 8,
     "metadata": {},
     "output_type": "execute_result"
    }
   ],
   "source": [
    "df.describe()"
   ]
  },
  {
   "cell_type": "code",
   "execution_count": 9,
   "metadata": {},
   "outputs": [
    {
     "data": {
      "text/plain": [
       "(48842, 15)"
      ]
     },
     "execution_count": 9,
     "metadata": {},
     "output_type": "execute_result"
    }
   ],
   "source": [
    "df.shape"
   ]
  },
  {
   "cell_type": "code",
   "execution_count": 10,
   "metadata": {},
   "outputs": [
    {
     "data": {
      "text/plain": [
       "age               0\n",
       "workclass         0\n",
       "fnlwgt            0\n",
       "education         0\n",
       "education-num     0\n",
       "marital-status    0\n",
       "occupation        0\n",
       "relationship      0\n",
       "race              0\n",
       "sex               0\n",
       "capital-gain      0\n",
       "capital-loss      0\n",
       "hours-per-week    0\n",
       "native-country    0\n",
       "class             0\n",
       "dtype: int64"
      ]
     },
     "execution_count": 10,
     "metadata": {},
     "output_type": "execute_result"
    }
   ],
   "source": [
    "df.isnull().sum()"
   ]
  },
  {
   "cell_type": "code",
   "execution_count": 11,
   "metadata": {},
   "outputs": [
    {
     "data": {
      "text/plain": [
       "age                  0\n",
       "workclass         2799\n",
       "fnlwgt               0\n",
       "education            0\n",
       "education-num        0\n",
       "marital-status       0\n",
       "occupation        2809\n",
       "relationship         0\n",
       "race                 0\n",
       "sex                  0\n",
       "capital-gain         0\n",
       "capital-loss         0\n",
       "hours-per-week       0\n",
       "native-country     857\n",
       "class                0\n",
       "dtype: int64"
      ]
     },
     "execution_count": 11,
     "metadata": {},
     "output_type": "execute_result"
    }
   ],
   "source": [
    "df.isin([' ?']).sum()"
   ]
  },
  {
   "cell_type": "code",
   "execution_count": 12,
   "metadata": {},
   "outputs": [
    {
     "name": "stdout",
     "output_type": "stream",
     "text": [
      "workclass\n",
      "2799\n",
      "5.73%\n",
      "\n",
      "\n",
      "occupation\n",
      "2809\n",
      "5.75%\n",
      "\n",
      "\n",
      "native-country\n",
      "857\n",
      "1.75%\n",
      "\n",
      "\n"
     ]
    }
   ],
   "source": [
    "col_names = df.columns\n",
    "num_data = df.shape[0]\n",
    "for c in col_names:\n",
    "    num_non = df[c].isin([\" ?\"]).sum()\n",
    "    if num_non > 0:\n",
    "        print (c)\n",
    "        print (num_non)\n",
    "        print (\"{0:.2f}%\".format(float(num_non) / num_data * 100))\n",
    "        print (\"\\n\")"
   ]
  },
  {
   "cell_type": "code",
   "execution_count": 13,
   "metadata": {},
   "outputs": [
    {
     "data": {
      "text/plain": [
       "(45222, 15)"
      ]
     },
     "execution_count": 13,
     "metadata": {},
     "output_type": "execute_result"
    }
   ],
   "source": [
    "df = df[df[\"workclass\"] != \" ?\"]\n",
    "df = df[df[\"occupation\"] != \" ?\"]\n",
    "df = df[df[\"native-country\"] != \" ?\"]\n",
    "\n",
    "df.shape"
   ]
  },
  {
   "cell_type": "code",
   "execution_count": 14,
   "metadata": {},
   "outputs": [
    {
     "data": {
      "text/html": [
       "<div>\n",
       "<style scoped>\n",
       "    .dataframe tbody tr th:only-of-type {\n",
       "        vertical-align: middle;\n",
       "    }\n",
       "\n",
       "    .dataframe tbody tr th {\n",
       "        vertical-align: top;\n",
       "    }\n",
       "\n",
       "    .dataframe thead th {\n",
       "        text-align: right;\n",
       "    }\n",
       "</style>\n",
       "<table border=\"1\" class=\"dataframe\">\n",
       "  <thead>\n",
       "    <tr style=\"text-align: right;\">\n",
       "      <th></th>\n",
       "      <th>age</th>\n",
       "      <th>fnlwgt</th>\n",
       "      <th>education-num</th>\n",
       "      <th>capital-gain</th>\n",
       "      <th>capital-loss</th>\n",
       "      <th>hours-per-week</th>\n",
       "    </tr>\n",
       "  </thead>\n",
       "  <tbody>\n",
       "    <tr>\n",
       "      <th>count</th>\n",
       "      <td>45222.000000</td>\n",
       "      <td>45222.000000</td>\n",
       "      <td>45222.000000</td>\n",
       "      <td>45222.000000</td>\n",
       "      <td>45222.000000</td>\n",
       "      <td>45222.000000</td>\n",
       "    </tr>\n",
       "    <tr>\n",
       "      <th>mean</th>\n",
       "      <td>38.547941</td>\n",
       "      <td>189734.734311</td>\n",
       "      <td>10.118460</td>\n",
       "      <td>1101.430344</td>\n",
       "      <td>88.595418</td>\n",
       "      <td>40.938017</td>\n",
       "    </tr>\n",
       "    <tr>\n",
       "      <th>std</th>\n",
       "      <td>13.217870</td>\n",
       "      <td>105639.195134</td>\n",
       "      <td>2.552881</td>\n",
       "      <td>7506.430084</td>\n",
       "      <td>404.956092</td>\n",
       "      <td>12.007508</td>\n",
       "    </tr>\n",
       "    <tr>\n",
       "      <th>min</th>\n",
       "      <td>17.000000</td>\n",
       "      <td>13492.000000</td>\n",
       "      <td>1.000000</td>\n",
       "      <td>0.000000</td>\n",
       "      <td>0.000000</td>\n",
       "      <td>1.000000</td>\n",
       "    </tr>\n",
       "    <tr>\n",
       "      <th>25%</th>\n",
       "      <td>28.000000</td>\n",
       "      <td>117388.250000</td>\n",
       "      <td>9.000000</td>\n",
       "      <td>0.000000</td>\n",
       "      <td>0.000000</td>\n",
       "      <td>40.000000</td>\n",
       "    </tr>\n",
       "    <tr>\n",
       "      <th>50%</th>\n",
       "      <td>37.000000</td>\n",
       "      <td>178316.000000</td>\n",
       "      <td>10.000000</td>\n",
       "      <td>0.000000</td>\n",
       "      <td>0.000000</td>\n",
       "      <td>40.000000</td>\n",
       "    </tr>\n",
       "    <tr>\n",
       "      <th>75%</th>\n",
       "      <td>47.000000</td>\n",
       "      <td>237926.000000</td>\n",
       "      <td>13.000000</td>\n",
       "      <td>0.000000</td>\n",
       "      <td>0.000000</td>\n",
       "      <td>45.000000</td>\n",
       "    </tr>\n",
       "    <tr>\n",
       "      <th>max</th>\n",
       "      <td>90.000000</td>\n",
       "      <td>1490400.000000</td>\n",
       "      <td>16.000000</td>\n",
       "      <td>99999.000000</td>\n",
       "      <td>4356.000000</td>\n",
       "      <td>99.000000</td>\n",
       "    </tr>\n",
       "  </tbody>\n",
       "</table>\n",
       "</div>"
      ],
      "text/plain": [
       "               age         fnlwgt  education-num  capital-gain  capital-loss  \\\n",
       "count 45222.000000   45222.000000   45222.000000  45222.000000  45222.000000   \n",
       "mean     38.547941  189734.734311      10.118460   1101.430344     88.595418   \n",
       "std      13.217870  105639.195134       2.552881   7506.430084    404.956092   \n",
       "min      17.000000   13492.000000       1.000000      0.000000      0.000000   \n",
       "25%      28.000000  117388.250000       9.000000      0.000000      0.000000   \n",
       "50%      37.000000  178316.000000      10.000000      0.000000      0.000000   \n",
       "75%      47.000000  237926.000000      13.000000      0.000000      0.000000   \n",
       "max      90.000000 1490400.000000      16.000000  99999.000000   4356.000000   \n",
       "\n",
       "       hours-per-week  \n",
       "count    45222.000000  \n",
       "mean        40.938017  \n",
       "std         12.007508  \n",
       "min          1.000000  \n",
       "25%         40.000000  \n",
       "50%         40.000000  \n",
       "75%         45.000000  \n",
       "max         99.000000  "
      ]
     },
     "execution_count": 14,
     "metadata": {},
     "output_type": "execute_result"
    }
   ],
   "source": [
    "df.describe()"
   ]
  },
  {
   "cell_type": "code",
   "execution_count": 15,
   "metadata": {},
   "outputs": [
    {
     "data": {
      "text/plain": [
       "array([[<matplotlib.axes._subplots.AxesSubplot object at 0x00000145112B57C0>,\n",
       "        <matplotlib.axes._subplots.AxesSubplot object at 0x0000014511990CD0>],\n",
       "       [<matplotlib.axes._subplots.AxesSubplot object at 0x00000145119CD160>,\n",
       "        <matplotlib.axes._subplots.AxesSubplot object at 0x00000145119F95B0>],\n",
       "       [<matplotlib.axes._subplots.AxesSubplot object at 0x0000014511A24A30>,\n",
       "        <matplotlib.axes._subplots.AxesSubplot object at 0x0000014511A51DC0>]],\n",
       "      dtype=object)"
      ]
     },
     "execution_count": 15,
     "metadata": {},
     "output_type": "execute_result"
    },
    {
     "data": {
      "image/png": "[encoded data removed]",
      "text/plain": [
       "<Figure size 864x864 with 6 Axes>"
      ]
     },
     "metadata": {
      "needs_background": "light"
     },
     "output_type": "display_data"
    }
   ],
   "source": [
    "from matplotlib import rcParams\n",
    "#Visualizing the numerical features of the dataset using histograms to analyze the distribution of those features in the dataset\n",
    "\n",
    "rcParams['figure.figsize'] = 12, 12\n",
    "df[['age', 'fnlwgt', 'education-num', 'capital-gain', 'capital-loss', 'hours-per-week']].hist()\n",
    "\n",
    "#Can visualise that data such as capital gain, capitaln loss, fnlwgt is right skewed an other columns can be grouped for better visualisation"
   ]
  },
  {
   "cell_type": "code",
   "execution_count": 16,
   "metadata": {},
   "outputs": [],
   "source": [
    "#Mapping binary values to the expected output\n",
    "\n",
    "df['class']=df['class'].map({' <=50K': 0, ' >50K': 1})"
   ]
  },
  {
   "cell_type": "code",
   "execution_count": 17,
   "metadata": {},
   "outputs": [
    {
     "data": {
      "image/png": "[encoded data removed]",
      "text/plain": [
       "<Figure size 864x864 with 2 Axes>"
      ]
     },
     "metadata": {
      "needs_background": "light"
     },
     "output_type": "display_data"
    }
   ],
   "source": [
    "#Ploting the correlation between the output(class) and individual features\n",
    "\n",
    "plt.matshow(df.corr())\n",
    "plt.colorbar()\n",
    "plt.xticks(np.arange(len(df.corr().columns)), df.corr().columns.values, rotation = 45) \n",
    "plt.yticks(np.arange(len(df.corr().columns)), df.corr().columns.values) \n",
    "for (i, j), corr in np.ndenumerate(df.corr()):\n",
    "    plt.text(j, i, '{:0.1f}'.format(corr), ha='center', va='center', color='white', fontsize=14)"
   ]
  },
  {
   "cell_type": "code",
   "execution_count": 18,
   "metadata": {},
   "outputs": [],
   "source": [
    "#Since it has 0 correlation, it can be dropped\n",
    "\n",
    "df.drop(['fnlwgt'], axis = 1, inplace = True)"
   ]
  },
  {
   "cell_type": "code",
   "execution_count": 19,
   "metadata": {},
   "outputs": [],
   "source": [
    "dataset=df.copy()"
   ]
  },
  {
   "cell_type": "code",
   "execution_count": 20,
   "metadata": {},
   "outputs": [],
   "source": [
    "#Distributing Age column in 3 significant parts and plotting it corresponding to the output feature(income)\n",
    "\n",
    "dataset['age'] = pd.cut(dataset['age'], bins = [0, 25, 50, 100], labels = ['Young', 'Adult', 'Old'])"
   ]
  },
  {
   "cell_type": "code",
   "execution_count": 18,
   "metadata": {},
   "outputs": [
    {
     "data": {
      "text/plain": [
       "<matplotlib.axes._subplots.AxesSubplot at 0xc3f1888>"
      ]
     },
     "execution_count": 18,
     "metadata": {},
     "output_type": "execute_result"
    },
    {
     "data": {
      "image/png": "[encoded data removed]",
      "text/plain": [
       "<Figure size 864x864 with 1 Axes>"
      ]
     },
     "metadata": {
      "needs_background": "light"
     },
     "output_type": "display_data"
    }
   ],
   "source": [
    "sns.countplot(x = 'age', hue ='class' , data = dataset)"
   ]
  },
  {
   "cell_type": "code",
   "execution_count": 19,
   "metadata": {},
   "outputs": [],
   "source": [
    "#Capital gain and capital loss can be combined and transformed into a feature capital difference. Plotting the new feature corresponding to income\n",
    "\n",
    "dataset['Capital Diff'] = dataset['capital-gain'] - dataset['capital-loss']\n",
    "dataset.drop(['capital-gain'], axis = 1, inplace = True)\n",
    "dataset.drop(['capital-loss'], axis = 1, inplace = True)"
   ]
  },
  {
   "cell_type": "code",
   "execution_count": 20,
   "metadata": {},
   "outputs": [
    {
     "data": {
      "text/plain": [
       "<matplotlib.axes._subplots.AxesSubplot at 0xc441fc8>"
      ]
     },
     "execution_count": 20,
     "metadata": {},
     "output_type": "execute_result"
    },
    {
     "data": {
      "image/png": "[encoded data removed]",
      "text/plain": [
       "<Figure size 864x864 with 1 Axes>"
      ]
     },
     "metadata": {
      "needs_background": "light"
     },
     "output_type": "display_data"
    }
   ],
   "source": [
    "dataset['Capital Diff'] = pd.cut(dataset['Capital Diff'], bins = [-5000, 5000, 100000], labels = ['Minor', 'Major'])\n",
    "sns.countplot(x ='Capital Diff' , hue = 'class', data = dataset)"
   ]
  },
  {
   "cell_type": "code",
   "execution_count": 21,
   "metadata": {},
   "outputs": [],
   "source": [
    "#Dividing hours of week in 3 major range and plotting it corresponding to the income\n",
    "\n",
    "dataset['Hours per Week'] = pd.cut(dataset['hours-per-week'], \n",
    "                                   bins = [0, 30, 40, 100], \n",
    "                                   labels = ['Lesser Hours', 'Normal Hours', 'Extra Hours'])"
   ]
  },
  {
   "cell_type": "code",
   "execution_count": 22,
   "metadata": {},
   "outputs": [
    {
     "data": {
      "text/plain": [
       "<matplotlib.axes._subplots.AxesSubplot at 0xc0d1088>"
      ]
     },
     "execution_count": 22,
     "metadata": {},
     "output_type": "execute_result"
    },
    {
     "data": {
      "image/png": "[encoded data removed]",
      "text/plain": [
       "<Figure size 864x864 with 1 Axes>"
      ]
     },
     "metadata": {
      "needs_background": "light"
     },
     "output_type": "display_data"
    }
   ],
   "source": [
    "sns.countplot(x ='Hours per Week' , hue = 'class', data = dataset)"
   ]
  },
  {
   "cell_type": "code",
   "execution_count": 23,
   "metadata": {},
   "outputs": [
    {
     "data": {
      "text/plain": [
       "<matplotlib.axes._subplots.AxesSubplot at 0xc0622c8>"
      ]
     },
     "execution_count": 23,
     "metadata": {},
     "output_type": "execute_result"
    },
    {
     "data": {
      "image/png": "[encoded data removed]",
      "text/plain": [
       "<Figure size 864x864 with 1 Axes>"
      ]
     },
     "metadata": {
      "needs_background": "light"
     },
     "output_type": "display_data"
    }
   ],
   "source": [
    "#Plotting workclass corresponding to the income\n",
    "\n",
    "sns.countplot(x = 'workclass', hue = 'class', data = dataset)"
   ]
  },
  {
   "cell_type": "code",
   "execution_count": 24,
   "metadata": {},
   "outputs": [
    {
     "data": {
      "text/plain": [
       "(array([ 0,  1,  2,  3,  4,  5,  6,  7,  8,  9, 10, 11, 12, 13, 14, 15]),\n",
       " <a list of 16 Text xticklabel objects>)"
      ]
     },
     "execution_count": 24,
     "metadata": {},
     "output_type": "execute_result"
    },
    {
     "data": {
      "image/png": "[encoded data removed]",
      "text/plain": [
       "<Figure size 864x864 with 1 Axes>"
      ]
     },
     "metadata": {
      "needs_background": "light"
     },
     "output_type": "display_data"
    }
   ],
   "source": [
    "#Plot of education corresponding to income\n",
    "\n",
    "sns.countplot(x ='education' , hue = 'class', data = dataset)\n",
    "plt.xticks(rotation=90)"
   ]
  },
  {
   "cell_type": "code",
   "execution_count": 25,
   "metadata": {},
   "outputs": [
    {
     "data": {
      "text/plain": [
       " HS-grad         14783\n",
       " Some-college     9899\n",
       " Bachelors        7570\n",
       " Masters          2514\n",
       " Assoc-voc        1959\n",
       " 11th             1619\n",
       " Assoc-acdm       1507\n",
       " 10th             1223\n",
       " 7th-8th           823\n",
       " Prof-school       785\n",
       " 9th               676\n",
       " 12th              577\n",
       " Doctorate         544\n",
       " 5th-6th           449\n",
       " 1st-4th           222\n",
       " Preschool          72\n",
       "Name: education, dtype: int64"
      ]
     },
     "execution_count": 25,
     "metadata": {},
     "output_type": "execute_result"
    }
   ],
   "source": [
    "#Combining the lower grades of education together\n",
    "\n",
    "df.drop(['education-num'], axis = 1, inplace = True)\n",
    "df['education'].replace(['11th', '9th', '7th-8th', '5th-6th', '10th', '1st-4th', 'Preschool', '12th'],\n",
    "                             ' School', inplace = True)\n",
    "df['education'].value_counts()"
   ]
  },
  {
   "cell_type": "code",
   "execution_count": 26,
   "metadata": {},
   "outputs": [
    {
     "data": {
      "text/plain": [
       "(array([ 0,  1,  2,  3,  4,  5,  6,  7,  8,  9, 10, 11, 12, 13, 14, 15]),\n",
       " <a list of 16 Text xticklabel objects>)"
      ]
     },
     "execution_count": 26,
     "metadata": {},
     "output_type": "execute_result"
    },
    {
     "data": {
      "image/png": "[encoded data removed]",
      "text/plain": [
       "<Figure size 864x864 with 1 Axes>"
      ]
     },
     "metadata": {
      "needs_background": "light"
     },
     "output_type": "display_data"
    }
   ],
   "source": [
    "sns.countplot(x ='education' , hue = 'class', data = dataset)\n",
    "plt.xticks(rotation=90)"
   ]
  },
  {
   "cell_type": "code",
   "execution_count": 27,
   "metadata": {},
   "outputs": [
    {
     "data": {
      "text/plain": [
       "<matplotlib.axes._subplots.AxesSubplot at 0xc1bbe08>"
      ]
     },
     "execution_count": 27,
     "metadata": {},
     "output_type": "execute_result"
    },
    {
     "data": {
      "image/png": "[encoded data removed]",
      "text/plain": [
       "<Figure size 864x864 with 1 Axes>"
      ]
     },
     "metadata": {
      "needs_background": "light"
     },
     "output_type": "display_data"
    }
   ],
   "source": [
    "#Plot of occupation corresponding to the income\n",
    "\n",
    "plt.xticks(rotation = 45)\n",
    "sns.countplot(x = 'occupation', hue = 'class', data = dataset)"
   ]
  },
  {
   "cell_type": "code",
   "execution_count": 28,
   "metadata": {},
   "outputs": [
    {
     "data": {
      "text/plain": [
       "<matplotlib.axes._subplots.AxesSubplot at 0xb864548>"
      ]
     },
     "execution_count": 28,
     "metadata": {},
     "output_type": "execute_result"
    },
    {
     "data": {
      "image/png": "[encoded data removed]",
      "text/plain": [
       "<Figure size 864x864 with 1 Axes>"
      ]
     },
     "metadata": {
      "needs_background": "light"
     },
     "output_type": "display_data"
    }
   ],
   "source": [
    "sns.countplot(x ='race' , hue = 'class', data = dataset)"
   ]
  },
  {
   "cell_type": "code",
   "execution_count": 29,
   "metadata": {},
   "outputs": [],
   "source": [
    "#Since majority of race is white, the rest of races can be combined together to form a new group\n",
    "\n",
    "df['race'].unique()\n",
    "df['race'].replace(['Black', 'Asian-Pac-Islander', 'Amer-Indian-Eskimo', 'Other'],' Other', inplace = True)"
   ]
  },
  {
   "cell_type": "code",
   "execution_count": 30,
   "metadata": {},
   "outputs": [
    {
     "data": {
      "text/plain": [
       "<matplotlib.axes._subplots.AxesSubplot at 0xc192508>"
      ]
     },
     "execution_count": 30,
     "metadata": {},
     "output_type": "execute_result"
    },
    {
     "data": {
      "image/png": "[encoded data removed]",
      "text/plain": [
       "<Figure size 864x864 with 1 Axes>"
      ]
     },
     "metadata": {
      "needs_background": "light"
     },
     "output_type": "display_data"
    }
   ],
   "source": [
    "#Plot of sex corresponding to income\n",
    "\n",
    "sns.countplot(x ='sex' , hue = 'class', data = dataset)"
   ]
  },
  {
   "cell_type": "code",
   "execution_count": 31,
   "metadata": {},
   "outputs": [
    {
     "data": {
      "text/plain": [
       " United-States                 41292\n",
       " Mexico                          903\n",
       " Philippines                     283\n",
       " Germany                         193\n",
       " Puerto-Rico                     175\n",
       " Canada                          163\n",
       " El-Salvador                     147\n",
       " India                           147\n",
       " Cuba                            133\n",
       " England                         119\n",
       " China                           113\n",
       " Jamaica                         103\n",
       " South                           101\n",
       " Italy                           100\n",
       " Dominican-Republic               97\n",
       " Japan                            89\n",
       " Guatemala                        86\n",
       " Vietnam                          83\n",
       " Columbia                         82\n",
       " Poland                           81\n",
       " Haiti                            69\n",
       " Portugal                         62\n",
       " Iran                             56\n",
       " Taiwan                           55\n",
       " Greece                           49\n",
       " Nicaragua                        48\n",
       " Peru                             45\n",
       " Ecuador                          43\n",
       " Ireland                          36\n",
       " France                           36\n",
       " Thailand                         29\n",
       " Hong                             28\n",
       " Cambodia                         26\n",
       " Trinadad&Tobago                  26\n",
       " Yugoslavia                       23\n",
       " Outlying-US(Guam-USVI-etc)       22\n",
       " Laos                             21\n",
       " Scotland                         20\n",
       " Honduras                         19\n",
       " Hungary                          18\n",
       " Holand-Netherlands                1\n",
       "Name: native-country, dtype: int64"
      ]
     },
     "execution_count": 31,
     "metadata": {},
     "output_type": "execute_result"
    }
   ],
   "source": [
    "count = dataset['native-country'].value_counts()\n",
    "count"
   ]
  },
  {
   "cell_type": "code",
   "execution_count": 32,
   "metadata": {},
   "outputs": [
    {
     "data": {
      "text/plain": [
       "Text(0.5, 1.0, 'Count from each Country')"
      ]
     },
     "execution_count": 32,
     "metadata": {},
     "output_type": "execute_result"
    },
    {
     "data": {
      "image/png": "[encoded data removed]",
      "text/plain": [
       "<Figure size 864x864 with 1 Axes>"
      ]
     },
     "metadata": {
      "needs_background": "light"
     },
     "output_type": "display_data"
    }
   ],
   "source": [
    "#Plot of Country corresponding to income\n",
    "\n",
    "\n",
    "plt.bar(count.index, count.values)\n",
    "plt.xticks(rotation=90)\n",
    "plt.xlabel('Countries')\n",
    "plt.ylabel('Count')\n",
    "plt.title('Count from each Country')"
   ]
  },
  {
   "cell_type": "code",
   "execution_count": 33,
   "metadata": {},
   "outputs": [],
   "source": [
    "#Combining all other into one class\n",
    "\n",
    "countries = np.array(dataset['native-country'].unique())\n",
    "countries = np.delete(countries, 0)"
   ]
  },
  {
   "cell_type": "code",
   "execution_count": 34,
   "metadata": {},
   "outputs": [],
   "source": [
    "dataset['native-country'].replace(countries, 'Other', inplace = True)\n",
    "df['native-country'].replace(countries, 'Other', inplace = True)"
   ]
  },
  {
   "cell_type": "code",
   "execution_count": 35,
   "metadata": {},
   "outputs": [
    {
     "data": {
      "text/plain": [
       "<matplotlib.axes._subplots.AxesSubplot at 0xc265388>"
      ]
     },
     "execution_count": 35,
     "metadata": {},
     "output_type": "execute_result"
    },
    {
     "data": {
      "image/png": "[encoded data removed]",
      "text/plain": [
       "<Figure size 864x864 with 1 Axes>"
      ]
     },
     "metadata": {
      "needs_background": "light"
     },
     "output_type": "display_data"
    }
   ],
   "source": [
    "sns.countplot(x = 'native-country', hue = 'class', data = dataset)"
   ]
  },
  {
   "cell_type": "code",
   "execution_count": 22,
   "metadata": {},
   "outputs": [],
   "source": [
    "df=pd.read_csv(\"E:/Mtech/Sem2/ml 2/project/ml2 project/adult.csv\")"
   ]
  },
  {
   "cell_type": "code",
   "execution_count": 23,
   "metadata": {},
   "outputs": [],
   "source": [
    "#Mapping binary values to the expected output\n",
    "\n",
    "df['class']=df['class'].map({' <=50K': 0, ' >50K': 1})"
   ]
  },
  {
   "cell_type": "code",
   "execution_count": 24,
   "metadata": {},
   "outputs": [
    {
     "data": {
      "text/html": [
       "<div>\n",
       "<style scoped>\n",
       "    .dataframe tbody tr th:only-of-type {\n",
       "        vertical-align: middle;\n",
       "    }\n",
       "\n",
       "    .dataframe tbody tr th {\n",
       "        vertical-align: top;\n",
       "    }\n",
       "\n",
       "    .dataframe thead th {\n",
       "        text-align: right;\n",
       "    }\n",
       "</style>\n",
       "<table border=\"1\" class=\"dataframe\">\n",
       "  <thead>\n",
       "    <tr style=\"text-align: right;\">\n",
       "      <th></th>\n",
       "      <th>age</th>\n",
       "      <th>workclass</th>\n",
       "      <th>fnlwgt</th>\n",
       "      <th>education</th>\n",
       "      <th>education-num</th>\n",
       "      <th>marital-status</th>\n",
       "      <th>occupation</th>\n",
       "      <th>relationship</th>\n",
       "      <th>race</th>\n",
       "      <th>sex</th>\n",
       "      <th>capital-gain</th>\n",
       "      <th>capital-loss</th>\n",
       "      <th>hours-per-week</th>\n",
       "      <th>native-country</th>\n",
       "      <th>class</th>\n",
       "    </tr>\n",
       "  </thead>\n",
       "  <tbody>\n",
       "    <tr>\n",
       "      <th>0</th>\n",
       "      <td>25</td>\n",
       "      <td>Private</td>\n",
       "      <td>226802</td>\n",
       "      <td>11th</td>\n",
       "      <td>7</td>\n",
       "      <td>Never-married</td>\n",
       "      <td>Machine-op-inspct</td>\n",
       "      <td>Own-child</td>\n",
       "      <td>Black</td>\n",
       "      <td>Male</td>\n",
       "      <td>0</td>\n",
       "      <td>0</td>\n",
       "      <td>40</td>\n",
       "      <td>United-States</td>\n",
       "      <td>0</td>\n",
       "    </tr>\n",
       "    <tr>\n",
       "      <th>1</th>\n",
       "      <td>38</td>\n",
       "      <td>Private</td>\n",
       "      <td>89814</td>\n",
       "      <td>HS-grad</td>\n",
       "      <td>9</td>\n",
       "      <td>Married-civ-spouse</td>\n",
       "      <td>Farming-fishing</td>\n",
       "      <td>Husband</td>\n",
       "      <td>White</td>\n",
       "      <td>Male</td>\n",
       "      <td>0</td>\n",
       "      <td>0</td>\n",
       "      <td>50</td>\n",
       "      <td>United-States</td>\n",
       "      <td>0</td>\n",
       "    </tr>\n",
       "    <tr>\n",
       "      <th>2</th>\n",
       "      <td>28</td>\n",
       "      <td>Local-gov</td>\n",
       "      <td>336951</td>\n",
       "      <td>Assoc-acdm</td>\n",
       "      <td>12</td>\n",
       "      <td>Married-civ-spouse</td>\n",
       "      <td>Protective-serv</td>\n",
       "      <td>Husband</td>\n",
       "      <td>White</td>\n",
       "      <td>Male</td>\n",
       "      <td>0</td>\n",
       "      <td>0</td>\n",
       "      <td>40</td>\n",
       "      <td>United-States</td>\n",
       "      <td>1</td>\n",
       "    </tr>\n",
       "    <tr>\n",
       "      <th>3</th>\n",
       "      <td>44</td>\n",
       "      <td>Private</td>\n",
       "      <td>160323</td>\n",
       "      <td>Some-college</td>\n",
       "      <td>10</td>\n",
       "      <td>Married-civ-spouse</td>\n",
       "      <td>Machine-op-inspct</td>\n",
       "      <td>Husband</td>\n",
       "      <td>Black</td>\n",
       "      <td>Male</td>\n",
       "      <td>7688</td>\n",
       "      <td>0</td>\n",
       "      <td>40</td>\n",
       "      <td>United-States</td>\n",
       "      <td>1</td>\n",
       "    </tr>\n",
       "    <tr>\n",
       "      <th>4</th>\n",
       "      <td>18</td>\n",
       "      <td>?</td>\n",
       "      <td>103497</td>\n",
       "      <td>Some-college</td>\n",
       "      <td>10</td>\n",
       "      <td>Never-married</td>\n",
       "      <td>?</td>\n",
       "      <td>Own-child</td>\n",
       "      <td>White</td>\n",
       "      <td>Female</td>\n",
       "      <td>0</td>\n",
       "      <td>0</td>\n",
       "      <td>30</td>\n",
       "      <td>United-States</td>\n",
       "      <td>0</td>\n",
       "    </tr>\n",
       "  </tbody>\n",
       "</table>\n",
       "</div>"
      ],
      "text/plain": [
       "   age   workclass  fnlwgt      education  education-num       marital-status  \\\n",
       "0   25     Private  226802           11th              7        Never-married   \n",
       "1   38     Private   89814        HS-grad              9   Married-civ-spouse   \n",
       "2   28   Local-gov  336951     Assoc-acdm             12   Married-civ-spouse   \n",
       "3   44     Private  160323   Some-college             10   Married-civ-spouse   \n",
       "4   18           ?  103497   Some-college             10        Never-married   \n",
       "\n",
       "           occupation relationship    race      sex  capital-gain  \\\n",
       "0   Machine-op-inspct    Own-child   Black     Male             0   \n",
       "1     Farming-fishing      Husband   White     Male             0   \n",
       "2     Protective-serv      Husband   White     Male             0   \n",
       "3   Machine-op-inspct      Husband   Black     Male          7688   \n",
       "4                   ?    Own-child   White   Female             0   \n",
       "\n",
       "   capital-loss  hours-per-week  native-country  class  \n",
       "0             0              40   United-States      0  \n",
       "1             0              50   United-States      0  \n",
       "2             0              40   United-States      1  \n",
       "3             0              40   United-States      1  \n",
       "4             0              30   United-States      0  "
      ]
     },
     "execution_count": 24,
     "metadata": {},
     "output_type": "execute_result"
    }
   ],
   "source": [
    "df.head()"
   ]
  },
  {
   "cell_type": "code",
   "execution_count": 25,
   "metadata": {},
   "outputs": [],
   "source": [
    "# store the target variable 'Chance of Admit' in a dataframe 'df_target'\n",
    "df_target = df['class']\n",
    "\n",
    "# store all the independent variables in a dataframe 'df_feature' \n",
    "# drop the column 'Chance of Admit' using drop()\n",
    "# 'axis = 1' drops the specified column\n",
    "df_feature = df.drop('class', axis = 1)"
   ]
  },
  {
   "cell_type": "code",
   "execution_count": 26,
   "metadata": {},
   "outputs": [
    {
     "data": {
      "text/plain": [
       "Index(['age', 'fnlwgt', 'education-num', 'capital-gain', 'capital-loss',\n",
       "       'hours-per-week'],\n",
       "      dtype='object')"
      ]
     },
     "execution_count": 26,
     "metadata": {},
     "output_type": "execute_result"
    }
   ],
   "source": [
    "df_num = df_feature.select_dtypes(include = [np.number])\n",
    "\n",
    "# display numerical features\n",
    "df_num.columns"
   ]
  },
  {
   "cell_type": "code",
   "execution_count": 27,
   "metadata": {},
   "outputs": [
    {
     "data": {
      "text/html": [
       "<div>\n",
       "<style scoped>\n",
       "    .dataframe tbody tr th:only-of-type {\n",
       "        vertical-align: middle;\n",
       "    }\n",
       "\n",
       "    .dataframe tbody tr th {\n",
       "        vertical-align: top;\n",
       "    }\n",
       "\n",
       "    .dataframe thead th {\n",
       "        text-align: right;\n",
       "    }\n",
       "</style>\n",
       "<table border=\"1\" class=\"dataframe\">\n",
       "  <thead>\n",
       "    <tr style=\"text-align: right;\">\n",
       "      <th></th>\n",
       "      <th>workclass</th>\n",
       "      <th>education</th>\n",
       "      <th>marital-status</th>\n",
       "      <th>occupation</th>\n",
       "      <th>relationship</th>\n",
       "      <th>race</th>\n",
       "      <th>sex</th>\n",
       "      <th>native-country</th>\n",
       "    </tr>\n",
       "  </thead>\n",
       "  <tbody>\n",
       "    <tr>\n",
       "      <th>0</th>\n",
       "      <td>Private</td>\n",
       "      <td>11th</td>\n",
       "      <td>Never-married</td>\n",
       "      <td>Machine-op-inspct</td>\n",
       "      <td>Own-child</td>\n",
       "      <td>Black</td>\n",
       "      <td>Male</td>\n",
       "      <td>United-States</td>\n",
       "    </tr>\n",
       "    <tr>\n",
       "      <th>1</th>\n",
       "      <td>Private</td>\n",
       "      <td>HS-grad</td>\n",
       "      <td>Married-civ-spouse</td>\n",
       "      <td>Farming-fishing</td>\n",
       "      <td>Husband</td>\n",
       "      <td>White</td>\n",
       "      <td>Male</td>\n",
       "      <td>United-States</td>\n",
       "    </tr>\n",
       "  </tbody>\n",
       "</table>\n",
       "</div>"
      ],
      "text/plain": [
       "  workclass education       marital-status          occupation relationship  \\\n",
       "0   Private      11th        Never-married   Machine-op-inspct    Own-child   \n",
       "1   Private   HS-grad   Married-civ-spouse     Farming-fishing      Husband   \n",
       "\n",
       "     race    sex  native-country  \n",
       "0   Black   Male   United-States  \n",
       "1   White   Male   United-States  "
      ]
     },
     "execution_count": 27,
     "metadata": {},
     "output_type": "execute_result"
    }
   ],
   "source": [
    "# 'include = [np.object]' will include all the categorical variables\n",
    "df_cat = df_feature.select_dtypes(include = [np.object])\n",
    "\n",
    "# display categorical features\n",
    "df_cat.head(2)"
   ]
  },
  {
   "cell_type": "code",
   "execution_count": 28,
   "metadata": {},
   "outputs": [
    {
     "data": {
      "text/html": [
       "<div>\n",
       "<style scoped>\n",
       "    .dataframe tbody tr th:only-of-type {\n",
       "        vertical-align: middle;\n",
       "    }\n",
       "\n",
       "    .dataframe tbody tr th {\n",
       "        vertical-align: top;\n",
       "    }\n",
       "\n",
       "    .dataframe thead th {\n",
       "        text-align: right;\n",
       "    }\n",
       "</style>\n",
       "<table border=\"1\" class=\"dataframe\">\n",
       "  <thead>\n",
       "    <tr style=\"text-align: right;\">\n",
       "      <th></th>\n",
       "      <th>age</th>\n",
       "      <th>education-num</th>\n",
       "      <th>capital-gain</th>\n",
       "      <th>capital-loss</th>\n",
       "      <th>hours-per-week</th>\n",
       "    </tr>\n",
       "  </thead>\n",
       "  <tbody>\n",
       "    <tr>\n",
       "      <th>0</th>\n",
       "      <td>25</td>\n",
       "      <td>7</td>\n",
       "      <td>0</td>\n",
       "      <td>0</td>\n",
       "      <td>40</td>\n",
       "    </tr>\n",
       "    <tr>\n",
       "      <th>1</th>\n",
       "      <td>38</td>\n",
       "      <td>9</td>\n",
       "      <td>0</td>\n",
       "      <td>0</td>\n",
       "      <td>50</td>\n",
       "    </tr>\n",
       "  </tbody>\n",
       "</table>\n",
       "</div>"
      ],
      "text/plain": [
       "   age  education-num  capital-gain  capital-loss  hours-per-week\n",
       "0   25              7             0             0              40\n",
       "1   38              9             0             0              50"
      ]
     },
     "execution_count": 28,
     "metadata": {},
     "output_type": "execute_result"
    }
   ],
   "source": [
    "df_num1=df_num.drop('fnlwgt',axis=1)\n",
    "df_num1.head(2)"
   ]
  },
  {
   "cell_type": "code",
   "execution_count": 29,
   "metadata": {},
   "outputs": [],
   "source": [
    "df_cat['sex']=pd.get_dummies(df_cat['sex'],drop_first=True)"
   ]
  },
  {
   "cell_type": "code",
   "execution_count": 30,
   "metadata": {},
   "outputs": [
    {
     "data": {
      "text/html": [
       "<div>\n",
       "<style scoped>\n",
       "    .dataframe tbody tr th:only-of-type {\n",
       "        vertical-align: middle;\n",
       "    }\n",
       "\n",
       "    .dataframe tbody tr th {\n",
       "        vertical-align: top;\n",
       "    }\n",
       "\n",
       "    .dataframe thead th {\n",
       "        text-align: right;\n",
       "    }\n",
       "</style>\n",
       "<table border=\"1\" class=\"dataframe\">\n",
       "  <thead>\n",
       "    <tr style=\"text-align: right;\">\n",
       "      <th></th>\n",
       "      <th>workclass</th>\n",
       "      <th>education</th>\n",
       "      <th>marital-status</th>\n",
       "      <th>occupation</th>\n",
       "      <th>relationship</th>\n",
       "      <th>race</th>\n",
       "      <th>sex</th>\n",
       "      <th>native-country</th>\n",
       "    </tr>\n",
       "  </thead>\n",
       "  <tbody>\n",
       "    <tr>\n",
       "      <th>0</th>\n",
       "      <td>Private</td>\n",
       "      <td>11th</td>\n",
       "      <td>Never-married</td>\n",
       "      <td>Machine-op-inspct</td>\n",
       "      <td>Own-child</td>\n",
       "      <td>Black</td>\n",
       "      <td>1</td>\n",
       "      <td>United-States</td>\n",
       "    </tr>\n",
       "    <tr>\n",
       "      <th>1</th>\n",
       "      <td>Private</td>\n",
       "      <td>HS-grad</td>\n",
       "      <td>Married-civ-spouse</td>\n",
       "      <td>Farming-fishing</td>\n",
       "      <td>Husband</td>\n",
       "      <td>White</td>\n",
       "      <td>1</td>\n",
       "      <td>United-States</td>\n",
       "    </tr>\n",
       "  </tbody>\n",
       "</table>\n",
       "</div>"
      ],
      "text/plain": [
       "  workclass education       marital-status          occupation relationship  \\\n",
       "0   Private      11th        Never-married   Machine-op-inspct    Own-child   \n",
       "1   Private   HS-grad   Married-civ-spouse     Farming-fishing      Husband   \n",
       "\n",
       "     race  sex  native-country  \n",
       "0   Black    1   United-States  \n",
       "1   White    1   United-States  "
      ]
     },
     "execution_count": 30,
     "metadata": {},
     "output_type": "execute_result"
    }
   ],
   "source": [
    "df_cat.head(2)"
   ]
  },
  {
   "cell_type": "code",
   "execution_count": 31,
   "metadata": {},
   "outputs": [
    {
     "data": {
      "text/html": [
       "<div>\n",
       "<style scoped>\n",
       "    .dataframe tbody tr th:only-of-type {\n",
       "        vertical-align: middle;\n",
       "    }\n",
       "\n",
       "    .dataframe tbody tr th {\n",
       "        vertical-align: top;\n",
       "    }\n",
       "\n",
       "    .dataframe thead th {\n",
       "        text-align: right;\n",
       "    }\n",
       "</style>\n",
       "<table border=\"1\" class=\"dataframe\">\n",
       "  <thead>\n",
       "    <tr style=\"text-align: right;\">\n",
       "      <th></th>\n",
       "      <th>workclass</th>\n",
       "      <th>education</th>\n",
       "      <th>marital-status</th>\n",
       "      <th>occupation</th>\n",
       "      <th>relationship</th>\n",
       "      <th>sex</th>\n",
       "      <th>native-country</th>\n",
       "      <th>Asian-Pac-Islander</th>\n",
       "      <th>Black</th>\n",
       "      <th>Other</th>\n",
       "      <th>White</th>\n",
       "    </tr>\n",
       "  </thead>\n",
       "  <tbody>\n",
       "    <tr>\n",
       "      <th>0</th>\n",
       "      <td>Private</td>\n",
       "      <td>11th</td>\n",
       "      <td>Never-married</td>\n",
       "      <td>Machine-op-inspct</td>\n",
       "      <td>Own-child</td>\n",
       "      <td>1</td>\n",
       "      <td>United-States</td>\n",
       "      <td>0</td>\n",
       "      <td>1</td>\n",
       "      <td>0</td>\n",
       "      <td>0</td>\n",
       "    </tr>\n",
       "    <tr>\n",
       "      <th>1</th>\n",
       "      <td>Private</td>\n",
       "      <td>HS-grad</td>\n",
       "      <td>Married-civ-spouse</td>\n",
       "      <td>Farming-fishing</td>\n",
       "      <td>Husband</td>\n",
       "      <td>1</td>\n",
       "      <td>United-States</td>\n",
       "      <td>0</td>\n",
       "      <td>0</td>\n",
       "      <td>0</td>\n",
       "      <td>1</td>\n",
       "    </tr>\n",
       "  </tbody>\n",
       "</table>\n",
       "</div>"
      ],
      "text/plain": [
       "  workclass education       marital-status          occupation relationship  \\\n",
       "0   Private      11th        Never-married   Machine-op-inspct    Own-child   \n",
       "1   Private   HS-grad   Married-civ-spouse     Farming-fishing      Husband   \n",
       "\n",
       "   sex  native-country   Asian-Pac-Islander   Black   Other   White  \n",
       "0    1   United-States                    0       1       0       0  \n",
       "1    1   United-States                    0       0       0       1  "
      ]
     },
     "execution_count": 31,
     "metadata": {},
     "output_type": "execute_result"
    }
   ],
   "source": [
    "race_dum=pd.get_dummies(df_cat['race'],drop_first=True)\n",
    "df_cat=df_cat.merge(race_dum,left_index=True,right_index=True)\n",
    "df_cat.drop('race',axis=1,inplace=True)\n",
    "df_cat.head(2)"
   ]
  },
  {
   "cell_type": "code",
   "execution_count": 32,
   "metadata": {},
   "outputs": [
    {
     "data": {
      "text/html": [
       "<div>\n",
       "<style scoped>\n",
       "    .dataframe tbody tr th:only-of-type {\n",
       "        vertical-align: middle;\n",
       "    }\n",
       "\n",
       "    .dataframe tbody tr th {\n",
       "        vertical-align: top;\n",
       "    }\n",
       "\n",
       "    .dataframe thead th {\n",
       "        text-align: right;\n",
       "    }\n",
       "</style>\n",
       "<table border=\"1\" class=\"dataframe\">\n",
       "  <thead>\n",
       "    <tr style=\"text-align: right;\">\n",
       "      <th></th>\n",
       "      <th>workclass</th>\n",
       "      <th>education</th>\n",
       "      <th>marital-status</th>\n",
       "      <th>occupation</th>\n",
       "      <th>relationship</th>\n",
       "      <th>sex</th>\n",
       "      <th>native-country</th>\n",
       "      <th>Asian-Pac-Islander</th>\n",
       "      <th>Black</th>\n",
       "      <th>Other</th>\n",
       "      <th>White</th>\n",
       "    </tr>\n",
       "  </thead>\n",
       "  <tbody>\n",
       "    <tr>\n",
       "      <th>0</th>\n",
       "      <td>4</td>\n",
       "      <td>1</td>\n",
       "      <td>4</td>\n",
       "      <td>7</td>\n",
       "      <td>3</td>\n",
       "      <td>1</td>\n",
       "      <td>39</td>\n",
       "      <td>0</td>\n",
       "      <td>1</td>\n",
       "      <td>0</td>\n",
       "      <td>0</td>\n",
       "    </tr>\n",
       "    <tr>\n",
       "      <th>1</th>\n",
       "      <td>4</td>\n",
       "      <td>11</td>\n",
       "      <td>2</td>\n",
       "      <td>5</td>\n",
       "      <td>0</td>\n",
       "      <td>1</td>\n",
       "      <td>39</td>\n",
       "      <td>0</td>\n",
       "      <td>0</td>\n",
       "      <td>0</td>\n",
       "      <td>1</td>\n",
       "    </tr>\n",
       "    <tr>\n",
       "      <th>2</th>\n",
       "      <td>2</td>\n",
       "      <td>7</td>\n",
       "      <td>2</td>\n",
       "      <td>11</td>\n",
       "      <td>0</td>\n",
       "      <td>1</td>\n",
       "      <td>39</td>\n",
       "      <td>0</td>\n",
       "      <td>0</td>\n",
       "      <td>0</td>\n",
       "      <td>1</td>\n",
       "    </tr>\n",
       "    <tr>\n",
       "      <th>3</th>\n",
       "      <td>4</td>\n",
       "      <td>15</td>\n",
       "      <td>2</td>\n",
       "      <td>7</td>\n",
       "      <td>0</td>\n",
       "      <td>1</td>\n",
       "      <td>39</td>\n",
       "      <td>0</td>\n",
       "      <td>1</td>\n",
       "      <td>0</td>\n",
       "      <td>0</td>\n",
       "    </tr>\n",
       "    <tr>\n",
       "      <th>4</th>\n",
       "      <td>0</td>\n",
       "      <td>15</td>\n",
       "      <td>4</td>\n",
       "      <td>0</td>\n",
       "      <td>3</td>\n",
       "      <td>0</td>\n",
       "      <td>39</td>\n",
       "      <td>0</td>\n",
       "      <td>0</td>\n",
       "      <td>0</td>\n",
       "      <td>1</td>\n",
       "    </tr>\n",
       "  </tbody>\n",
       "</table>\n",
       "</div>"
      ],
      "text/plain": [
       "   workclass  education  marital-status  occupation  relationship  sex  \\\n",
       "0          4          1               4           7             3    1   \n",
       "1          4         11               2           5             0    1   \n",
       "2          2          7               2          11             0    1   \n",
       "3          4         15               2           7             0    1   \n",
       "4          0         15               4           0             3    0   \n",
       "\n",
       "   native-country   Asian-Pac-Islander   Black   Other   White  \n",
       "0              39                    0       1       0       0  \n",
       "1              39                    0       0       0       1  \n",
       "2              39                    0       0       0       1  \n",
       "3              39                    0       1       0       0  \n",
       "4              39                    0       0       0       1  "
      ]
     },
     "execution_count": 32,
     "metadata": {},
     "output_type": "execute_result"
    }
   ],
   "source": [
    "categorical_cols=df_cat.columns\n",
    "for col in categorical_cols:\n",
    "    b, c = np.unique(df_cat[col], return_inverse=True) \n",
    "    df_cat[col] = c\n",
    "\n",
    "df_cat.head()"
   ]
  },
  {
   "cell_type": "code",
   "execution_count": 33,
   "metadata": {},
   "outputs": [
    {
     "data": {
      "text/html": [
       "<div>\n",
       "<style scoped>\n",
       "    .dataframe tbody tr th:only-of-type {\n",
       "        vertical-align: middle;\n",
       "    }\n",
       "\n",
       "    .dataframe tbody tr th {\n",
       "        vertical-align: top;\n",
       "    }\n",
       "\n",
       "    .dataframe thead th {\n",
       "        text-align: right;\n",
       "    }\n",
       "</style>\n",
       "<table border=\"1\" class=\"dataframe\">\n",
       "  <thead>\n",
       "    <tr style=\"text-align: right;\">\n",
       "      <th></th>\n",
       "      <th>age</th>\n",
       "      <th>education-num</th>\n",
       "      <th>capital-gain</th>\n",
       "      <th>capital-loss</th>\n",
       "      <th>hours-per-week</th>\n",
       "      <th>workclass</th>\n",
       "      <th>education</th>\n",
       "      <th>marital-status</th>\n",
       "      <th>occupation</th>\n",
       "      <th>relationship</th>\n",
       "      <th>sex</th>\n",
       "      <th>native-country</th>\n",
       "      <th>Asian-Pac-Islander</th>\n",
       "      <th>Black</th>\n",
       "      <th>Other</th>\n",
       "      <th>White</th>\n",
       "    </tr>\n",
       "  </thead>\n",
       "  <tbody>\n",
       "    <tr>\n",
       "      <th>0</th>\n",
       "      <td>25</td>\n",
       "      <td>7</td>\n",
       "      <td>0</td>\n",
       "      <td>0</td>\n",
       "      <td>40</td>\n",
       "      <td>4</td>\n",
       "      <td>1</td>\n",
       "      <td>4</td>\n",
       "      <td>7</td>\n",
       "      <td>3</td>\n",
       "      <td>1</td>\n",
       "      <td>39</td>\n",
       "      <td>0</td>\n",
       "      <td>1</td>\n",
       "      <td>0</td>\n",
       "      <td>0</td>\n",
       "    </tr>\n",
       "    <tr>\n",
       "      <th>1</th>\n",
       "      <td>38</td>\n",
       "      <td>9</td>\n",
       "      <td>0</td>\n",
       "      <td>0</td>\n",
       "      <td>50</td>\n",
       "      <td>4</td>\n",
       "      <td>11</td>\n",
       "      <td>2</td>\n",
       "      <td>5</td>\n",
       "      <td>0</td>\n",
       "      <td>1</td>\n",
       "      <td>39</td>\n",
       "      <td>0</td>\n",
       "      <td>0</td>\n",
       "      <td>0</td>\n",
       "      <td>1</td>\n",
       "    </tr>\n",
       "    <tr>\n",
       "      <th>2</th>\n",
       "      <td>28</td>\n",
       "      <td>12</td>\n",
       "      <td>0</td>\n",
       "      <td>0</td>\n",
       "      <td>40</td>\n",
       "      <td>2</td>\n",
       "      <td>7</td>\n",
       "      <td>2</td>\n",
       "      <td>11</td>\n",
       "      <td>0</td>\n",
       "      <td>1</td>\n",
       "      <td>39</td>\n",
       "      <td>0</td>\n",
       "      <td>0</td>\n",
       "      <td>0</td>\n",
       "      <td>1</td>\n",
       "    </tr>\n",
       "    <tr>\n",
       "      <th>3</th>\n",
       "      <td>44</td>\n",
       "      <td>10</td>\n",
       "      <td>7688</td>\n",
       "      <td>0</td>\n",
       "      <td>40</td>\n",
       "      <td>4</td>\n",
       "      <td>15</td>\n",
       "      <td>2</td>\n",
       "      <td>7</td>\n",
       "      <td>0</td>\n",
       "      <td>1</td>\n",
       "      <td>39</td>\n",
       "      <td>0</td>\n",
       "      <td>1</td>\n",
       "      <td>0</td>\n",
       "      <td>0</td>\n",
       "    </tr>\n",
       "    <tr>\n",
       "      <th>4</th>\n",
       "      <td>18</td>\n",
       "      <td>10</td>\n",
       "      <td>0</td>\n",
       "      <td>0</td>\n",
       "      <td>30</td>\n",
       "      <td>0</td>\n",
       "      <td>15</td>\n",
       "      <td>4</td>\n",
       "      <td>0</td>\n",
       "      <td>3</td>\n",
       "      <td>0</td>\n",
       "      <td>39</td>\n",
       "      <td>0</td>\n",
       "      <td>0</td>\n",
       "      <td>0</td>\n",
       "      <td>1</td>\n",
       "    </tr>\n",
       "  </tbody>\n",
       "</table>\n",
       "</div>"
      ],
      "text/plain": [
       "   age  education-num  capital-gain  capital-loss  hours-per-week  workclass  \\\n",
       "0   25              7             0             0              40          4   \n",
       "1   38              9             0             0              50          4   \n",
       "2   28             12             0             0              40          2   \n",
       "3   44             10          7688             0              40          4   \n",
       "4   18             10             0             0              30          0   \n",
       "\n",
       "   education  marital-status  occupation  relationship  sex  native-country  \\\n",
       "0          1               4           7             3    1              39   \n",
       "1         11               2           5             0    1              39   \n",
       "2          7               2          11             0    1              39   \n",
       "3         15               2           7             0    1              39   \n",
       "4         15               4           0             3    0              39   \n",
       "\n",
       "    Asian-Pac-Islander   Black   Other   White  \n",
       "0                    0       1       0       0  \n",
       "1                    0       0       0       1  \n",
       "2                    0       0       0       1  \n",
       "3                    0       1       0       0  \n",
       "4                    0       0       0       1  "
      ]
     },
     "execution_count": 33,
     "metadata": {},
     "output_type": "execute_result"
    }
   ],
   "source": [
    "X = pd.concat([df_num1, df_cat], axis = 1)\n",
    "\n",
    "# display first five observations\n",
    "X.head()"
   ]
  },
  {
   "cell_type": "code",
   "execution_count": 48,
   "metadata": {},
   "outputs": [
    {
     "name": "stdout",
     "output_type": "stream",
     "text": [
      "X_train (39073, 16)\n",
      "y_train (39073,)\n",
      "X_test (9769, 16)\n",
      "y_test (9769,)\n"
     ]
    }
   ],
   "source": [
    "X_train, X_test, y_train, y_test = train_test_split(X, df_target, random_state = 10, test_size = 0.2)\n",
    "\n",
    "# check the dimensions of the train & test subset using 'shape'\n",
    "# print dimension of train set\n",
    "print('X_train', X_train.shape)\n",
    "print('y_train', y_train.shape)\n",
    "\n",
    "# print dimension of test set\n",
    "print('X_test', X_test.shape)\n",
    "print('y_test', y_test.shape)"
   ]
  },
  {
   "cell_type": "code",
   "execution_count": 35,
   "metadata": {},
   "outputs": [],
   "source": [
    "y=df_target.copy()"
   ]
  },
  {
   "cell_type": "code",
   "execution_count": 36,
   "metadata": {},
   "outputs": [],
   "source": [
    "X, X_val, y, y_val = train_test_split(X, y, random_state=0, test_size=0.2, shuffle=False)"
   ]
  },
  {
   "cell_type": "code",
   "execution_count": 47,
   "metadata": {},
   "outputs": [],
   "source": [
    "class Optimizer:\n",
    "    def __init__(self, metric, trials=30):\n",
    "        self.metric = metric\n",
    "        self.trials = trials\n",
    "        \n",
    "        \n",
    "    def objective(self, trial):\n",
    "        model = create_model(trial)\n",
    "        model.fit(X, y)\n",
    "        preds = model.predict(X_val)\n",
    "        if self.metric == 'acc':\n",
    "            return accuracy_score(y_val, preds)\n",
    "        else:\n",
    "            return f1_score(y_val, preds)\n",
    "            \n",
    "    def optimize(self):\n",
    "        study = optuna.create_study(direction=\"maximize\")\n",
    "        study.optimize(self.objective, n_trials=self.trials)\n",
    "        return study.best_params"
   ]
  },
  {
   "cell_type": "code",
   "execution_count": 65,
   "metadata": {},
   "outputs": [],
   "source": [
    "from sklearn.metrics import accuracy_score\n",
    "from sklearn.metrics import f1_score\n",
    "import optuna\n",
    "from xgboost import XGBClassifier\n",
    "from lightgbm import LGBMModel,LGBMClassifier\n",
    "from sklearn.linear_model import LogisticRegression\n",
    "from sklearn.ensemble import BaggingClassifier\n",
    "from sklearn.neighbors import KNeighborsClassifier"
   ]
  },
  {
   "cell_type": "code",
   "execution_count": 48,
   "metadata": {},
   "outputs": [
    {
     "name": "stderr",
     "output_type": "stream",
     "text": [
      "\u001b[32m[I 2020-11-14 15:14:59,107]\u001b[0m A new study created in memory with name: no-name-4339cde5-9897-4b19-9fc8-ba459a9cf2a1\u001b[0m\n"
     ]
    },
    {
     "name": "stdout",
     "output_type": "stream",
     "text": [
      "Random Forest accuracy:  0.8539256832838571\n",
      "Random Forest f1-score:  0.6854749834692528\n"
     ]
    },
    {
     "name": "stderr",
     "output_type": "stream",
     "text": [
      "\u001b[32m[I 2020-11-14 15:15:00,628]\u001b[0m Trial 0 finished with value: 0.30682617874736107 and parameters: {'max_depth': 2, 'n_estimators': 113, 'min_samples_leaf': 2}. Best is trial 0 with value: 0.30682617874736107.\u001b[0m\n",
      "\u001b[32m[I 2020-11-14 15:15:01,323]\u001b[0m Trial 1 finished with value: 0.6515566625155667 and parameters: {'max_depth': 6, 'n_estimators': 35, 'min_samples_leaf': 2}. Best is trial 1 with value: 0.6515566625155667.\u001b[0m\n",
      "\u001b[32m[I 2020-11-14 15:15:01,686]\u001b[0m Trial 2 finished with value: 0.5032679738562091 and parameters: {'max_depth': 3, 'n_estimators': 26, 'min_samples_leaf': 1}. Best is trial 1 with value: 0.6515566625155667.\u001b[0m\n",
      "\u001b[32m[I 2020-11-14 15:15:02,114]\u001b[0m Trial 3 finished with value: 0.34102652428522223 and parameters: {'max_depth': 2, 'n_estimators': 37, 'min_samples_leaf': 9}. Best is trial 1 with value: 0.6515566625155667.\u001b[0m\n",
      "\u001b[32m[I 2020-11-14 15:15:03,682]\u001b[0m Trial 4 finished with value: 0.6336734693877552 and parameters: {'max_depth': 5, 'n_estimators': 92, 'min_samples_leaf': 10}. Best is trial 1 with value: 0.6515566625155667.\u001b[0m\n",
      "\u001b[32m[I 2020-11-14 15:15:05,791]\u001b[0m Trial 5 finished with value: 0.6345177664974619 and parameters: {'max_depth': 5, 'n_estimators': 111, 'min_samples_leaf': 2}. Best is trial 1 with value: 0.6515566625155667.\u001b[0m\n",
      "\u001b[32m[I 2020-11-14 15:15:06,505]\u001b[0m Trial 6 finished with value: 0.6158236057068742 and parameters: {'max_depth': 4, 'n_estimators': 45, 'min_samples_leaf': 4}. Best is trial 1 with value: 0.6515566625155667.\u001b[0m\n",
      "\u001b[32m[I 2020-11-14 15:15:07,395]\u001b[0m Trial 7 finished with value: 0.5481313703284258 and parameters: {'max_depth': 3, 'n_estimators': 59, 'min_samples_leaf': 4}. Best is trial 1 with value: 0.6515566625155667.\u001b[0m\n",
      "\u001b[32m[I 2020-11-14 15:15:07,539]\u001b[0m Trial 8 finished with value: 0.6305988928032209 and parameters: {'max_depth': 5, 'n_estimators': 4, 'min_samples_leaf': 1}. Best is trial 1 with value: 0.6515566625155667.\u001b[0m\n",
      "\u001b[32m[I 2020-11-14 15:15:07,691]\u001b[0m Trial 9 finished with value: 0.6383299798792756 and parameters: {'max_depth': 6, 'n_estimators': 4, 'min_samples_leaf': 10}. Best is trial 1 with value: 0.6515566625155667.\u001b[0m\n",
      "\u001b[32m[I 2020-11-14 15:15:10,885]\u001b[0m Trial 10 finished with value: 0.6482035928143712 and parameters: {'max_depth': 6, 'n_estimators': 150, 'min_samples_leaf': 7}. Best is trial 1 with value: 0.6515566625155667.\u001b[0m\n",
      "\u001b[32m[I 2020-11-14 15:15:13,662]\u001b[0m Trial 11 finished with value: 0.64906600249066 and parameters: {'max_depth': 6, 'n_estimators': 141, 'min_samples_leaf': 7}. Best is trial 1 with value: 0.6515566625155667.\u001b[0m\n",
      "\u001b[32m[I 2020-11-14 15:15:16,663]\u001b[0m Trial 12 finished with value: 0.6492146596858638 and parameters: {'max_depth': 6, 'n_estimators': 149, 'min_samples_leaf': 7}. Best is trial 1 with value: 0.6515566625155667.\u001b[0m\n",
      "\u001b[32m[I 2020-11-14 15:15:18,137]\u001b[0m Trial 13 finished with value: 0.6467786412634745 and parameters: {'max_depth': 6, 'n_estimators': 76, 'min_samples_leaf': 6}. Best is trial 1 with value: 0.6515566625155667.\u001b[0m\n",
      "\u001b[32m[I 2020-11-14 15:15:18,589]\u001b[0m Trial 14 finished with value: 0.6377177480434234 and parameters: {'max_depth': 5, 'n_estimators': 24, 'min_samples_leaf': 8}. Best is trial 1 with value: 0.6515566625155667.\u001b[0m\n",
      "\u001b[32m[I 2020-11-14 15:15:19,652]\u001b[0m Trial 15 finished with value: 0.6153846153846153 and parameters: {'max_depth': 4, 'n_estimators': 69, 'min_samples_leaf': 4}. Best is trial 1 with value: 0.6515566625155667.\u001b[0m\n",
      "\u001b[32m[I 2020-11-14 15:15:22,278]\u001b[0m Trial 16 finished with value: 0.6505844317333996 and parameters: {'max_depth': 6, 'n_estimators': 129, 'min_samples_leaf': 5}. Best is trial 1 with value: 0.6515566625155667.\u001b[0m\n",
      "\u001b[32m[I 2020-11-14 15:15:24,858]\u001b[0m Trial 17 finished with value: 0.6367553865652725 and parameters: {'max_depth': 5, 'n_estimators': 129, 'min_samples_leaf': 5}. Best is trial 1 with value: 0.6515566625155667.\u001b[0m\n",
      "\u001b[32m[I 2020-11-14 15:15:26,746]\u001b[0m Trial 18 finished with value: 0.6482035928143712 and parameters: {'max_depth': 6, 'n_estimators': 97, 'min_samples_leaf': 3}. Best is trial 1 with value: 0.6515566625155667.\u001b[0m\n",
      "\u001b[32m[I 2020-11-14 15:15:27,801]\u001b[0m Trial 19 finished with value: 0.6101871101871102 and parameters: {'max_depth': 4, 'n_estimators': 53, 'min_samples_leaf': 5}. Best is trial 1 with value: 0.6515566625155667.\u001b[0m\n",
      "\u001b[32m[I 2020-11-14 15:15:28,187]\u001b[0m Trial 20 finished with value: 0.6375347309926749 and parameters: {'max_depth': 5, 'n_estimators': 20, 'min_samples_leaf': 3}. Best is trial 1 with value: 0.6515566625155667.\u001b[0m\n",
      "\u001b[32m[I 2020-11-14 15:15:31,050]\u001b[0m Trial 21 finished with value: 0.6482035928143712 and parameters: {'max_depth': 6, 'n_estimators': 150, 'min_samples_leaf': 7}. Best is trial 1 with value: 0.6515566625155667.\u001b[0m\n",
      "\u001b[32m[I 2020-11-14 15:15:33,716]\u001b[0m Trial 22 finished with value: 0.6481897627965043 and parameters: {'max_depth': 6, 'n_estimators': 131, 'min_samples_leaf': 6}. Best is trial 1 with value: 0.6515566625155667.\u001b[0m\n",
      "\u001b[32m[I 2020-11-14 15:15:36,457]\u001b[0m Trial 23 finished with value: 0.6500622665006227 and parameters: {'max_depth': 6, 'n_estimators': 123, 'min_samples_leaf': 8}. Best is trial 1 with value: 0.6515566625155667.\u001b[0m\n",
      "\u001b[32m[I 2020-11-14 15:15:39,646]\u001b[0m Trial 24 finished with value: 0.6344441617908929 and parameters: {'max_depth': 5, 'n_estimators': 116, 'min_samples_leaf': 9}. Best is trial 1 with value: 0.6515566625155667.\u001b[0m\n",
      "\u001b[32m[I 2020-11-14 15:15:41,828]\u001b[0m Trial 25 finished with value: 0.6492015968063872 and parameters: {'max_depth': 6, 'n_estimators': 90, 'min_samples_leaf': 8}. Best is trial 1 with value: 0.6515566625155667.\u001b[0m\n",
      "\u001b[32m[I 2020-11-14 15:15:45,841]\u001b[0m Trial 26 finished with value: 0.6521739130434783 and parameters: {'max_depth': 6, 'n_estimators': 126, 'min_samples_leaf': 2}. Best is trial 26 with value: 0.6521739130434783.\u001b[0m\n",
      "\u001b[32m[I 2020-11-14 15:15:47,803]\u001b[0m Trial 27 finished with value: 0.6352344740177439 and parameters: {'max_depth': 5, 'n_estimators': 101, 'min_samples_leaf': 2}. Best is trial 26 with value: 0.6521739130434783.\u001b[0m\n",
      "\u001b[32m[I 2020-11-14 15:15:49,827]\u001b[0m Trial 28 finished with value: 0.5310405129699797 and parameters: {'max_depth': 3, 'n_estimators': 138, 'min_samples_leaf': 3}. Best is trial 26 with value: 0.6521739130434783.\u001b[0m\n",
      "\u001b[32m[I 2020-11-14 15:15:51,467]\u001b[0m Trial 29 finished with value: 0.6480923694779116 and parameters: {'max_depth': 6, 'n_estimators': 81, 'min_samples_leaf': 1}. Best is trial 26 with value: 0.6521739130434783.\u001b[0m\n",
      "\u001b[32m[I 2020-11-14 15:15:54,393]\u001b[0m A new study created in memory with name: no-name-36227074-5524-447d-9bc1-cda8b529ee85\u001b[0m\n"
     ]
    },
    {
     "name": "stdout",
     "output_type": "stream",
     "text": [
      "Optimized on F1 score\n",
      "Optimized Random Forest:  0.8575084450813799\n",
      "Optimized Random Forest f1-score:  0.6521739130434783\n"
     ]
    },
    {
     "name": "stderr",
     "output_type": "stream",
     "text": [
      "\u001b[32m[I 2020-11-14 15:15:57,229]\u001b[0m Trial 0 finished with value: 0.8530044016787798 and parameters: {'max_depth': 5, 'n_estimators': 134, 'min_samples_leaf': 3}. Best is trial 0 with value: 0.8530044016787798.\u001b[0m\n",
      "\u001b[32m[I 2020-11-14 15:15:58,417]\u001b[0m Trial 1 finished with value: 0.7975227761285699 and parameters: {'max_depth': 2, 'n_estimators': 95, 'min_samples_leaf': 4}. Best is trial 0 with value: 0.8530044016787798.\u001b[0m\n",
      "\u001b[32m[I 2020-11-14 15:15:59,180]\u001b[0m Trial 2 finished with value: 0.8372402497696796 and parameters: {'max_depth': 3, 'n_estimators': 51, 'min_samples_leaf': 6}. Best is trial 0 with value: 0.8530044016787798.\u001b[0m\n",
      "\u001b[32m[I 2020-11-14 15:16:00,084]\u001b[0m Trial 3 finished with value: 0.8560753403623708 and parameters: {'max_depth': 6, 'n_estimators': 32, 'min_samples_leaf': 4}. Best is trial 3 with value: 0.8560753403623708.\u001b[0m\n",
      "\u001b[32m[I 2020-11-14 15:16:01,760]\u001b[0m Trial 4 finished with value: 0.8531067663015662 and parameters: {'max_depth': 5, 'n_estimators': 91, 'min_samples_leaf': 10}. Best is trial 3 with value: 0.8560753403623708.\u001b[0m\n",
      "\u001b[32m[I 2020-11-14 15:16:04,138]\u001b[0m Trial 5 finished with value: 0.8534138601699253 and parameters: {'max_depth': 5, 'n_estimators': 104, 'min_samples_leaf': 5}. Best is trial 3 with value: 0.8560753403623708.\u001b[0m\n",
      "\u001b[32m[I 2020-11-14 15:16:06,482]\u001b[0m Trial 6 finished with value: 0.8496263691268298 and parameters: {'max_depth': 4, 'n_estimators': 119, 'min_samples_leaf': 8}. Best is trial 3 with value: 0.8560753403623708.\u001b[0m\n",
      "\u001b[32m[I 2020-11-14 15:16:06,555]\u001b[0m Trial 7 finished with value: 0.8100112601085065 and parameters: {'max_depth': 3, 'n_estimators': 3, 'min_samples_leaf': 3}. Best is trial 3 with value: 0.8560753403623708.\u001b[0m\n",
      "\u001b[32m[I 2020-11-14 15:16:08,020]\u001b[0m Trial 8 finished with value: 0.8550516941345071 and parameters: {'max_depth': 6, 'n_estimators': 74, 'min_samples_leaf': 3}. Best is trial 3 with value: 0.8560753403623708.\u001b[0m\n",
      "\u001b[32m[I 2020-11-14 15:16:08,209]\u001b[0m Trial 9 finished with value: 0.8474767120483161 and parameters: {'max_depth': 4, 'n_estimators': 10, 'min_samples_leaf': 5}. Best is trial 3 with value: 0.8560753403623708.\u001b[0m\n",
      "\u001b[32m[I 2020-11-14 15:16:09,005]\u001b[0m Trial 10 finished with value: 0.8572013512130208 and parameters: {'max_depth': 6, 'n_estimators': 40, 'min_samples_leaf': 1}. Best is trial 10 with value: 0.8572013512130208.\u001b[0m\n",
      "\u001b[32m[I 2020-11-14 15:16:09,918]\u001b[0m Trial 11 finished with value: 0.8569966219674481 and parameters: {'max_depth': 6, 'n_estimators': 36, 'min_samples_leaf': 1}. Best is trial 10 with value: 0.8572013512130208.\u001b[0m\n",
      "\u001b[32m[I 2020-11-14 15:16:11,125]\u001b[0m Trial 12 finished with value: 0.8575084450813799 and parameters: {'max_depth': 6, 'n_estimators': 43, 'min_samples_leaf': 2}. Best is trial 12 with value: 0.8575084450813799.\u001b[0m\n",
      "\u001b[32m[I 2020-11-14 15:16:12,722]\u001b[0m Trial 13 finished with value: 0.8568942573446617 and parameters: {'max_depth': 6, 'n_estimators': 60, 'min_samples_leaf': 1}. Best is trial 12 with value: 0.8575084450813799.\u001b[0m\n",
      "\u001b[32m[I 2020-11-14 15:16:13,312]\u001b[0m Trial 14 finished with value: 0.852492578564848 and parameters: {'max_depth': 5, 'n_estimators': 31, 'min_samples_leaf': 1}. Best is trial 12 with value: 0.8575084450813799.\u001b[0m\n",
      "\u001b[32m[I 2020-11-14 15:16:13,639]\u001b[0m Trial 15 finished with value: 0.8540280479066434 and parameters: {'max_depth': 6, 'n_estimators': 14, 'min_samples_leaf': 2}. Best is trial 12 with value: 0.8575084450813799.\u001b[0m\n",
      "\u001b[32m[I 2020-11-14 15:16:14,808]\u001b[0m Trial 16 finished with value: 0.8525949431876344 and parameters: {'max_depth': 5, 'n_estimators': 53, 'min_samples_leaf': 7}. Best is trial 12 with value: 0.8575084450813799.\u001b[0m\n",
      "\u001b[32m[I 2020-11-14 15:16:16,359]\u001b[0m Trial 17 finished with value: 0.8566895280990889 and parameters: {'max_depth': 6, 'n_estimators': 67, 'min_samples_leaf': 2}. Best is trial 12 with value: 0.8575084450813799.\u001b[0m\n",
      "\u001b[32m[I 2020-11-14 15:16:17,047]\u001b[0m Trial 18 finished with value: 0.8497287337496161 and parameters: {'max_depth': 4, 'n_estimators': 43, 'min_samples_leaf': 2}. Best is trial 12 with value: 0.8575084450813799.\u001b[0m\n",
      "\u001b[32m[I 2020-11-14 15:16:17,387]\u001b[0m Trial 19 finished with value: 0.8336574879721568 and parameters: {'max_depth': 3, 'n_estimators': 20, 'min_samples_leaf': 1}. Best is trial 12 with value: 0.8575084450813799.\u001b[0m\n",
      "\u001b[32m[I 2020-11-14 15:16:18,932]\u001b[0m Trial 20 finished with value: 0.8526973078104207 and parameters: {'max_depth': 5, 'n_estimators': 82, 'min_samples_leaf': 9}. Best is trial 12 with value: 0.8575084450813799.\u001b[0m\n",
      "\u001b[32m[I 2020-11-14 15:16:19,832]\u001b[0m Trial 21 finished with value: 0.8569966219674481 and parameters: {'max_depth': 6, 'n_estimators': 34, 'min_samples_leaf': 1}. Best is trial 12 with value: 0.8575084450813799.\u001b[0m\n",
      "\u001b[32m[I 2020-11-14 15:16:21,147]\u001b[0m Trial 22 finished with value: 0.8570989865902344 and parameters: {'max_depth': 6, 'n_estimators': 41, 'min_samples_leaf': 2}. Best is trial 12 with value: 0.8575084450813799.\u001b[0m\n",
      "\u001b[32m[I 2020-11-14 15:16:22,063]\u001b[0m Trial 23 finished with value: 0.8574060804585935 and parameters: {'max_depth': 6, 'n_estimators': 47, 'min_samples_leaf': 2}. Best is trial 12 with value: 0.8575084450813799.\u001b[0m\n",
      "\u001b[32m[I 2020-11-14 15:16:22,496]\u001b[0m Trial 24 finished with value: 0.8530044016787798 and parameters: {'max_depth': 5, 'n_estimators': 21, 'min_samples_leaf': 4}. Best is trial 12 with value: 0.8575084450813799.\u001b[0m\n",
      "\u001b[32m[I 2020-11-14 15:16:24,076]\u001b[0m Trial 25 finished with value: 0.8555635172484389 and parameters: {'max_depth': 6, 'n_estimators': 56, 'min_samples_leaf': 3}. Best is trial 12 with value: 0.8575084450813799.\u001b[0m\n",
      "\u001b[32m[I 2020-11-14 15:16:25,560]\u001b[0m Trial 26 finished with value: 0.8563824342307299 and parameters: {'max_depth': 6, 'n_estimators': 68, 'min_samples_leaf': 2}. Best is trial 12 with value: 0.8575084450813799.\u001b[0m\n",
      "\u001b[32m[I 2020-11-14 15:16:26,863]\u001b[0m Trial 27 finished with value: 0.8514689323369843 and parameters: {'max_depth': 5, 'n_estimators': 47, 'min_samples_leaf': 3}. Best is trial 12 with value: 0.8575084450813799.\u001b[0m\n",
      "\u001b[32m[I 2020-11-14 15:16:28,016]\u001b[0m Trial 28 finished with value: 0.8565871634763026 and parameters: {'max_depth': 6, 'n_estimators': 27, 'min_samples_leaf': 1}. Best is trial 12 with value: 0.8575084450813799.\u001b[0m\n",
      "\u001b[32m[I 2020-11-14 15:16:31,969]\u001b[0m Trial 29 finished with value: 0.8532091309243526 and parameters: {'max_depth': 5, 'n_estimators': 146, 'min_samples_leaf': 3}. Best is trial 12 with value: 0.8575084450813799.\u001b[0m\n"
     ]
    },
    {
     "name": "stdout",
     "output_type": "stream",
     "text": [
      "Optimized on accuracy\n",
      "Optimized Random Forest:  0.8575084450813799\n",
      "Optimized Random Forest f1-score:  0.6533864541832668\n"
     ]
    }
   ],
   "source": [
    "rf = RandomForestClassifier(random_state=666)\n",
    "rf.fit(X, y)\n",
    "preds = rf.predict(X_val)\n",
    "\n",
    "print('Random Forest accuracy: ', accuracy_score(y_val, preds))\n",
    "print('Random Forest f1-score: ', f1_score(y_val, preds))\n",
    "\n",
    "def create_model(trial):\n",
    "    max_depth = trial.suggest_int(\"max_depth\", 2, 6)\n",
    "    n_estimators = trial.suggest_int(\"n_estimators\", 2, 150)\n",
    "    min_samples_leaf = trial.suggest_int(\"min_samples_leaf\", 1, 10)\n",
    "    model = RandomForestClassifier(\n",
    "        min_samples_leaf=min_samples_leaf, \n",
    "        n_estimators=n_estimators, \n",
    "        max_depth=max_depth, \n",
    "        random_state=666\n",
    "    )\n",
    "    return model\n",
    "\n",
    "optimizer = Optimizer('f1')\n",
    "rf_f1_params = optimizer.optimize()\n",
    "rf_f1_params['random_state'] = 666\n",
    "rf_f1 = RandomForestClassifier(**rf_f1_params)\n",
    "rf_f1.fit(X, y)\n",
    "preds = rf_f1.predict(X_val)\n",
    "\n",
    "print('Optimized on F1 score')\n",
    "print('Optimized Random Forest: ', accuracy_score(y_val, preds))\n",
    "print('Optimized Random Forest f1-score: ', f1_score(y_val, preds))\n",
    "\n",
    "optimizer = Optimizer('acc')\n",
    "rf_acc_params = optimizer.optimize()\n",
    "rf_acc_params['random_state'] = 666\n",
    "rf_acc = RandomForestClassifier(**rf_acc_params)\n",
    "rf_acc.fit(X, y)\n",
    "preds = rf_acc.predict(X_val)\n",
    "\n",
    "print('Optimized on accuracy')\n",
    "print('Optimized Random Forest: ', accuracy_score(y_val, preds))\n",
    "print('Optimized Random Forest f1-score: ', f1_score(y_val, preds))"
   ]
  },
  {
   "cell_type": "code",
   "execution_count": 51,
   "metadata": {},
   "outputs": [
    {
     "name": "stderr",
     "output_type": "stream",
     "text": [
      "\u001b[32m[I 2020-11-14 15:17:13,192]\u001b[0m A new study created in memory with name: no-name-0b1cd942-19af-452d-8a21-f934c53ac768\u001b[0m\n"
     ]
    },
    {
     "name": "stdout",
     "output_type": "stream",
     "text": [
      "XGBoost accuracy:  0.8772648172791483\n",
      "XGBoost f1-score:  0.7295285359801489\n"
     ]
    },
    {
     "name": "stderr",
     "output_type": "stream",
     "text": [
      "\u001b[32m[I 2020-11-14 15:17:14,642]\u001b[0m Trial 0 finished with value: 0.7204202832343535 and parameters: {'max_depth': 4, 'n_estimators': 79, 'learning_rate': 0.2624613896323886, 'gamma': 0.2442332640825783}. Best is trial 0 with value: 0.7204202832343535.\u001b[0m\n",
      "\u001b[32m[I 2020-11-14 15:17:16,637]\u001b[0m Trial 1 finished with value: 0.7245333932988531 and parameters: {'max_depth': 6, 'n_estimators': 51, 'learning_rate': 0.6387410823602511, 'gamma': 0.3358318144282601}. Best is trial 1 with value: 0.7245333932988531.\u001b[0m\n",
      "\u001b[32m[I 2020-11-14 15:17:17,666]\u001b[0m Trial 2 finished with value: 0.6645430041656457 and parameters: {'max_depth': 5, 'n_estimators': 29, 'learning_rate': 0.10550480376527384, 'gamma': 0.6181616399003891}. Best is trial 1 with value: 0.7245333932988531.\u001b[0m\n",
      "\u001b[32m[I 2020-11-14 15:17:20,611]\u001b[0m Trial 3 finished with value: 0.7115342041177772 and parameters: {'max_depth': 6, 'n_estimators': 119, 'learning_rate': 0.9632404828001749, 'gamma': 0.9239726716738778}. Best is trial 1 with value: 0.7245333932988531.\u001b[0m\n",
      "\u001b[32m[I 2020-11-14 15:17:22,284]\u001b[0m Trial 4 finished with value: 0.7209460996133726 and parameters: {'max_depth': 3, 'n_estimators': 130, 'learning_rate': 0.5263091256350406, 'gamma': 0.7361392827502526}. Best is trial 1 with value: 0.7245333932988531.\u001b[0m\n",
      "\u001b[32m[I 2020-11-14 15:17:24,692]\u001b[0m Trial 5 finished with value: 0.7249264206474983 and parameters: {'max_depth': 6, 'n_estimators': 105, 'learning_rate': 0.20743253481145316, 'gamma': 0.4415196582662217}. Best is trial 5 with value: 0.7249264206474983.\u001b[0m\n",
      "\u001b[32m[I 2020-11-14 15:17:26,507]\u001b[0m Trial 6 finished with value: 0.7202327663384065 and parameters: {'max_depth': 5, 'n_estimators': 76, 'learning_rate': 0.955100825638169, 'gamma': 0.8740309511735518}. Best is trial 5 with value: 0.7249264206474983.\u001b[0m\n",
      "\u001b[32m[I 2020-11-14 15:17:27,560]\u001b[0m Trial 7 finished with value: 0.7198726693951796 and parameters: {'max_depth': 3, 'n_estimators': 70, 'learning_rate': 0.8007808692489304, 'gamma': 0.3041771017185386}. Best is trial 5 with value: 0.7249264206474983.\u001b[0m\n",
      "\u001b[32m[I 2020-11-14 15:17:28,612]\u001b[0m Trial 8 finished with value: 0.7207084468664849 and parameters: {'max_depth': 2, 'n_estimators': 67, 'learning_rate': 0.8298617118423612, 'gamma': 0.17366049876941508}. Best is trial 5 with value: 0.7249264206474983.\u001b[0m\n",
      "\u001b[32m[I 2020-11-14 15:17:30,661]\u001b[0m Trial 9 finished with value: 0.6358792184724689 and parameters: {'max_depth': 2, 'n_estimators': 148, 'learning_rate': 0.034408933974955154, 'gamma': 0.6837380152884397}. Best is trial 5 with value: 0.7249264206474983.\u001b[0m\n",
      "\u001b[32m[I 2020-11-14 15:17:34,045]\u001b[0m Trial 10 finished with value: 0.7304032623470774 and parameters: {'max_depth': 5, 'n_estimators': 105, 'learning_rate': 0.3621062497846643, 'gamma': 0.043650097137266086}. Best is trial 10 with value: 0.7304032623470774.\u001b[0m\n",
      "\u001b[32m[I 2020-11-14 15:17:36,640]\u001b[0m Trial 11 finished with value: 0.73018018018018 and parameters: {'max_depth': 5, 'n_estimators': 104, 'learning_rate': 0.2774487125497933, 'gamma': 0.07419471921504273}. Best is trial 10 with value: 0.7304032623470774.\u001b[0m\n",
      "\u001b[32m[I 2020-11-14 15:17:38,612]\u001b[0m Trial 12 finished with value: 0.7257479601087942 and parameters: {'max_depth': 5, 'n_estimators': 101, 'learning_rate': 0.37618014905282415, 'gamma': 0.09488936715683295}. Best is trial 10 with value: 0.7304032623470774.\u001b[0m\n",
      "\u001b[32m[I 2020-11-14 15:17:40,985]\u001b[0m Trial 13 finished with value: 0.725050916496945 and parameters: {'max_depth': 4, 'n_estimators': 144, 'learning_rate': 0.41787785418266626, 'gamma': 0.01656998654223244}. Best is trial 10 with value: 0.7304032623470774.\u001b[0m\n",
      "\u001b[32m[I 2020-11-14 15:17:43,560]\u001b[0m Trial 14 finished with value: 0.7261608154020385 and parameters: {'max_depth': 5, 'n_estimators': 103, 'learning_rate': 0.2856228734038278, 'gamma': 0.030433664664235256}. Best is trial 10 with value: 0.7304032623470774.\u001b[0m\n",
      "\u001b[32m[I 2020-11-14 15:17:45,935]\u001b[0m Trial 15 finished with value: 0.7261204164780444 and parameters: {'max_depth': 4, 'n_estimators': 123, 'learning_rate': 0.5271786281767179, 'gamma': 0.010369621698545245}. Best is trial 10 with value: 0.7304032623470774.\u001b[0m\n",
      "\u001b[32m[I 2020-11-14 15:17:46,138]\u001b[0m Trial 16 finished with value: 0.6515484028285784 and parameters: {'max_depth': 5, 'n_estimators': 2, 'learning_rate': 0.13313925352312908, 'gamma': 0.14890867867319377}. Best is trial 10 with value: 0.7304032623470774.\u001b[0m\n",
      "\u001b[32m[I 2020-11-14 15:17:49,398]\u001b[0m Trial 17 finished with value: 0.7259192420482743 and parameters: {'max_depth': 6, 'n_estimators': 92, 'learning_rate': 0.36378856913989177, 'gamma': 0.3758689477736038}. Best is trial 10 with value: 0.7304032623470774.\u001b[0m\n",
      "\u001b[32m[I 2020-11-14 15:17:51,255]\u001b[0m Trial 18 finished with value: 0.723731884057971 and parameters: {'max_depth': 3, 'n_estimators': 139, 'learning_rate': 0.6962021551146982, 'gamma': 0.5676344526289802}. Best is trial 10 with value: 0.7304032623470774.\u001b[0m\n",
      "\u001b[32m[I 2020-11-14 15:17:52,673]\u001b[0m Trial 19 finished with value: 0.6515484028285784 and parameters: {'max_depth': 5, 'n_estimators': 51, 'learning_rate': 0.003952940638678404, 'gamma': 0.18594164100643507}. Best is trial 10 with value: 0.7304032623470774.\u001b[0m\n",
      "\u001b[32m[I 2020-11-14 15:17:55,520]\u001b[0m Trial 20 finished with value: 0.7231225747546223 and parameters: {'max_depth': 4, 'n_estimators': 116, 'learning_rate': 0.18342439175115788, 'gamma': 0.07288466802306076}. Best is trial 10 with value: 0.7304032623470774.\u001b[0m\n",
      "\u001b[32m[I 2020-11-14 15:17:58,257]\u001b[0m Trial 21 finished with value: 0.7260770975056691 and parameters: {'max_depth': 5, 'n_estimators': 98, 'learning_rate': 0.29471240448545405, 'gamma': 0.0004704362394840206}. Best is trial 10 with value: 0.7304032623470774.\u001b[0m\n",
      "\u001b[32m[I 2020-11-14 15:18:00,344]\u001b[0m Trial 22 finished with value: 0.7249717514124293 and parameters: {'max_depth': 5, 'n_estimators': 86, 'learning_rate': 0.3231908599123541, 'gamma': 0.0030645357595878338}. Best is trial 10 with value: 0.7304032623470774.\u001b[0m\n",
      "\u001b[32m[I 2020-11-14 15:18:04,126]\u001b[0m Trial 23 finished with value: 0.7293959128677295 and parameters: {'max_depth': 6, 'n_estimators': 110, 'learning_rate': 0.4356660329838622, 'gamma': 0.09706984182394507}. Best is trial 10 with value: 0.7304032623470774.\u001b[0m\n",
      "\u001b[32m[I 2020-11-14 15:18:07,443]\u001b[0m Trial 24 finished with value: 0.7209510991475998 and parameters: {'max_depth': 6, 'n_estimators': 108, 'learning_rate': 0.47289930443715533, 'gamma': 0.22939257947212852}. Best is trial 10 with value: 0.7304032623470774.\u001b[0m\n",
      "\u001b[32m[I 2020-11-14 15:18:11,067]\u001b[0m Trial 25 finished with value: 0.7222222222222222 and parameters: {'max_depth': 6, 'n_estimators': 128, 'learning_rate': 0.456847591428878, 'gamma': 0.1166140483912674}. Best is trial 10 with value: 0.7304032623470774.\u001b[0m\n",
      "\u001b[32m[I 2020-11-14 15:18:13,647]\u001b[0m Trial 26 finished with value: 0.7253724705359128 and parameters: {'max_depth': 6, 'n_estimators': 89, 'learning_rate': 0.5773499521777512, 'gamma': 0.4551394462595825}. Best is trial 10 with value: 0.7304032623470774.\u001b[0m\n",
      "\u001b[32m[I 2020-11-14 15:18:16,723]\u001b[0m Trial 27 finished with value: 0.7294489611562783 and parameters: {'max_depth': 5, 'n_estimators': 115, 'learning_rate': 0.3977521562939695, 'gamma': 0.27135544457608496}. Best is trial 10 with value: 0.7304032623470774.\u001b[0m\n",
      "\u001b[32m[I 2020-11-14 15:18:21,557]\u001b[0m Trial 28 finished with value: 0.7261117445838083 and parameters: {'max_depth': 4, 'n_estimators': 134, 'learning_rate': 0.21919653216982432, 'gamma': 0.26471404102690504}. Best is trial 10 with value: 0.7304032623470774.\u001b[0m\n",
      "\u001b[32m[I 2020-11-14 15:18:23,925]\u001b[0m Trial 29 finished with value: 0.7302019514408895 and parameters: {'max_depth': 4, 'n_estimators': 116, 'learning_rate': 0.3591832831192287, 'gamma': 0.25016867142486504}. Best is trial 10 with value: 0.7304032623470774.\u001b[0m\n",
      "\u001b[32m[I 2020-11-14 15:18:26,291]\u001b[0m A new study created in memory with name: no-name-6e59cbac-b03b-4c86-860d-0d655d26aa35\u001b[0m\n"
     ]
    },
    {
     "name": "stdout",
     "output_type": "stream",
     "text": [
      "Optimized on F1 score\n",
      "Optimized XGBoost accuracy:  0.8781860988842256\n",
      "Optimized XGBoost f1-score:  0.7304032623470774\n"
     ]
    },
    {
     "name": "stderr",
     "output_type": "stream",
     "text": [
      "\u001b[32m[I 2020-11-14 15:18:27,295]\u001b[0m Trial 0 finished with value: 0.8605793837649708 and parameters: {'max_depth': 2, 'n_estimators': 85, 'learning_rate': 0.15046649299044454, 'gamma': 0.6428311132401684}. Best is trial 0 with value: 0.8605793837649708.\u001b[0m\n",
      "\u001b[32m[I 2020-11-14 15:18:29,628]\u001b[0m Trial 1 finished with value: 0.8747057017094892 and parameters: {'max_depth': 3, 'n_estimators': 123, 'learning_rate': 0.6716383561441776, 'gamma': 0.2814132408692107}. Best is trial 1 with value: 0.8747057017094892.\u001b[0m\n",
      "\u001b[32m[I 2020-11-14 15:18:31,864]\u001b[0m Trial 2 finished with value: 0.8725560446309756 and parameters: {'max_depth': 6, 'n_estimators': 72, 'learning_rate': 0.6437854634454709, 'gamma': 0.04188688881889207}. Best is trial 1 with value: 0.8747057017094892.\u001b[0m\n",
      "\u001b[32m[I 2020-11-14 15:18:32,905]\u001b[0m Trial 3 finished with value: 0.8756269833145665 and parameters: {'max_depth': 4, 'n_estimators': 41, 'learning_rate': 0.7347377183748027, 'gamma': 0.06754576856387116}. Best is trial 3 with value: 0.8756269833145665.\u001b[0m\n",
      "\u001b[32m[I 2020-11-14 15:18:35,559]\u001b[0m Trial 4 finished with value: 0.8773671819019347 and parameters: {'max_depth': 4, 'n_estimators': 140, 'learning_rate': 0.5202140674157535, 'gamma': 0.8017820758317993}. Best is trial 4 with value: 0.8773671819019347.\u001b[0m\n",
      "\u001b[32m[I 2020-11-14 15:18:37,443]\u001b[0m Trial 5 finished with value: 0.874091513972771 and parameters: {'max_depth': 5, 'n_estimators': 54, 'learning_rate': 0.2775601862960147, 'gamma': 0.6450651767909417}. Best is trial 4 with value: 0.8773671819019347.\u001b[0m\n",
      "\u001b[32m[I 2020-11-14 15:18:38,848]\u001b[0m Trial 6 finished with value: 0.8754222540689938 and parameters: {'max_depth': 2, 'n_estimators': 135, 'learning_rate': 0.5372716019744066, 'gamma': 0.16253695990903178}. Best is trial 4 with value: 0.8773671819019347.\u001b[0m\n",
      "\u001b[32m[I 2020-11-14 15:18:39,715]\u001b[0m Trial 7 finished with value: 0.8746033370867028 and parameters: {'max_depth': 6, 'n_estimators': 34, 'learning_rate': 0.43169724521857405, 'gamma': 0.6658818715332836}. Best is trial 4 with value: 0.8773671819019347.\u001b[0m\n",
      "\u001b[32m[I 2020-11-14 15:18:41,496]\u001b[0m Trial 8 finished with value: 0.872965503122121 and parameters: {'max_depth': 4, 'n_estimators': 109, 'learning_rate': 0.800729637175628, 'gamma': 0.7754789550494509}. Best is trial 4 with value: 0.8773671819019347.\u001b[0m\n",
      "\u001b[32m[I 2020-11-14 15:18:44,132]\u001b[0m Trial 9 finished with value: 0.86539052103593 and parameters: {'max_depth': 6, 'n_estimators': 101, 'learning_rate': 0.8292646782735165, 'gamma': 0.005733911018845143}. Best is trial 4 with value: 0.8773671819019347.\u001b[0m\n",
      "\u001b[32m[I 2020-11-14 15:18:44,307]\u001b[0m Trial 10 finished with value: 0.8415395639267069 and parameters: {'max_depth': 3, 'n_estimators': 1, 'learning_rate': 0.9869450686751129, 'gamma': 0.9809540756543065}. Best is trial 4 with value: 0.8773671819019347.\u001b[0m\n",
      "\u001b[32m[I 2020-11-14 15:18:44,773]\u001b[0m Trial 11 finished with value: 0.8678472719828028 and parameters: {'max_depth': 4, 'n_estimators': 19, 'learning_rate': 0.42130736816492, 'gamma': 0.3583004672293333}. Best is trial 4 with value: 0.8773671819019347.\u001b[0m\n",
      "\u001b[32m[I 2020-11-14 15:18:45,572]\u001b[0m Trial 12 finished with value: 0.8724536800081891 and parameters: {'max_depth': 5, 'n_estimators': 35, 'learning_rate': 0.8867714136262201, 'gamma': 0.9871249824363268}. Best is trial 4 with value: 0.8773671819019347.\u001b[0m\n",
      "\u001b[32m[I 2020-11-14 15:18:46,407]\u001b[0m Trial 13 finished with value: 0.8760364418057119 and parameters: {'max_depth': 3, 'n_estimators': 58, 'learning_rate': 0.6725649090169705, 'gamma': 0.8412422445960264}. Best is trial 4 with value: 0.8773671819019347.\u001b[0m\n",
      "\u001b[32m[I 2020-11-14 15:18:47,564]\u001b[0m Trial 14 finished with value: 0.8728631384993346 and parameters: {'max_depth': 3, 'n_estimators': 69, 'learning_rate': 0.5279059682593892, 'gamma': 0.8607967508446361}. Best is trial 4 with value: 0.8773671819019347.\u001b[0m\n",
      "\u001b[32m[I 2020-11-14 15:18:49,428]\u001b[0m Trial 15 finished with value: 0.8762411710512846 and parameters: {'max_depth': 3, 'n_estimators': 143, 'learning_rate': 0.3286833365672005, 'gamma': 0.8312699129627885}. Best is trial 4 with value: 0.8773671819019347.\u001b[0m\n",
      "\u001b[32m[I 2020-11-14 15:18:53,196]\u001b[0m Trial 16 finished with value: 0.8764459002968574 and parameters: {'max_depth': 5, 'n_estimators': 149, 'learning_rate': 0.2677336029875855, 'gamma': 0.5214321676983185}. Best is trial 4 with value: 0.8773671819019347.\u001b[0m\n",
      "\u001b[32m[I 2020-11-14 15:18:56,130]\u001b[0m Trial 17 finished with value: 0.877162452656362 and parameters: {'max_depth': 5, 'n_estimators': 150, 'learning_rate': 0.11906416348812526, 'gamma': 0.39396124316236536}. Best is trial 4 with value: 0.8773671819019347.\u001b[0m\n",
      "\u001b[32m[I 2020-11-14 15:18:58,923]\u001b[0m Trial 18 finished with value: 0.8573037158358071 and parameters: {'max_depth': 5, 'n_estimators': 128, 'learning_rate': 0.01669536156902368, 'gamma': 0.42331781595848683}. Best is trial 4 with value: 0.8773671819019347.\u001b[0m\n",
      "\u001b[32m[I 2020-11-14 15:19:01,972]\u001b[0m Trial 19 finished with value: 0.8567918927218753 and parameters: {'max_depth': 5, 'n_estimators': 150, 'learning_rate': 0.010896467882628269, 'gamma': 0.5133400191188747}. Best is trial 4 with value: 0.8773671819019347.\u001b[0m\n",
      "\u001b[32m[I 2020-11-14 15:19:04,108]\u001b[0m Trial 20 finished with value: 0.8738867847271983 and parameters: {'max_depth': 4, 'n_estimators': 112, 'learning_rate': 0.143066671984395, 'gamma': 0.23593984122575629}. Best is trial 4 with value: 0.8773671819019347.\u001b[0m\n",
      "\u001b[32m[I 2020-11-14 15:19:06,931]\u001b[0m Trial 21 finished with value: 0.8776742757702938 and parameters: {'max_depth': 5, 'n_estimators': 149, 'learning_rate': 0.18821833670487487, 'gamma': 0.5229321697154703}. Best is trial 21 with value: 0.8776742757702938.\u001b[0m\n",
      "\u001b[32m[I 2020-11-14 15:19:11,403]\u001b[0m Trial 22 finished with value: 0.8769577234107893 and parameters: {'max_depth': 5, 'n_estimators': 149, 'learning_rate': 0.13046625873425294, 'gamma': 0.3888568044338525}. Best is trial 21 with value: 0.8776742757702938.\u001b[0m\n",
      "\u001b[32m[I 2020-11-14 15:19:13,860]\u001b[0m Trial 23 finished with value: 0.8680520012283754 and parameters: {'max_depth': 4, 'n_estimators': 134, 'learning_rate': 0.06738099422199122, 'gamma': 0.5706655327914374}. Best is trial 21 with value: 0.8776742757702938.\u001b[0m\n",
      "\u001b[32m[I 2020-11-14 15:19:17,167]\u001b[0m Trial 24 finished with value: 0.8754222540689938 and parameters: {'max_depth': 6, 'n_estimators': 91, 'learning_rate': 0.39625783843207707, 'gamma': 0.7242556686042902}. Best is trial 21 with value: 0.8776742757702938.\u001b[0m\n",
      "\u001b[32m[I 2020-11-14 15:19:20,933]\u001b[0m Trial 25 finished with value: 0.8757293479373528 and parameters: {'max_depth': 5, 'n_estimators': 123, 'learning_rate': 0.2411427843034296, 'gamma': 0.4458560803059537}. Best is trial 21 with value: 0.8776742757702938.\u001b[0m\n",
      "\u001b[32m[I 2020-11-14 15:19:25,416]\u001b[0m Trial 26 finished with value: 0.8734773262360528 and parameters: {'max_depth': 4, 'n_estimators': 145, 'learning_rate': 0.6054166228973116, 'gamma': 0.308255410004143}. Best is trial 21 with value: 0.8776742757702938.\u001b[0m\n",
      "\u001b[32m[I 2020-11-14 15:19:29,102]\u001b[0m Trial 27 finished with value: 0.8773671819019347 and parameters: {'max_depth': 5, 'n_estimators': 116, 'learning_rate': 0.18822371267985566, 'gamma': 0.5702456244310283}. Best is trial 21 with value: 0.8776742757702938.\u001b[0m\n",
      "\u001b[32m[I 2020-11-14 15:19:33,278]\u001b[0m Trial 28 finished with value: 0.8760364418057119 and parameters: {'max_depth': 6, 'n_estimators': 112, 'learning_rate': 0.3500959016799621, 'gamma': 0.5784070741298659}. Best is trial 21 with value: 0.8776742757702938.\u001b[0m\n",
      "\u001b[32m[I 2020-11-14 15:19:35,199]\u001b[0m Trial 29 finished with value: 0.8756269833145665 and parameters: {'max_depth': 5, 'n_estimators': 98, 'learning_rate': 0.19678194375620767, 'gamma': 0.6906878159386588}. Best is trial 21 with value: 0.8776742757702938.\u001b[0m\n"
     ]
    },
    {
     "name": "stdout",
     "output_type": "stream",
     "text": [
      "Optimized on accuracy\n",
      "Optimized XGBoost accuracy:  0.8776742757702938\n",
      "Optimized XGBoost f1-score:  0.7281001137656427\n"
     ]
    }
   ],
   "source": [
    "xgb = XGBClassifier(random_state=666)\n",
    "xgb.fit(X, y)\n",
    "preds = xgb.predict(X_val)\n",
    "\n",
    "print('XGBoost accuracy: ', accuracy_score(y_val, preds))\n",
    "print('XGBoost f1-score: ', f1_score(y_val, preds))\n",
    "\n",
    "def create_model(trial):\n",
    "    max_depth = trial.suggest_int(\"max_depth\", 2, 6)\n",
    "    n_estimators = trial.suggest_int(\"n_estimators\", 1, 150)\n",
    "    learning_rate = trial.suggest_uniform('learning_rate', 0.0000001, 1)\n",
    "    gamma = trial.suggest_uniform('gamma', 0.0000001, 1)\n",
    "    model = XGBClassifier(\n",
    "        learning_rate=learning_rate, \n",
    "        n_estimators=n_estimators, \n",
    "        max_depth=max_depth, \n",
    "        gamma=gamma, \n",
    "        random_state=666\n",
    "    )\n",
    "    return model\n",
    "\n",
    "optimizer = Optimizer('f1')\n",
    "xgb_f1_params = optimizer.optimize()\n",
    "xgb_f1_params['random_state'] = 666\n",
    "xgb_f1 = XGBClassifier(**xgb_f1_params)\n",
    "xgb_f1.fit(X, y)\n",
    "preds = xgb_f1.predict(X_val)\n",
    "\n",
    "print('Optimized on F1 score')\n",
    "print('Optimized XGBoost accuracy: ', accuracy_score(y_val, preds))\n",
    "print('Optimized XGBoost f1-score: ', f1_score(y_val, preds))\n",
    "\n",
    "optimizer = Optimizer('acc')\n",
    "xgb_acc_params = optimizer.optimize()\n",
    "xgb_acc_params['random_state'] = 666\n",
    "xgb_acc = XGBClassifier(**xgb_acc_params)\n",
    "xgb_acc.fit(X, y)\n",
    "preds = xgb_acc.predict(X_val)\n",
    "\n",
    "print('Optimized on accuracy')\n",
    "print('Optimized XGBoost accuracy: ', accuracy_score(y_val, preds))\n",
    "print('Optimized XGBoost f1-score: ', f1_score(y_val, preds))"
   ]
  },
  {
   "cell_type": "code",
   "execution_count": 54,
   "metadata": {},
   "outputs": [
    {
     "name": "stderr",
     "output_type": "stream",
     "text": [
      "\u001b[32m[I 2020-11-14 15:23:24,479]\u001b[0m A new study created in memory with name: no-name-0a429707-e98b-48ad-8c49-226ba77215dc\u001b[0m\n"
     ]
    },
    {
     "name": "stdout",
     "output_type": "stream",
     "text": [
      "LightGBM accuracy:  0.8762411710512846\n",
      "LightGBM f1-score:  0.7254144901203724\n"
     ]
    },
    {
     "name": "stderr",
     "output_type": "stream",
     "text": [
      "\u001b[32m[I 2020-11-14 15:23:25,078]\u001b[0m Trial 0 finished with value: 0.7196007259528131 and parameters: {'max_depth': 5, 'n_estimators': 66, 'learning_rate': 0.47029696950718436, 'num_leaves': 1533, 'min_child_samples': 7}. Best is trial 0 with value: 0.7196007259528131.\u001b[0m\n",
      "\u001b[32m[I 2020-11-14 15:23:25,343]\u001b[0m Trial 1 finished with value: 0.7190704032809295 and parameters: {'max_depth': 4, 'n_estimators': 29, 'learning_rate': 0.8206968547675637, 'num_leaves': 694, 'min_child_samples': 190}. Best is trial 0 with value: 0.7196007259528131.\u001b[0m\n",
      "\u001b[32m[I 2020-11-14 15:23:25,623]\u001b[0m Trial 2 finished with value: 0.7108045977011493 and parameters: {'max_depth': 2, 'n_estimators': 65, 'learning_rate': 0.5266155162004467, 'num_leaves': 2775, 'min_child_samples': 70}. Best is trial 0 with value: 0.7196007259528131.\u001b[0m\n",
      "\u001b[32m[I 2020-11-14 15:23:26,011]\u001b[0m Trial 3 finished with value: 0.7058550185873605 and parameters: {'max_depth': 3, 'n_estimators': 102, 'learning_rate': 0.14275506772315769, 'num_leaves': 2033, 'min_child_samples': 114}. Best is trial 0 with value: 0.7196007259528131.\u001b[0m\n",
      "\u001b[32m[I 2020-11-14 15:23:26,340]\u001b[0m Trial 4 finished with value: 0.6306306306306306 and parameters: {'max_depth': 5, 'n_estimators': 35, 'learning_rate': 0.03424131642680234, 'num_leaves': 248, 'min_child_samples': 69}. Best is trial 0 with value: 0.7196007259528131.\u001b[0m\n",
      "\u001b[32m[I 2020-11-14 15:23:26,597]\u001b[0m Trial 5 finished with value: 0.7146714671467146 and parameters: {'max_depth': 5, 'n_estimators': 32, 'learning_rate': 0.9268939256212958, 'num_leaves': 1467, 'min_child_samples': 123}. Best is trial 0 with value: 0.7196007259528131.\u001b[0m\n",
      "\u001b[32m[I 2020-11-14 15:23:26,923]\u001b[0m Trial 6 finished with value: 0.7217668488160291 and parameters: {'max_depth': 3, 'n_estimators': 65, 'learning_rate': 0.8976243934429619, 'num_leaves': 1023, 'min_child_samples': 24}. Best is trial 6 with value: 0.7217668488160291.\u001b[0m\n",
      "\u001b[32m[I 2020-11-14 15:23:27,339]\u001b[0m Trial 7 finished with value: 0.7130669061517737 and parameters: {'max_depth': 5, 'n_estimators': 18, 'learning_rate': 0.9182704927334209, 'num_leaves': 2223, 'min_child_samples': 3}. Best is trial 6 with value: 0.7217668488160291.\u001b[0m\n",
      "\u001b[32m[I 2020-11-14 15:23:27,740]\u001b[0m Trial 8 finished with value: 0.7164983164983165 and parameters: {'max_depth': 5, 'n_estimators': 74, 'learning_rate': 0.8709673567408122, 'num_leaves': 2662, 'min_child_samples': 119}. Best is trial 6 with value: 0.7217668488160291.\u001b[0m\n",
      "\u001b[32m[I 2020-11-14 15:23:28,282]\u001b[0m Trial 9 finished with value: 0.722397476340694 and parameters: {'max_depth': 4, 'n_estimators': 115, 'learning_rate': 0.7648253465517846, 'num_leaves': 1901, 'min_child_samples': 87}. Best is trial 9 with value: 0.722397476340694.\u001b[0m\n",
      "\u001b[32m[I 2020-11-14 15:23:29,161]\u001b[0m Trial 10 finished with value: 0.7191964285714285 and parameters: {'max_depth': 6, 'n_estimators': 144, 'learning_rate': 0.5967182643874568, 'num_leaves': 2049, 'min_child_samples': 168}. Best is trial 9 with value: 0.722397476340694.\u001b[0m\n",
      "\u001b[32m[I 2020-11-14 15:23:29,657]\u001b[0m Trial 11 finished with value: 0.7236158192090395 and parameters: {'max_depth': 3, 'n_estimators': 125, 'learning_rate': 0.6903723539336999, 'num_leaves': 1062, 'min_child_samples': 41}. Best is trial 11 with value: 0.7236158192090395.\u001b[0m\n",
      "\u001b[32m[I 2020-11-14 15:23:30,144]\u001b[0m Trial 12 finished with value: 0.7280939476061427 and parameters: {'max_depth': 3, 'n_estimators': 135, 'learning_rate': 0.6893826918129577, 'num_leaves': 1351, 'min_child_samples': 52}. Best is trial 12 with value: 0.7280939476061427.\u001b[0m\n",
      "\u001b[32m[I 2020-11-14 15:23:30,612]\u001b[0m Trial 13 finished with value: 0.7215363511659808 and parameters: {'max_depth': 2, 'n_estimators': 143, 'learning_rate': 0.6837666663933839, 'num_leaves': 947, 'min_child_samples': 39}. Best is trial 12 with value: 0.7280939476061427.\u001b[0m\n",
      "\u001b[32m[I 2020-11-14 15:23:31,053]\u001b[0m Trial 14 finished with value: 0.7249427917620137 and parameters: {'max_depth': 3, 'n_estimators': 122, 'learning_rate': 0.3273127346656259, 'num_leaves': 27, 'min_child_samples': 43}. Best is trial 12 with value: 0.7280939476061427.\u001b[0m\n",
      "\u001b[32m[I 2020-11-14 15:23:31,447]\u001b[0m Trial 15 finished with value: 0.7206588881262869 and parameters: {'max_depth': 3, 'n_estimators': 95, 'learning_rate': 0.33432580821530167, 'num_leaves': 52, 'min_child_samples': 56}. Best is trial 12 with value: 0.7280939476061427.\u001b[0m\n",
      "\u001b[32m[I 2020-11-14 15:23:31,887]\u001b[0m Trial 16 finished with value: 0.7146482122260668 and parameters: {'max_depth': 2, 'n_estimators': 150, 'learning_rate': 0.3167440774731469, 'num_leaves': 358, 'min_child_samples': 25}. Best is trial 12 with value: 0.7280939476061427.\u001b[0m\n",
      "\u001b[32m[I 2020-11-14 15:23:32,381]\u001b[0m Trial 17 finished with value: 0.7222476016445866 and parameters: {'max_depth': 3, 'n_estimators': 131, 'learning_rate': 0.3207819571509869, 'num_leaves': 515, 'min_child_samples': 90}. Best is trial 12 with value: 0.7280939476061427.\u001b[0m\n",
      "\u001b[32m[I 2020-11-14 15:23:32,954]\u001b[0m Trial 18 finished with value: 0.7164452588181403 and parameters: {'max_depth': 4, 'n_estimators': 90, 'learning_rate': 0.16058372955597858, 'num_leaves': 1441, 'min_child_samples': 46}. Best is trial 12 with value: 0.7280939476061427.\u001b[0m\n",
      "\u001b[32m[I 2020-11-14 15:23:33,357]\u001b[0m Trial 19 finished with value: 0.7144173192077383 and parameters: {'max_depth': 2, 'n_estimators': 110, 'learning_rate': 0.40326713053212376, 'num_leaves': 2396, 'min_child_samples': 19}. Best is trial 12 with value: 0.7280939476061427.\u001b[0m\n",
      "\u001b[32m[I 2020-11-14 15:23:33,857]\u001b[0m Trial 20 finished with value: 0.718499885662017 and parameters: {'max_depth': 3, 'n_estimators': 131, 'learning_rate': 0.5898472693438903, 'num_leaves': 17, 'min_child_samples': 71}. Best is trial 12 with value: 0.7280939476061427.\u001b[0m\n",
      "\u001b[32m[I 2020-11-14 15:23:34,313]\u001b[0m Trial 21 finished with value: 0.719417917235107 and parameters: {'max_depth': 3, 'n_estimators': 124, 'learning_rate': 0.6813223703918372, 'num_leaves': 975, 'min_child_samples': 44}. Best is trial 12 with value: 0.7280939476061427.\u001b[0m\n",
      "\u001b[32m[I 2020-11-14 15:23:34,739]\u001b[0m Trial 22 finished with value: 0.724309642372114 and parameters: {'max_depth': 3, 'n_estimators': 121, 'learning_rate': 0.7184923519503351, 'num_leaves': 1276, 'min_child_samples': 58}. Best is trial 12 with value: 0.7280939476061427.\u001b[0m\n",
      "\u001b[32m[I 2020-11-14 15:23:35,153]\u001b[0m Trial 23 finished with value: 0.72 and parameters: {'max_depth': 4, 'n_estimators': 85, 'learning_rate': 0.7679805632248041, 'num_leaves': 1743, 'min_child_samples': 95}. Best is trial 12 with value: 0.7280939476061427.\u001b[0m\n",
      "\u001b[32m[I 2020-11-14 15:23:35,601]\u001b[0m Trial 24 finished with value: 0.7231897341888176 and parameters: {'max_depth': 2, 'n_estimators': 150, 'learning_rate': 0.58187300723956, 'num_leaves': 1406, 'min_child_samples': 62}. Best is trial 12 with value: 0.7280939476061427.\u001b[0m\n",
      "\u001b[32m[I 2020-11-14 15:23:36,082]\u001b[0m Trial 25 finished with value: 0.7182676802580049 and parameters: {'max_depth': 3, 'n_estimators': 110, 'learning_rate': 0.18859315161887646, 'num_leaves': 1219, 'min_child_samples': 83}. Best is trial 12 with value: 0.7280939476061427.\u001b[0m\n",
      "\u001b[32m[I 2020-11-14 15:23:36,629]\u001b[0m Trial 26 finished with value: 0.717948717948718 and parameters: {'max_depth': 4, 'n_estimators': 140, 'learning_rate': 0.9988608678390373, 'num_leaves': 736, 'min_child_samples': 141}. Best is trial 12 with value: 0.7280939476061427.\u001b[0m\n",
      "\u001b[32m[I 2020-11-14 15:23:37,063]\u001b[0m Trial 27 finished with value: 0.7288788221970556 and parameters: {'max_depth': 3, 'n_estimators': 120, 'learning_rate': 0.4380898336057883, 'num_leaves': 1697, 'min_child_samples': 32}. Best is trial 27 with value: 0.7288788221970556.\u001b[0m\n",
      "\u001b[32m[I 2020-11-14 15:23:37,508]\u001b[0m Trial 28 finished with value: 0.7170158876352751 and parameters: {'max_depth': 2, 'n_estimators': 135, 'learning_rate': 0.41900719815240794, 'num_leaves': 1726, 'min_child_samples': 16}. Best is trial 27 with value: 0.7288788221970556.\u001b[0m\n",
      "\u001b[32m[I 2020-11-14 15:23:38,197]\u001b[0m Trial 29 finished with value: 0.7236931432450782 and parameters: {'max_depth': 4, 'n_estimators': 103, 'learning_rate': 0.47838049321982123, 'num_leaves': 1722, 'min_child_samples': 5}. Best is trial 27 with value: 0.7288788221970556.\u001b[0m\n",
      "\u001b[32m[I 2020-11-14 15:23:38,618]\u001b[0m A new study created in memory with name: no-name-c6af5ee4-f288-41dc-ab98-188a85efd419\u001b[0m\n"
     ]
    },
    {
     "name": "stdout",
     "output_type": "stream",
     "text": [
      "Optimized on F1-score\n",
      "Optimized LightGBM accuracy:  0.8774695465247211\n",
      "Optimized LightGBM f1-score:  0.7288788221970556\n"
     ]
    },
    {
     "name": "stderr",
     "output_type": "stream",
     "text": [
      "\u001b[32m[I 2020-11-14 15:23:39,066]\u001b[0m Trial 0 finished with value: 0.8743986078411301 and parameters: {'max_depth': 4, 'n_estimators': 69, 'learning_rate': 0.91069778926985, 'num_leaves': 1418, 'min_child_samples': 142}. Best is trial 0 with value: 0.8743986078411301.\u001b[0m\n",
      "\u001b[32m[I 2020-11-14 15:23:40,008]\u001b[0m Trial 1 finished with value: 0.8691780120790255 and parameters: {'max_depth': 5, 'n_estimators': 144, 'learning_rate': 0.8488081845268095, 'num_leaves': 2606, 'min_child_samples': 52}. Best is trial 0 with value: 0.8743986078411301.\u001b[0m\n",
      "\u001b[32m[I 2020-11-14 15:23:40,552]\u001b[0m Trial 2 finished with value: 0.8767529941652165 and parameters: {'max_depth': 6, 'n_estimators': 69, 'learning_rate': 0.38848200831311874, 'num_leaves': 1160, 'min_child_samples': 100}. Best is trial 2 with value: 0.8767529941652165.\u001b[0m\n",
      "\u001b[32m[I 2020-11-14 15:23:41,150]\u001b[0m Trial 3 finished with value: 0.8753198894462074 and parameters: {'max_depth': 6, 'n_estimators': 69, 'learning_rate': 0.7206662160596365, 'num_leaves': 2711, 'min_child_samples': 166}. Best is trial 2 with value: 0.8767529941652165.\u001b[0m\n",
      "\u001b[32m[I 2020-11-14 15:23:41,504]\u001b[0m Trial 4 finished with value: 0.8750127955778483 and parameters: {'max_depth': 3, 'n_estimators': 93, 'learning_rate': 0.5370631698964012, 'num_leaves': 2244, 'min_child_samples': 177}. Best is trial 2 with value: 0.8767529941652165.\u001b[0m\n",
      "\u001b[32m[I 2020-11-14 15:23:42,040]\u001b[0m Trial 5 finished with value: 0.8741938785955574 and parameters: {'max_depth': 6, 'n_estimators': 121, 'learning_rate': 0.1806867356971629, 'num_leaves': 2400, 'min_child_samples': 181}. Best is trial 2 with value: 0.8767529941652165.\u001b[0m\n",
      "\u001b[32m[I 2020-11-14 15:23:42,245]\u001b[0m Trial 6 finished with value: 0.8518783908281298 and parameters: {'max_depth': 6, 'n_estimators': 7, 'learning_rate': 0.16112953547110553, 'num_leaves': 1754, 'min_child_samples': 128}. Best is trial 2 with value: 0.8767529941652165.\u001b[0m\n",
      "\u001b[32m[I 2020-11-14 15:23:42,413]\u001b[0m Trial 7 finished with value: 0.7539154468215785 and parameters: {'max_depth': 3, 'n_estimators': 8, 'learning_rate': 0.03846870310912584, 'num_leaves': 23, 'min_child_samples': 162}. Best is trial 2 with value: 0.8767529941652165.\u001b[0m\n",
      "\u001b[32m[I 2020-11-14 15:23:42,590]\u001b[0m Trial 8 finished with value: 0.8625243115979118 and parameters: {'max_depth': 4, 'n_estimators': 11, 'learning_rate': 0.5718317230974086, 'num_leaves': 10, 'min_child_samples': 89}. Best is trial 2 with value: 0.8767529941652165.\u001b[0m\n",
      "\u001b[32m[I 2020-11-14 15:23:42,947]\u001b[0m Trial 9 finished with value: 0.8738867847271983 and parameters: {'max_depth': 5, 'n_estimators': 78, 'learning_rate': 0.6140597075055164, 'num_leaves': 983, 'min_child_samples': 85}. Best is trial 2 with value: 0.8767529941652165.\u001b[0m\n",
      "\u001b[32m[I 2020-11-14 15:23:43,390]\u001b[0m Trial 10 finished with value: 0.8618077592384072 and parameters: {'max_depth': 2, 'n_estimators': 41, 'learning_rate': 0.3256202474135377, 'num_leaves': 607, 'min_child_samples': 17}. Best is trial 2 with value: 0.8767529941652165.\u001b[0m\n",
      "\u001b[32m[I 2020-11-14 15:23:43,742]\u001b[0m Trial 11 finished with value: 0.8725560446309756 and parameters: {'max_depth': 6, 'n_estimators': 48, 'learning_rate': 0.7113612372664031, 'num_leaves': 2984, 'min_child_samples': 113}. Best is trial 2 with value: 0.8767529941652165.\u001b[0m\n",
      "\u001b[32m[I 2020-11-14 15:23:44,233]\u001b[0m Trial 12 finished with value: 0.8789026512437301 and parameters: {'max_depth': 5, 'n_estimators': 112, 'learning_rate': 0.4019481372430025, 'num_leaves': 1639, 'min_child_samples': 63}. Best is trial 12 with value: 0.8789026512437301.\u001b[0m\n",
      "\u001b[32m[I 2020-11-14 15:23:44,936]\u001b[0m Trial 13 finished with value: 0.8760364418057119 and parameters: {'max_depth': 5, 'n_estimators': 109, 'learning_rate': 0.3697408255760969, 'num_leaves': 1713, 'min_child_samples': 51}. Best is trial 12 with value: 0.8789026512437301.\u001b[0m\n",
      "\u001b[32m[I 2020-11-14 15:23:45,717]\u001b[0m Trial 14 finished with value: 0.8758317125601393 and parameters: {'max_depth': 5, 'n_estimators': 148, 'learning_rate': 0.38212884984711276, 'num_leaves': 1022, 'min_child_samples': 56}. Best is trial 12 with value: 0.8789026512437301.\u001b[0m\n",
      "\u001b[32m[I 2020-11-14 15:23:46,310]\u001b[0m Trial 15 finished with value: 0.8770600880335756 and parameters: {'max_depth': 5, 'n_estimators': 122, 'learning_rate': 0.27472272104066003, 'num_leaves': 1311, 'min_child_samples': 3}. Best is trial 12 with value: 0.8789026512437301.\u001b[0m\n",
      "\u001b[32m[I 2020-11-14 15:23:46,787]\u001b[0m Trial 16 finished with value: 0.8765482649196438 and parameters: {'max_depth': 4, 'n_estimators': 128, 'learning_rate': 0.23404730066662557, 'num_leaves': 1929, 'min_child_samples': 6}. Best is trial 12 with value: 0.8789026512437301.\u001b[0m\n",
      "\u001b[32m[I 2020-11-14 15:23:47,338]\u001b[0m Trial 17 finished with value: 0.8601699252738254 and parameters: {'max_depth': 5, 'n_estimators': 101, 'learning_rate': 0.023416413472104713, 'num_leaves': 520, 'min_child_samples': 22}. Best is trial 12 with value: 0.8789026512437301.\u001b[0m\n",
      "\u001b[32m[I 2020-11-14 15:23:47,826]\u001b[0m Trial 18 finished with value: 0.8761388064284983 and parameters: {'max_depth': 3, 'n_estimators': 131, 'learning_rate': 0.26398593012776744, 'num_leaves': 1412, 'min_child_samples': 34}. Best is trial 12 with value: 0.8789026512437301.\u001b[0m\n",
      "\u001b[32m[I 2020-11-14 15:23:48,366]\u001b[0m Trial 19 finished with value: 0.8733749616132664 and parameters: {'max_depth': 5, 'n_estimators': 113, 'learning_rate': 0.09715194519837428, 'num_leaves': 2053, 'min_child_samples': 74}. Best is trial 12 with value: 0.8789026512437301.\u001b[0m\n",
      "\u001b[32m[I 2020-11-14 15:23:48,952]\u001b[0m Trial 20 finished with value: 0.8756269833145665 and parameters: {'max_depth': 4, 'n_estimators': 86, 'learning_rate': 0.44384548826021253, 'num_leaves': 611, 'min_child_samples': 4}. Best is trial 12 with value: 0.8789026512437301.\u001b[0m\n",
      "\u001b[32m[I 2020-11-14 15:23:49,328]\u001b[0m Trial 21 finished with value: 0.8759340771829256 and parameters: {'max_depth': 6, 'n_estimators': 56, 'learning_rate': 0.4517127799182714, 'num_leaves': 1047, 'min_child_samples': 112}. Best is trial 12 with value: 0.8789026512437301.\u001b[0m\n",
      "\u001b[32m[I 2020-11-14 15:23:49,609]\u001b[0m Trial 22 finished with value: 0.8726584092537619 and parameters: {'max_depth': 5, 'n_estimators': 31, 'learning_rate': 0.2982289272700721, 'num_leaves': 1259, 'min_child_samples': 68}. Best is trial 12 with value: 0.8789026512437301.\u001b[0m\n",
      "\u001b[32m[I 2020-11-14 15:23:50,129]\u001b[0m Trial 23 finished with value: 0.8705087521752483 and parameters: {'max_depth': 6, 'n_estimators': 101, 'learning_rate': 0.49654412805865555, 'num_leaves': 1585, 'min_child_samples': 105}. Best is trial 12 with value: 0.8789026512437301.\u001b[0m\n",
      "\u001b[32m[I 2020-11-14 15:23:50,708]\u001b[0m Trial 24 finished with value: 0.8743986078411301 and parameters: {'max_depth': 5, 'n_estimators': 134, 'learning_rate': 0.4037550852061804, 'num_leaves': 837, 'min_child_samples': 38}. Best is trial 12 with value: 0.8789026512437301.\u001b[0m\n",
      "\u001b[32m[I 2020-11-14 15:23:51,187]\u001b[0m Trial 25 finished with value: 0.8759340771829256 and parameters: {'max_depth': 6, 'n_estimators': 84, 'learning_rate': 0.2047863183023936, 'num_leaves': 1250, 'min_child_samples': 89}. Best is trial 12 with value: 0.8789026512437301.\u001b[0m\n",
      "\u001b[32m[I 2020-11-14 15:23:51,570]\u001b[0m Trial 26 finished with value: 0.8760364418057119 and parameters: {'max_depth': 5, 'n_estimators': 62, 'learning_rate': 0.31291152442273035, 'num_leaves': 1918, 'min_child_samples': 134}. Best is trial 12 with value: 0.8789026512437301.\u001b[0m\n",
      "\u001b[32m[I 2020-11-14 15:23:52,046]\u001b[0m Trial 27 finished with value: 0.8704063875524619 and parameters: {'max_depth': 4, 'n_estimators': 120, 'learning_rate': 0.10949347865647685, 'num_leaves': 291, 'min_child_samples': 199}. Best is trial 12 with value: 0.8789026512437301.\u001b[0m\n",
      "\u001b[32m[I 2020-11-14 15:23:52,568]\u001b[0m Trial 28 finished with value: 0.8719418568942573 and parameters: {'max_depth': 6, 'n_estimators': 95, 'learning_rate': 0.6540262381243885, 'num_leaves': 1283, 'min_child_samples': 71}. Best is trial 12 with value: 0.8789026512437301.\u001b[0m\n",
      "\u001b[32m[I 2020-11-14 15:23:52,931]\u001b[0m Trial 29 finished with value: 0.8766506295424301 and parameters: {'max_depth': 4, 'n_estimators': 76, 'learning_rate': 0.4861759975268844, 'num_leaves': 1528, 'min_child_samples': 99}. Best is trial 12 with value: 0.8789026512437301.\u001b[0m\n"
     ]
    },
    {
     "name": "stdout",
     "output_type": "stream",
     "text": [
      "Optimized on accuracy\n",
      "Optimized LightGBM accuracy:  0.8789026512437301\n",
      "Optimized LightGBM f1-score:  0.7321711568938194\n"
     ]
    }
   ],
   "source": [
    "lgb = LGBMClassifier(random_state=666)\n",
    "lgb.fit(X, y)\n",
    "preds = lgb.predict(X_val)\n",
    "\n",
    "print('LightGBM accuracy: ', accuracy_score(y_val, preds))\n",
    "print('LightGBM f1-score: ', f1_score(y_val, preds))\n",
    "\n",
    "\n",
    "def create_model(trial):\n",
    "    max_depth = trial.suggest_int(\"max_depth\", 2, 6)\n",
    "    n_estimators = trial.suggest_int(\"n_estimators\", 1, 150)\n",
    "    learning_rate = trial.suggest_uniform('learning_rate', 0.0000001, 1)\n",
    "    num_leaves = trial.suggest_int(\"num_leaves\", 2, 3000)\n",
    "    min_child_samples = trial.suggest_int('min_child_samples', 3, 200)\n",
    "    model = LGBMClassifier(\n",
    "        learning_rate=learning_rate, \n",
    "        n_estimators=n_estimators, \n",
    "        max_depth=max_depth, \n",
    "        num_leaves=num_leaves, \n",
    "        min_child_samples=min_child_samples,\n",
    "        random_state=666\n",
    "    )\n",
    "    return model\n",
    "\n",
    "optimizer = Optimizer('f1')\n",
    "lgb_f1_params = optimizer.optimize()\n",
    "lgb_f1_params['random_state'] = 666\n",
    "lgb_f1 = LGBMClassifier(**lgb_f1_params)\n",
    "lgb_f1.fit(X, y)\n",
    "preds = lgb_f1.predict(X_val)\n",
    "\n",
    "print('Optimized on F1-score')\n",
    "print('Optimized LightGBM accuracy: ', accuracy_score(y_val, preds))\n",
    "print('Optimized LightGBM f1-score: ', f1_score(y_val, preds))\n",
    "\n",
    "optimizer = Optimizer('acc')\n",
    "lgb_acc_params = optimizer.optimize()\n",
    "lgb_acc_params['random_state'] = 666\n",
    "lgb_acc = LGBMClassifier(**lgb_acc_params)\n",
    "lgb_acc.fit(X, y)\n",
    "preds = lgb_acc.predict(X_val)\n",
    "\n",
    "print('Optimized on accuracy')\n",
    "print('Optimized LightGBM accuracy: ', accuracy_score(y_val, preds))\n",
    "print('Optimized LightGBM f1-score: ', f1_score(y_val, preds))\n"
   ]
  },
  {
   "cell_type": "code",
   "execution_count": 58,
   "metadata": {},
   "outputs": [
    {
     "name": "stdout",
     "output_type": "stream",
     "text": [
      "Logistic Regression:  0.8059166751970519\n",
      "Logistic Regression f1-score:  0.49493873201917954\n"
     ]
    }
   ],
   "source": [
    "lr = LogisticRegression(random_state=666)\n",
    "lr.fit(X, y)\n",
    "preds = lr.predict(X_val)\n",
    "\n",
    "print('Logistic Regression: ', accuracy_score(y_val, preds))\n",
    "print('Logistic Regression f1-score: ', f1_score(y_val, preds))"
   ]
  },
  {
   "cell_type": "code",
   "execution_count": 59,
   "metadata": {},
   "outputs": [
    {
     "name": "stderr",
     "output_type": "stream",
     "text": [
      "\u001b[32m[I 2020-11-14 15:25:50,557]\u001b[0m A new study created in memory with name: no-name-37aa605d-9f58-4c2c-b27e-2580bfbec43b\u001b[0m\n",
      "\u001b[32m[I 2020-11-14 15:25:50,620]\u001b[0m Trial 0 finished with value: 0.5017881705639615 and parameters: {'max_depth': 2, 'min_samples_split': 11, 'min_weight_fraction_leaf': 0.06903021745544208, 'min_samples_leaf': 4}. Best is trial 0 with value: 0.5017881705639615.\u001b[0m\n",
      "\u001b[32m[I 2020-11-14 15:25:50,722]\u001b[0m Trial 1 finished with value: 0.6452719255267026 and parameters: {'max_depth': 5, 'min_samples_split': 2, 'min_weight_fraction_leaf': 0.008902801152717355, 'min_samples_leaf': 10}. Best is trial 1 with value: 0.6452719255267026.\u001b[0m\n"
     ]
    },
    {
     "name": "stdout",
     "output_type": "stream",
     "text": [
      "Decision Tree accuracy:  0.8262872351315386\n",
      "Decision Tree f1-score:  0.6422095720008433\n"
     ]
    },
    {
     "name": "stderr",
     "output_type": "stream",
     "text": [
      "\u001b[32m[I 2020-11-14 15:25:50,777]\u001b[0m Trial 2 finished with value: 0.5982978723404255 and parameters: {'max_depth': 2, 'min_samples_split': 9, 'min_weight_fraction_leaf': 0.15484502635592906, 'min_samples_leaf': 4}. Best is trial 1 with value: 0.6452719255267026.\u001b[0m\n",
      "\u001b[32m[I 2020-11-14 15:25:50,829]\u001b[0m Trial 3 finished with value: 0.0 and parameters: {'max_depth': 6, 'min_samples_split': 13, 'min_weight_fraction_leaf': 0.27034954769671615, 'min_samples_leaf': 1}. Best is trial 1 with value: 0.6452719255267026.\u001b[0m\n",
      "\u001b[32m[I 2020-11-14 15:25:50,873]\u001b[0m Trial 4 finished with value: 0.0 and parameters: {'max_depth': 5, 'min_samples_split': 10, 'min_weight_fraction_leaf': 0.3907437276904589, 'min_samples_leaf': 9}. Best is trial 1 with value: 0.6452719255267026.\u001b[0m\n",
      "\u001b[32m[I 2020-11-14 15:25:50,929]\u001b[0m Trial 5 finished with value: 0.0 and parameters: {'max_depth': 2, 'min_samples_split': 4, 'min_weight_fraction_leaf': 0.19881571980719204, 'min_samples_leaf': 2}. Best is trial 1 with value: 0.6452719255267026.\u001b[0m\n",
      "\u001b[32m[I 2020-11-14 15:25:50,974]\u001b[0m Trial 6 finished with value: 0.0 and parameters: {'max_depth': 3, 'min_samples_split': 2, 'min_weight_fraction_leaf': 0.22082521074271905, 'min_samples_leaf': 6}. Best is trial 1 with value: 0.6452719255267026.\u001b[0m\n",
      "\u001b[32m[I 2020-11-14 15:25:51,071]\u001b[0m Trial 7 finished with value: 0.5017881705639615 and parameters: {'max_depth': 2, 'min_samples_split': 12, 'min_weight_fraction_leaf': 0.08872900320107868, 'min_samples_leaf': 8}. Best is trial 1 with value: 0.6452719255267026.\u001b[0m\n",
      "\u001b[32m[I 2020-11-14 15:25:51,158]\u001b[0m Trial 8 finished with value: 0.0 and parameters: {'max_depth': 6, 'min_samples_split': 16, 'min_weight_fraction_leaf': 0.24923692219476729, 'min_samples_leaf': 7}. Best is trial 1 with value: 0.6452719255267026.\u001b[0m\n",
      "\u001b[32m[I 2020-11-14 15:25:51,217]\u001b[0m Trial 9 finished with value: 0.0 and parameters: {'max_depth': 4, 'min_samples_split': 12, 'min_weight_fraction_leaf': 0.43546522996172354, 'min_samples_leaf': 8}. Best is trial 1 with value: 0.6452719255267026.\u001b[0m\n",
      "\u001b[32m[I 2020-11-14 15:25:51,426]\u001b[0m Trial 10 finished with value: 0.6455758774097875 and parameters: {'max_depth': 5, 'min_samples_split': 6, 'min_weight_fraction_leaf': 0.004143902219379635, 'min_samples_leaf': 10}. Best is trial 10 with value: 0.6455758774097875.\u001b[0m\n",
      "\u001b[32m[I 2020-11-14 15:25:51,546]\u001b[0m Trial 11 finished with value: 0.649401417053506 and parameters: {'max_depth': 5, 'min_samples_split': 6, 'min_weight_fraction_leaf': 0.006633589545817393, 'min_samples_leaf': 10}. Best is trial 11 with value: 0.649401417053506.\u001b[0m\n",
      "\u001b[32m[I 2020-11-14 15:25:51,658]\u001b[0m Trial 12 finished with value: 0.6471312484609701 and parameters: {'max_depth': 5, 'min_samples_split': 6, 'min_weight_fraction_leaf': 0.00151062450083711, 'min_samples_leaf': 10}. Best is trial 11 with value: 0.649401417053506.\u001b[0m\n",
      "\u001b[32m[I 2020-11-14 15:25:51,749]\u001b[0m Trial 13 finished with value: 0.5017881705639615 and parameters: {'max_depth': 4, 'min_samples_split': 6, 'min_weight_fraction_leaf': 0.07624613114985834, 'min_samples_leaf': 10}. Best is trial 11 with value: 0.649401417053506.\u001b[0m\n",
      "\u001b[32m[I 2020-11-14 15:25:51,855]\u001b[0m Trial 14 finished with value: 0.580029368575624 and parameters: {'max_depth': 5, 'min_samples_split': 7, 'min_weight_fraction_leaf': 0.02207705899716189, 'min_samples_leaf': 9}. Best is trial 11 with value: 0.649401417053506.\u001b[0m\n",
      "\u001b[32m[I 2020-11-14 15:25:51,918]\u001b[0m Trial 15 finished with value: 0.0 and parameters: {'max_depth': 6, 'min_samples_split': 4, 'min_weight_fraction_leaf': 0.33753994349669425, 'min_samples_leaf': 8}. Best is trial 11 with value: 0.649401417053506.\u001b[0m\n",
      "\u001b[32m[I 2020-11-14 15:25:51,999]\u001b[0m Trial 16 finished with value: 0.5982978723404255 and parameters: {'max_depth': 4, 'min_samples_split': 8, 'min_weight_fraction_leaf': 0.15598425256161633, 'min_samples_leaf': 5}. Best is trial 11 with value: 0.649401417053506.\u001b[0m\n",
      "\u001b[32m[I 2020-11-14 15:25:52,111]\u001b[0m Trial 17 finished with value: 0.5017881705639615 and parameters: {'max_depth': 5, 'min_samples_split': 4, 'min_weight_fraction_leaf': 0.11348507176128964, 'min_samples_leaf': 10}. Best is trial 11 with value: 0.649401417053506.\u001b[0m\n",
      "\u001b[32m[I 2020-11-14 15:25:52,210]\u001b[0m Trial 18 finished with value: 0.6038412291933418 and parameters: {'max_depth': 3, 'min_samples_split': 5, 'min_weight_fraction_leaf': 0.0044611848348717065, 'min_samples_leaf': 7}. Best is trial 11 with value: 0.649401417053506.\u001b[0m\n",
      "\u001b[32m[I 2020-11-14 15:25:52,337]\u001b[0m Trial 19 finished with value: 0.5957058017359524 and parameters: {'max_depth': 6, 'min_samples_split': 8, 'min_weight_fraction_leaf': 0.04216957606857093, 'min_samples_leaf': 9}. Best is trial 11 with value: 0.649401417053506.\u001b[0m\n",
      "\u001b[32m[I 2020-11-14 15:25:52,428]\u001b[0m Trial 20 finished with value: 0.5340793489318413 and parameters: {'max_depth': 3, 'min_samples_split': 3, 'min_weight_fraction_leaf': 0.1358080556459604, 'min_samples_leaf': 7}. Best is trial 11 with value: 0.649401417053506.\u001b[0m\n",
      "\u001b[32m[I 2020-11-14 15:25:52,545]\u001b[0m Trial 21 finished with value: 0.6299975769323964 and parameters: {'max_depth': 5, 'min_samples_split': 6, 'min_weight_fraction_leaf': 0.014989014400702303, 'min_samples_leaf': 10}. Best is trial 11 with value: 0.649401417053506.\u001b[0m\n",
      "\u001b[32m[I 2020-11-14 15:25:52,662]\u001b[0m Trial 22 finished with value: 0.5017881705639615 and parameters: {'max_depth': 5, 'min_samples_split': 6, 'min_weight_fraction_leaf': 0.05414289397733826, 'min_samples_leaf': 9}. Best is trial 11 with value: 0.649401417053506.\u001b[0m\n",
      "\u001b[32m[I 2020-11-14 15:25:52,818]\u001b[0m Trial 23 finished with value: 0.649401417053506 and parameters: {'max_depth': 5, 'min_samples_split': 7, 'min_weight_fraction_leaf': 0.005618837076609665, 'min_samples_leaf': 10}. Best is trial 11 with value: 0.649401417053506.\u001b[0m\n",
      "\u001b[32m[I 2020-11-14 15:25:52,894]\u001b[0m Trial 24 finished with value: 0.0 and parameters: {'max_depth': 4, 'min_samples_split': 9, 'min_weight_fraction_leaf': 0.49911830913016964, 'min_samples_leaf': 9}. Best is trial 11 with value: 0.649401417053506.\u001b[0m\n",
      "\u001b[32m[I 2020-11-14 15:25:53,004]\u001b[0m Trial 25 finished with value: 0.5017881705639615 and parameters: {'max_depth': 6, 'min_samples_split': 8, 'min_weight_fraction_leaf': 0.10615103712869545, 'min_samples_leaf': 10}. Best is trial 11 with value: 0.649401417053506.\u001b[0m\n",
      "\u001b[32m[I 2020-11-14 15:25:53,143]\u001b[0m Trial 26 finished with value: 0.5800762631077218 and parameters: {'max_depth': 5, 'min_samples_split': 7, 'min_weight_fraction_leaf': 0.04770877692130879, 'min_samples_leaf': 8}. Best is trial 11 with value: 0.649401417053506.\u001b[0m\n",
      "\u001b[32m[I 2020-11-14 15:25:53,276]\u001b[0m Trial 27 finished with value: 0.0 and parameters: {'max_depth': 4, 'min_samples_split': 5, 'min_weight_fraction_leaf': 0.18764814664949403, 'min_samples_leaf': 9}. Best is trial 11 with value: 0.649401417053506.\u001b[0m\n",
      "\u001b[32m[I 2020-11-14 15:25:53,451]\u001b[0m Trial 28 finished with value: 0.6471312484609701 and parameters: {'max_depth': 5, 'min_samples_split': 7, 'min_weight_fraction_leaf': 0.0013109310657404153, 'min_samples_leaf': 6}. Best is trial 11 with value: 0.649401417053506.\u001b[0m\n",
      "\u001b[32m[I 2020-11-14 15:25:53,566]\u001b[0m Trial 29 finished with value: 0.5017881705639615 and parameters: {'max_depth': 6, 'min_samples_split': 10, 'min_weight_fraction_leaf': 0.07030451472202194, 'min_samples_leaf': 3}. Best is trial 11 with value: 0.649401417053506.\u001b[0m\n",
      "\u001b[32m[I 2020-11-14 15:25:53,665]\u001b[0m A new study created in memory with name: no-name-58d4b6d7-2b0f-42d9-adf0-27bb9b6929d3\u001b[0m\n",
      "\u001b[32m[I 2020-11-14 15:25:53,706]\u001b[0m Trial 0 finished with value: 0.7539154468215785 and parameters: {'max_depth': 4, 'min_samples_split': 2, 'min_weight_fraction_leaf': 0.45937743941220427, 'min_samples_leaf': 1}. Best is trial 0 with value: 0.7539154468215785.\u001b[0m\n",
      "\u001b[32m[I 2020-11-14 15:25:53,738]\u001b[0m Trial 1 finished with value: 0.7539154468215785 and parameters: {'max_depth': 3, 'min_samples_split': 5, 'min_weight_fraction_leaf': 0.44705735108482897, 'min_samples_leaf': 7}. Best is trial 0 with value: 0.7539154468215785.\u001b[0m\n",
      "\u001b[32m[I 2020-11-14 15:25:53,769]\u001b[0m Trial 2 finished with value: 0.7539154468215785 and parameters: {'max_depth': 3, 'min_samples_split': 14, 'min_weight_fraction_leaf': 0.37112321925280894, 'min_samples_leaf': 8}. Best is trial 0 with value: 0.7539154468215785.\u001b[0m\n",
      "\u001b[32m[I 2020-11-14 15:25:53,806]\u001b[0m Trial 3 finished with value: 0.7539154468215785 and parameters: {'max_depth': 6, 'min_samples_split': 2, 'min_weight_fraction_leaf': 0.4498398183927354, 'min_samples_leaf': 8}. Best is trial 0 with value: 0.7539154468215785.\u001b[0m\n"
     ]
    },
    {
     "name": "stdout",
     "output_type": "stream",
     "text": [
      "Optimized on F1-score\n",
      "Optimized Decision Tree accuracy:  0.8531067663015662\n",
      "Optimized Decision Tree f1-score:  0.649401417053506\n"
     ]
    },
    {
     "name": "stderr",
     "output_type": "stream",
     "text": [
      "\u001b[32m[I 2020-11-14 15:25:53,913]\u001b[0m Trial 4 finished with value: 0.8541304125294298 and parameters: {'max_depth': 6, 'min_samples_split': 2, 'min_weight_fraction_leaf': 0.0027642485009835016, 'min_samples_leaf': 2}. Best is trial 4 with value: 0.8541304125294298.\u001b[0m\n",
      "\u001b[32m[I 2020-11-14 15:25:53,945]\u001b[0m Trial 5 finished with value: 0.7539154468215785 and parameters: {'max_depth': 4, 'min_samples_split': 16, 'min_weight_fraction_leaf': 0.34526434506167863, 'min_samples_leaf': 3}. Best is trial 4 with value: 0.8541304125294298.\u001b[0m\n",
      "\u001b[32m[I 2020-11-14 15:25:54,018]\u001b[0m Trial 6 finished with value: 0.8146176681338929 and parameters: {'max_depth': 4, 'min_samples_split': 16, 'min_weight_fraction_leaf': 0.11709356155834921, 'min_samples_leaf': 7}. Best is trial 4 with value: 0.8541304125294298.\u001b[0m\n",
      "\u001b[32m[I 2020-11-14 15:25:54,108]\u001b[0m Trial 7 finished with value: 0.8146176681338929 and parameters: {'max_depth': 6, 'min_samples_split': 3, 'min_weight_fraction_leaf': 0.05404250308919173, 'min_samples_leaf': 6}. Best is trial 4 with value: 0.8541304125294298.\u001b[0m\n",
      "\u001b[32m[I 2020-11-14 15:25:54,140]\u001b[0m Trial 8 finished with value: 0.7539154468215785 and parameters: {'max_depth': 4, 'min_samples_split': 8, 'min_weight_fraction_leaf': 0.4048674312410591, 'min_samples_leaf': 3}. Best is trial 4 with value: 0.8541304125294298.\u001b[0m\n",
      "\u001b[32m[I 2020-11-14 15:25:54,174]\u001b[0m Trial 9 finished with value: 0.7539154468215785 and parameters: {'max_depth': 5, 'min_samples_split': 12, 'min_weight_fraction_leaf': 0.35158696464862527, 'min_samples_leaf': 7}. Best is trial 4 with value: 0.8541304125294298.\u001b[0m\n",
      "\u001b[32m[I 2020-11-14 15:25:54,244]\u001b[0m Trial 10 finished with value: 0.8067355921793428 and parameters: {'max_depth': 2, 'min_samples_split': 7, 'min_weight_fraction_leaf': 0.17467386406166815, 'min_samples_leaf': 1}. Best is trial 4 with value: 0.8541304125294298.\u001b[0m\n",
      "\u001b[32m[I 2020-11-14 15:25:54,377]\u001b[0m Trial 11 finished with value: 0.8527996724332071 and parameters: {'max_depth': 5, 'min_samples_split': 11, 'min_weight_fraction_leaf': 0.007591200115058289, 'min_samples_leaf': 10}. Best is trial 4 with value: 0.8541304125294298.\u001b[0m\n",
      "\u001b[32m[I 2020-11-14 15:25:54,550]\u001b[0m Trial 12 finished with value: 0.8531067663015662 and parameters: {'max_depth': 5, 'min_samples_split': 10, 'min_weight_fraction_leaf': 0.006724704458692239, 'min_samples_leaf': 10}. Best is trial 4 with value: 0.8541304125294298.\u001b[0m\n",
      "\u001b[32m[I 2020-11-14 15:25:54,729]\u001b[0m Trial 13 finished with value: 0.8436892210052206 and parameters: {'max_depth': 6, 'min_samples_split': 10, 'min_weight_fraction_leaf': 0.016125931726983532, 'min_samples_leaf': 4}. Best is trial 4 with value: 0.8541304125294298.\u001b[0m\n",
      "\u001b[32m[I 2020-11-14 15:25:54,830]\u001b[0m Trial 14 finished with value: 0.7539154468215785 and parameters: {'max_depth': 5, 'min_samples_split': 5, 'min_weight_fraction_leaf': 0.24928699517775288, 'min_samples_leaf': 10}. Best is trial 4 with value: 0.8541304125294298.\u001b[0m\n",
      "\u001b[32m[I 2020-11-14 15:25:54,958]\u001b[0m Trial 15 finished with value: 0.8146176681338929 and parameters: {'max_depth': 5, 'min_samples_split': 13, 'min_weight_fraction_leaf': 0.09351601812259336, 'min_samples_leaf': 4}. Best is trial 4 with value: 0.8541304125294298.\u001b[0m\n",
      "\u001b[32m[I 2020-11-14 15:25:55,040]\u001b[0m Trial 16 finished with value: 0.8067355921793428 and parameters: {'max_depth': 6, 'min_samples_split': 7, 'min_weight_fraction_leaf': 0.1775073034239791, 'min_samples_leaf': 2}. Best is trial 4 with value: 0.8541304125294298.\u001b[0m\n",
      "\u001b[32m[I 2020-11-14 15:25:55,155]\u001b[0m Trial 17 finished with value: 0.8534138601699253 and parameters: {'max_depth': 5, 'min_samples_split': 9, 'min_weight_fraction_leaf': 0.0036096714446875186, 'min_samples_leaf': 5}. Best is trial 4 with value: 0.8541304125294298.\u001b[0m\n",
      "\u001b[32m[I 2020-11-14 15:25:55,241]\u001b[0m Trial 18 finished with value: 0.8146176681338929 and parameters: {'max_depth': 6, 'min_samples_split': 5, 'min_weight_fraction_leaf': 0.08181503899352913, 'min_samples_leaf': 5}. Best is trial 4 with value: 0.8541304125294298.\u001b[0m\n",
      "\u001b[32m[I 2020-11-14 15:25:55,314]\u001b[0m Trial 19 finished with value: 0.8124680110553792 and parameters: {'max_depth': 5, 'min_samples_split': 9, 'min_weight_fraction_leaf': 0.13617018766844266, 'min_samples_leaf': 2}. Best is trial 4 with value: 0.8541304125294298.\u001b[0m\n",
      "\u001b[32m[I 2020-11-14 15:25:55,373]\u001b[0m Trial 20 finished with value: 0.7539154468215785 and parameters: {'max_depth': 3, 'min_samples_split': 7, 'min_weight_fraction_leaf': 0.26163476259263607, 'min_samples_leaf': 4}. Best is trial 4 with value: 0.8541304125294298.\u001b[0m\n",
      "\u001b[32m[I 2020-11-14 15:25:55,473]\u001b[0m Trial 21 finished with value: 0.8542327771522162 and parameters: {'max_depth': 5, 'min_samples_split': 10, 'min_weight_fraction_leaf': 0.00016221579247490065, 'min_samples_leaf': 9}. Best is trial 21 with value: 0.8542327771522162.\u001b[0m\n",
      "\u001b[32m[I 2020-11-14 15:25:55,562]\u001b[0m Trial 22 finished with value: 0.8188146176681339 and parameters: {'max_depth': 5, 'min_samples_split': 9, 'min_weight_fraction_leaf': 0.044086373618778374, 'min_samples_leaf': 5}. Best is trial 21 with value: 0.8542327771522162.\u001b[0m\n",
      "\u001b[32m[I 2020-11-14 15:25:55,657]\u001b[0m Trial 23 finished with value: 0.8188146176681339 and parameters: {'max_depth': 6, 'min_samples_split': 11, 'min_weight_fraction_leaf': 0.037717196851566964, 'min_samples_leaf': 9}. Best is trial 21 with value: 0.8542327771522162.\u001b[0m\n",
      "\u001b[32m[I 2020-11-14 15:25:55,742]\u001b[0m Trial 24 finished with value: 0.8146176681338929 and parameters: {'max_depth': 5, 'min_samples_split': 14, 'min_weight_fraction_leaf': 0.07167760856724317, 'min_samples_leaf': 6}. Best is trial 21 with value: 0.8542327771522162.\u001b[0m\n",
      "\u001b[32m[I 2020-11-14 15:25:55,848]\u001b[0m Trial 25 finished with value: 0.8527996724332071 and parameters: {'max_depth': 6, 'min_samples_split': 8, 'min_weight_fraction_leaf': 0.007623930959694075, 'min_samples_leaf': 2}. Best is trial 21 with value: 0.8542327771522162.\u001b[0m\n",
      "\u001b[32m[I 2020-11-14 15:25:55,980]\u001b[0m Trial 26 finished with value: 0.8067355921793428 and parameters: {'max_depth': 5, 'min_samples_split': 12, 'min_weight_fraction_leaf': 0.1527552208698245, 'min_samples_leaf': 9}. Best is trial 21 with value: 0.8542327771522162.\u001b[0m\n",
      "\u001b[32m[I 2020-11-14 15:25:56,065]\u001b[0m Trial 27 finished with value: 0.7539154468215785 and parameters: {'max_depth': 4, 'min_samples_split': 6, 'min_weight_fraction_leaf': 0.23433519262175126, 'min_samples_leaf': 3}. Best is trial 21 with value: 0.8542327771522162.\u001b[0m\n",
      "\u001b[32m[I 2020-11-14 15:25:56,172]\u001b[0m Trial 28 finished with value: 0.8146176681338929 and parameters: {'max_depth': 6, 'min_samples_split': 11, 'min_weight_fraction_leaf': 0.1130299985965109, 'min_samples_leaf': 5}. Best is trial 21 with value: 0.8542327771522162.\u001b[0m\n",
      "\u001b[32m[I 2020-11-14 15:25:56,277]\u001b[0m Trial 29 finished with value: 0.8451223257242297 and parameters: {'max_depth': 4, 'min_samples_split': 10, 'min_weight_fraction_leaf': 0.004784056636407125, 'min_samples_leaf': 1}. Best is trial 21 with value: 0.8542327771522162.\u001b[0m\n"
     ]
    },
    {
     "name": "stdout",
     "output_type": "stream",
     "text": [
      "Optimized on accuracy\n",
      "Optimized Decision Tree accuracy:  0.8542327771522162\n",
      "Optimized Decision Tree f1-score:  0.6531904529956162\n"
     ]
    }
   ],
   "source": [
    "dt = DecisionTreeClassifier(random_state=666)\n",
    "dt.fit(X, y)\n",
    "preds = dt.predict(X_val)\n",
    "\n",
    "print('Decision Tree accuracy: ', accuracy_score(y_val, preds))\n",
    "print('Decision Tree f1-score: ', f1_score(y_val, preds))\n",
    "\n",
    "def create_model(trial):\n",
    "    max_depth = trial.suggest_int(\"max_depth\", 2, 6)\n",
    "    min_samples_split = trial.suggest_int('min_samples_split', 2, 16)\n",
    "    min_weight_fraction_leaf = trial.suggest_uniform('min_weight_fraction_leaf', 0.0, 0.5)\n",
    "    min_samples_leaf = trial.suggest_int('min_samples_leaf', 1, 10)\n",
    "    model = DecisionTreeClassifier(\n",
    "        min_samples_split=min_samples_split, \n",
    "        min_weight_fraction_leaf=min_weight_fraction_leaf, \n",
    "        max_depth=max_depth, \n",
    "        min_samples_leaf=min_samples_leaf, \n",
    "        random_state=666\n",
    "    )\n",
    "    return model\n",
    "\n",
    "optimizer = Optimizer('f1')\n",
    "dt_f1_params = optimizer.optimize()\n",
    "dt_f1_params['random_state'] = 666\n",
    "dt_f1 = DecisionTreeClassifier(**dt_f1_params)\n",
    "dt_f1.fit(X, y)\n",
    "preds = dt_f1.predict(X_val)\n",
    "\n",
    "print('Optimized on F1-score')\n",
    "print('Optimized Decision Tree accuracy: ', accuracy_score(y_val, preds))\n",
    "print('Optimized Decision Tree f1-score: ', f1_score(y_val, preds))\n",
    "\n",
    "optimizer = Optimizer('acc')\n",
    "dt_acc_params = optimizer.optimize()\n",
    "dt_acc_params['random_state'] = 666\n",
    "dt_acc = DecisionTreeClassifier(**dt_acc_params)\n",
    "dt_acc.fit(X, y)\n",
    "preds = dt_acc.predict(X_val)\n",
    "\n",
    "print('Optimized on accuracy')\n",
    "print('Optimized Decision Tree accuracy: ', accuracy_score(y_val, preds))\n",
    "print('Optimized Decision Tree f1-score: ', f1_score(y_val, preds))"
   ]
  },
  {
   "cell_type": "code",
   "execution_count": 62,
   "metadata": {},
   "outputs": [
    {
     "name": "stderr",
     "output_type": "stream",
     "text": [
      "\u001b[32m[I 2020-11-14 15:27:26,201]\u001b[0m A new study created in memory with name: no-name-7fd64b05-0130-4161-a270-a3d9c8995041\u001b[0m\n"
     ]
    },
    {
     "name": "stdout",
     "output_type": "stream",
     "text": [
      "Bagging Classifier accuracy:  0.8463507011976661\n",
      "Bagging Classifier f1-score:  0.6650301272037492\n"
     ]
    },
    {
     "name": "stderr",
     "output_type": "stream",
     "text": [
      "\u001b[32m[I 2020-11-14 15:27:27,121]\u001b[0m Trial 0 finished with value: 0.6064418721690991 and parameters: {'n_estimators': 47, 'max_samples': 55}. Best is trial 0 with value: 0.6064418721690991.\u001b[0m\n",
      "\u001b[32m[I 2020-11-14 15:27:31,193]\u001b[0m Trial 1 finished with value: 0.5798847564169722 and parameters: {'n_estimators': 187, 'max_samples': 48}. Best is trial 0 with value: 0.6064418721690991.\u001b[0m\n",
      "\u001b[32m[I 2020-11-14 15:27:32,992]\u001b[0m Trial 2 finished with value: 0.5286839145106862 and parameters: {'n_estimators': 89, 'max_samples': 29}. Best is trial 0 with value: 0.6064418721690991.\u001b[0m\n",
      "\u001b[32m[I 2020-11-14 15:27:35,513]\u001b[0m Trial 3 finished with value: 0.0 and parameters: {'n_estimators': 161, 'max_samples': 5}. Best is trial 0 with value: 0.6064418721690991.\u001b[0m\n",
      "\u001b[32m[I 2020-11-14 15:27:37,575]\u001b[0m Trial 4 finished with value: 0.44819277108433736 and parameters: {'n_estimators': 118, 'max_samples': 19}. Best is trial 0 with value: 0.6064418721690991.\u001b[0m\n",
      "\u001b[32m[I 2020-11-14 15:27:37,877]\u001b[0m Trial 5 finished with value: 0.6039255158530448 and parameters: {'n_estimators': 18, 'max_samples': 76}. Best is trial 0 with value: 0.6064418721690991.\u001b[0m\n",
      "\u001b[32m[I 2020-11-14 15:27:40,521]\u001b[0m Trial 6 finished with value: 0.18694362017804156 and parameters: {'n_estimators': 111, 'max_samples': 10}. Best is trial 0 with value: 0.6064418721690991.\u001b[0m\n",
      "\u001b[32m[I 2020-11-14 15:27:43,383]\u001b[0m Trial 7 finished with value: 0.0 and parameters: {'n_estimators': 169, 'max_samples': 1}. Best is trial 0 with value: 0.6064418721690991.\u001b[0m\n",
      "\u001b[32m[I 2020-11-14 15:27:45,502]\u001b[0m Trial 8 finished with value: 0.6044125192406362 and parameters: {'n_estimators': 86, 'max_samples': 77}. Best is trial 0 with value: 0.6064418721690991.\u001b[0m\n",
      "\u001b[32m[I 2020-11-14 15:27:46,325]\u001b[0m Trial 9 finished with value: 0.3194630872483221 and parameters: {'n_estimators': 51, 'max_samples': 8}. Best is trial 0 with value: 0.6064418721690991.\u001b[0m\n",
      "\u001b[32m[I 2020-11-14 15:27:46,429]\u001b[0m Trial 10 finished with value: 0.4856834143706105 and parameters: {'n_estimators': 5, 'max_samples': 50}. Best is trial 0 with value: 0.6064418721690991.\u001b[0m\n",
      "\u001b[32m[I 2020-11-14 15:27:47,600]\u001b[0m Trial 11 finished with value: 0.6337993622761835 and parameters: {'n_estimators': 60, 'max_samples': 88}. Best is trial 11 with value: 0.6337993622761835.\u001b[0m\n",
      "\u001b[32m[I 2020-11-14 15:27:48,448]\u001b[0m Trial 12 finished with value: 0.6203610832497493 and parameters: {'n_estimators': 46, 'max_samples': 87}. Best is trial 11 with value: 0.6337993622761835.\u001b[0m\n",
      "\u001b[32m[I 2020-11-14 15:27:49,421]\u001b[0m Trial 13 finished with value: 0.6496367471291304 and parameters: {'n_estimators': 45, 'max_samples': 97}. Best is trial 13 with value: 0.6496367471291304.\u001b[0m\n",
      "\u001b[32m[I 2020-11-14 15:27:50,530]\u001b[0m Trial 14 finished with value: 0.6419634263715109 and parameters: {'n_estimators': 66, 'max_samples': 99}. Best is trial 13 with value: 0.6496367471291304.\u001b[0m\n",
      "\u001b[32m[I 2020-11-14 15:27:50,916]\u001b[0m Trial 15 finished with value: 0.6449634347723521 and parameters: {'n_estimators': 23, 'max_samples': 97}. Best is trial 13 with value: 0.6496367471291304.\u001b[0m\n",
      "\u001b[32m[I 2020-11-14 15:27:51,211]\u001b[0m Trial 16 finished with value: 0.6408839779005525 and parameters: {'n_estimators': 17, 'max_samples': 98}. Best is trial 13 with value: 0.6496367471291304.\u001b[0m\n",
      "\u001b[32m[I 2020-11-14 15:27:51,489]\u001b[0m Trial 17 finished with value: 0.5913449080072558 and parameters: {'n_estimators': 16, 'max_samples': 64}. Best is trial 13 with value: 0.6496367471291304.\u001b[0m\n",
      "\u001b[32m[I 2020-11-14 15:27:52,101]\u001b[0m Trial 18 finished with value: 0.6266506602641055 and parameters: {'n_estimators': 32, 'max_samples': 91}. Best is trial 13 with value: 0.6496367471291304.\u001b[0m\n",
      "\u001b[32m[I 2020-11-14 15:27:54,539]\u001b[0m Trial 19 finished with value: 0.617550917777219 and parameters: {'n_estimators': 133, 'max_samples': 74}. Best is trial 13 with value: 0.6496367471291304.\u001b[0m\n",
      "\u001b[32m[I 2020-11-14 15:27:56,387]\u001b[0m Trial 20 finished with value: 0.6518942101501073 and parameters: {'n_estimators': 75, 'max_samples': 100}. Best is trial 20 with value: 0.6518942101501073.\u001b[0m\n",
      "\u001b[32m[I 2020-11-14 15:27:57,752]\u001b[0m Trial 21 finished with value: 0.6483647648603487 and parameters: {'n_estimators': 72, 'max_samples': 98}. Best is trial 20 with value: 0.6518942101501073.\u001b[0m\n",
      "\u001b[32m[I 2020-11-14 15:27:59,030]\u001b[0m Trial 22 finished with value: 0.6301096709870389 and parameters: {'n_estimators': 77, 'max_samples': 81}. Best is trial 20 with value: 0.6518942101501073.\u001b[0m\n",
      "\u001b[32m[I 2020-11-14 15:28:00,754]\u001b[0m Trial 23 finished with value: 0.64 and parameters: {'n_estimators': 94, 'max_samples': 100}. Best is trial 20 with value: 0.6518942101501073.\u001b[0m\n",
      "\u001b[32m[I 2020-11-14 15:28:01,918]\u001b[0m Trial 24 finished with value: 0.6010362694300518 and parameters: {'n_estimators': 71, 'max_samples': 69}. Best is trial 20 with value: 0.6518942101501073.\u001b[0m\n",
      "\u001b[32m[I 2020-11-14 15:28:02,542]\u001b[0m Trial 25 finished with value: 0.613393079412497 and parameters: {'n_estimators': 36, 'max_samples': 88}. Best is trial 20 with value: 0.6518942101501073.\u001b[0m\n",
      "\u001b[32m[I 2020-11-14 15:28:04,231]\u001b[0m Trial 26 finished with value: 0.6427532719340765 and parameters: {'n_estimators': 105, 'max_samples': 100}. Best is trial 20 with value: 0.6518942101501073.\u001b[0m\n",
      "\u001b[32m[I 2020-11-14 15:28:06,388]\u001b[0m Trial 27 finished with value: 0.6354090354090355 and parameters: {'n_estimators': 123, 'max_samples': 94}. Best is trial 20 with value: 0.6518942101501073.\u001b[0m\n",
      "\u001b[32m[I 2020-11-14 15:28:07,667]\u001b[0m Trial 28 finished with value: 0.5738993710691824 and parameters: {'n_estimators': 79, 'max_samples': 38}. Best is trial 20 with value: 0.6518942101501073.\u001b[0m\n",
      "\u001b[32m[I 2020-11-14 15:28:08,593]\u001b[0m Trial 29 finished with value: 0.5932940875351933 and parameters: {'n_estimators': 56, 'max_samples': 60}. Best is trial 20 with value: 0.6518942101501073.\u001b[0m\n",
      "\u001b[32m[I 2020-11-14 15:28:09,817]\u001b[0m A new study created in memory with name: no-name-adfb683d-d620-4691-9ab9-59ce770fb805\u001b[0m\n"
     ]
    },
    {
     "name": "stdout",
     "output_type": "stream",
     "text": [
      "Optimized on F1-score\n",
      "Optimized Bagging Classifier accuracy:  0.8504452861091207\n",
      "Optimized Bagging Classifier f1-score:  0.6518942101501073\n"
     ]
    },
    {
     "name": "stderr",
     "output_type": "stream",
     "text": [
      "\u001b[32m[I 2020-11-14 15:28:10,920]\u001b[0m Trial 0 finished with value: 0.7539154468215785 and parameters: {'n_estimators': 57, 'max_samples': 3}. Best is trial 0 with value: 0.7539154468215785.\u001b[0m\n",
      "\u001b[32m[I 2020-11-14 15:28:11,183]\u001b[0m Trial 1 finished with value: 0.8351929573139523 and parameters: {'n_estimators': 11, 'max_samples': 60}. Best is trial 1 with value: 0.8351929573139523.\u001b[0m\n",
      "\u001b[32m[I 2020-11-14 15:28:13,728]\u001b[0m Trial 2 finished with value: 0.8393899068481933 and parameters: {'n_estimators': 143, 'max_samples': 59}. Best is trial 2 with value: 0.8393899068481933.\u001b[0m\n",
      "\u001b[32m[I 2020-11-14 15:28:15,125]\u001b[0m Trial 3 finished with value: 0.8350905926911659 and parameters: {'n_estimators': 86, 'max_samples': 42}. Best is trial 2 with value: 0.8393899068481933.\u001b[0m\n",
      "\u001b[32m[I 2020-11-14 15:28:18,339]\u001b[0m Trial 4 finished with value: 0.777356945439656 and parameters: {'n_estimators': 196, 'max_samples': 11}. Best is trial 2 with value: 0.8393899068481933.\u001b[0m\n",
      "\u001b[32m[I 2020-11-14 15:28:20,185]\u001b[0m Trial 5 finished with value: 0.8414371993039206 and parameters: {'n_estimators': 117, 'max_samples': 56}. Best is trial 5 with value: 0.8414371993039206.\u001b[0m\n",
      "\u001b[32m[I 2020-11-14 15:28:22,892]\u001b[0m Trial 6 finished with value: 0.8414371993039206 and parameters: {'n_estimators': 162, 'max_samples': 53}. Best is trial 5 with value: 0.8414371993039206.\u001b[0m\n",
      "\u001b[32m[I 2020-11-14 15:28:23,411]\u001b[0m Trial 7 finished with value: 0.7539154468215785 and parameters: {'n_estimators': 30, 'max_samples': 2}. Best is trial 5 with value: 0.8414371993039206.\u001b[0m\n",
      "\u001b[32m[I 2020-11-14 15:28:25,718]\u001b[0m Trial 8 finished with value: 0.8470672535571706 and parameters: {'n_estimators': 134, 'max_samples': 85}. Best is trial 8 with value: 0.8470672535571706.\u001b[0m\n",
      "\u001b[32m[I 2020-11-14 15:28:28,157]\u001b[0m Trial 9 finished with value: 0.8094994369945747 and parameters: {'n_estimators': 132, 'max_samples': 19}. Best is trial 8 with value: 0.8470672535571706.\u001b[0m\n",
      "\u001b[32m[I 2020-11-14 15:28:31,500]\u001b[0m Trial 10 finished with value: 0.8499334629951889 and parameters: {'n_estimators': 194, 'max_samples': 98}. Best is trial 10 with value: 0.8499334629951889.\u001b[0m\n",
      "\u001b[32m[I 2020-11-14 15:28:34,804]\u001b[0m Trial 11 finished with value: 0.8493192752584706 and parameters: {'n_estimators': 196, 'max_samples': 100}. Best is trial 10 with value: 0.8499334629951889.\u001b[0m\n",
      "\u001b[32m[I 2020-11-14 15:28:38,167]\u001b[0m Trial 12 finished with value: 0.8506500153546934 and parameters: {'n_estimators': 198, 'max_samples': 98}. Best is trial 12 with value: 0.8506500153546934.\u001b[0m\n",
      "\u001b[32m[I 2020-11-14 15:28:40,973]\u001b[0m Trial 13 finished with value: 0.8474767120483161 and parameters: {'n_estimators': 174, 'max_samples': 95}. Best is trial 12 with value: 0.8506500153546934.\u001b[0m\n",
      "\u001b[32m[I 2020-11-14 15:28:44,698]\u001b[0m Trial 14 finished with value: 0.8461459719520934 and parameters: {'n_estimators': 197, 'max_samples': 80}. Best is trial 12 with value: 0.8506500153546934.\u001b[0m\n",
      "\u001b[32m[I 2020-11-14 15:28:47,372]\u001b[0m Trial 15 finished with value: 0.8446105026102979 and parameters: {'n_estimators': 165, 'max_samples': 76}. Best is trial 12 with value: 0.8506500153546934.\u001b[0m\n",
      "\u001b[32m[I 2020-11-14 15:28:48,926]\u001b[0m Trial 16 finished with value: 0.8485003582761798 and parameters: {'n_estimators': 84, 'max_samples': 99}. Best is trial 12 with value: 0.8506500153546934.\u001b[0m\n",
      "\u001b[32m[I 2020-11-14 15:28:51,854]\u001b[0m Trial 17 finished with value: 0.8429726686457161 and parameters: {'n_estimators': 183, 'max_samples': 72}. Best is trial 12 with value: 0.8506500153546934.\u001b[0m\n",
      "\u001b[32m[I 2020-11-14 15:28:54,701]\u001b[0m Trial 18 finished with value: 0.8488074521445389 and parameters: {'n_estimators': 160, 'max_samples': 89}. Best is trial 12 with value: 0.8506500153546934.\u001b[0m\n",
      "\u001b[32m[I 2020-11-14 15:28:56,728]\u001b[0m Trial 19 finished with value: 0.8325314771215068 and parameters: {'n_estimators': 107, 'max_samples': 43}. Best is trial 12 with value: 0.8506500153546934.\u001b[0m\n",
      "\u001b[32m[I 2020-11-14 15:29:00,909]\u001b[0m Trial 20 finished with value: 0.8423584809089979 and parameters: {'n_estimators': 182, 'max_samples': 69}. Best is trial 12 with value: 0.8506500153546934.\u001b[0m\n",
      "\u001b[32m[I 2020-11-14 15:29:05,230]\u001b[0m Trial 21 finished with value: 0.8492169106356843 and parameters: {'n_estimators': 198, 'max_samples': 100}. Best is trial 12 with value: 0.8506500153546934.\u001b[0m\n",
      "\u001b[32m[I 2020-11-14 15:29:08,737]\u001b[0m Trial 22 finished with value: 0.8473743474255298 and parameters: {'n_estimators': 197, 'max_samples': 92}. Best is trial 12 with value: 0.8506500153546934.\u001b[0m\n",
      "\u001b[32m[I 2020-11-14 15:29:11,254]\u001b[0m Trial 23 finished with value: 0.8475790766711024 and parameters: {'n_estimators': 147, 'max_samples': 87}. Best is trial 12 with value: 0.8506500153546934.\u001b[0m\n",
      "\u001b[32m[I 2020-11-14 15:29:14,156]\u001b[0m Trial 24 finished with value: 0.8492169106356843 and parameters: {'n_estimators': 180, 'max_samples': 99}. Best is trial 12 with value: 0.8506500153546934.\u001b[0m\n",
      "\u001b[32m[I 2020-11-14 15:29:17,851]\u001b[0m Trial 25 finished with value: 0.8487050875217524 and parameters: {'n_estimators': 194, 'max_samples': 100}. Best is trial 12 with value: 0.8506500153546934.\u001b[0m\n",
      "\u001b[32m[I 2020-11-14 15:29:20,736]\u001b[0m Trial 26 finished with value: 0.8479885351622479 and parameters: {'n_estimators': 170, 'max_samples': 81}. Best is trial 12 with value: 0.8506500153546934.\u001b[0m\n",
      "\u001b[32m[I 2020-11-14 15:29:23,200]\u001b[0m Trial 27 finished with value: 0.8411301054355614 and parameters: {'n_estimators': 151, 'max_samples': 66}. Best is trial 12 with value: 0.8506500153546934.\u001b[0m\n",
      "\u001b[32m[I 2020-11-14 15:29:26,724]\u001b[0m Trial 28 finished with value: 0.8462483365748797 and parameters: {'n_estimators': 200, 'max_samples': 93}. Best is trial 12 with value: 0.8506500153546934.\u001b[0m\n",
      "\u001b[32m[I 2020-11-14 15:29:29,582]\u001b[0m Trial 29 finished with value: 0.8315078308936431 and parameters: {'n_estimators': 182, 'max_samples': 36}. Best is trial 12 with value: 0.8506500153546934.\u001b[0m\n"
     ]
    },
    {
     "name": "stdout",
     "output_type": "stream",
     "text": [
      "Optimized on accuracy\n",
      "Optimized Bagging Classifier accuracy:  0.8506500153546934\n",
      "Optimized Bagging Classifier f1-score:  0.6437118437118438\n"
     ]
    }
   ],
   "source": [
    "bc = BaggingClassifier(random_state=666)\n",
    "bc.fit(X, y)\n",
    "preds = bc.predict(X_val)\n",
    "\n",
    "print('Bagging Classifier accuracy: ', accuracy_score(y_val, preds))\n",
    "print('Bagging Classifier f1-score: ', f1_score(y_val, preds))\n",
    "\n",
    "def create_model(trial):\n",
    "    n_estimators = trial.suggest_int('n_estimators', 2, 200)\n",
    "    max_samples = trial.suggest_int('max_samples', 1, 100)\n",
    "    model = BaggingClassifier(\n",
    "        n_estimators=n_estimators, \n",
    "        max_samples=max_samples, \n",
    "        random_state=666\n",
    "    )\n",
    "    return model\n",
    "\n",
    "optimizer = Optimizer('f1')\n",
    "bc_f1_params = optimizer.optimize()\n",
    "bc_f1_params['random_state'] = 666\n",
    "bc_f1 = BaggingClassifier(**bc_f1_params)\n",
    "bc_f1.fit(X, y)\n",
    "preds = bc_f1.predict(X_val)\n",
    "\n",
    "print('Optimized on F1-score')\n",
    "print('Optimized Bagging Classifier accuracy: ', accuracy_score(y_val, preds))\n",
    "print('Optimized Bagging Classifier f1-score: ', f1_score(y_val, preds))\n",
    "\n",
    "optimizer = Optimizer('acc')\n",
    "bc_acc_params = optimizer.optimize()\n",
    "bc_acc_params['random_state'] = 666\n",
    "bc_acc = BaggingClassifier(**bc_acc_params)\n",
    "bc_acc.fit(X, y)\n",
    "preds = bc_acc.predict(X_val)\n",
    "\n",
    "print('Optimized on accuracy')\n",
    "print('Optimized Bagging Classifier accuracy: ', accuracy_score(y_val, preds))\n",
    "print('Optimized Bagging Classifier f1-score: ', f1_score(y_val, preds))"
   ]
  },
  {
   "cell_type": "code",
   "execution_count": 66,
   "metadata": {},
   "outputs": [
    {
     "name": "stdout",
     "output_type": "stream",
     "text": [
      "KNN accuracy:  0.8431773978912888\n",
      "KNN f1-score:  0.6685417568152314\n"
     ]
    },
    {
     "ename": "NameError",
     "evalue": "name 'TPESampler' is not defined",
     "output_type": "error",
     "traceback": [
      "\u001b[1;31m---------------------------------------------------------------------------\u001b[0m",
      "\u001b[1;31mNameError\u001b[0m                                 Traceback (most recent call last)",
      "\u001b[1;32m<ipython-input-66-f6b89ed6e958>\u001b[0m in \u001b[0;36m<module>\u001b[1;34m\u001b[0m\n\u001b[0;32m      6\u001b[0m \u001b[0mprint\u001b[0m\u001b[1;33m(\u001b[0m\u001b[1;34m'KNN f1-score: '\u001b[0m\u001b[1;33m,\u001b[0m \u001b[0mf1_score\u001b[0m\u001b[1;33m(\u001b[0m\u001b[0my_val\u001b[0m\u001b[1;33m,\u001b[0m \u001b[0mpreds\u001b[0m\u001b[1;33m)\u001b[0m\u001b[1;33m)\u001b[0m\u001b[1;33m\u001b[0m\u001b[1;33m\u001b[0m\u001b[0m\n\u001b[0;32m      7\u001b[0m \u001b[1;33m\u001b[0m\u001b[0m\n\u001b[1;32m----> 8\u001b[1;33m \u001b[0msampler\u001b[0m \u001b[1;33m=\u001b[0m \u001b[0mTPESampler\u001b[0m\u001b[1;33m(\u001b[0m\u001b[0mseed\u001b[0m\u001b[1;33m=\u001b[0m\u001b[1;36m0\u001b[0m\u001b[1;33m)\u001b[0m\u001b[1;33m\u001b[0m\u001b[1;33m\u001b[0m\u001b[0m\n\u001b[0m\u001b[0;32m      9\u001b[0m \u001b[1;32mdef\u001b[0m \u001b[0mcreate_model\u001b[0m\u001b[1;33m(\u001b[0m\u001b[0mtrial\u001b[0m\u001b[1;33m)\u001b[0m\u001b[1;33m:\u001b[0m\u001b[1;33m\u001b[0m\u001b[1;33m\u001b[0m\u001b[0m\n\u001b[0;32m     10\u001b[0m     \u001b[0mn_neighbors\u001b[0m \u001b[1;33m=\u001b[0m \u001b[0mtrial\u001b[0m\u001b[1;33m.\u001b[0m\u001b[0msuggest_int\u001b[0m\u001b[1;33m(\u001b[0m\u001b[1;34m\"n_neighbors\"\u001b[0m\u001b[1;33m,\u001b[0m \u001b[1;36m2\u001b[0m\u001b[1;33m,\u001b[0m \u001b[1;36m25\u001b[0m\u001b[1;33m)\u001b[0m\u001b[1;33m\u001b[0m\u001b[1;33m\u001b[0m\u001b[0m\n",
      "\u001b[1;31mNameError\u001b[0m: name 'TPESampler' is not defined"
     ]
    }
   ],
   "source": [
    "knn = KNeighborsClassifier()\n",
    "knn.fit(X, y)\n",
    "preds = knn.predict(X_val)\n",
    "\n",
    "print('KNN accuracy: ', accuracy_score(y_val, preds))\n",
    "print('KNN f1-score: ', f1_score(y_val, preds))\n",
    "\n",
    "sampler = TPESampler(seed=0)\n",
    "def create_model(trial):\n",
    "    n_neighbors = trial.suggest_int(\"n_neighbors\", 2, 25)\n",
    "    model = KNeighborsClassifier(n_neighbors=n_neighbors)\n",
    "    return model\n",
    "\n",
    "optimizer = Optimizer('f1')\n",
    "knn_f1_params = optimizer.optimize()\n",
    "knn_f1 = KNeighborsClassifier(**knn_f1_params)\n",
    "knn_f1.fit(X, y)\n",
    "preds = knn_f1.predict(X_val)\n",
    "\n",
    "print('Optimized on F1-score')\n",
    "print('Optimized KNN accuracy: ', accuracy_score(y_val, preds))\n",
    "print('Optimized KNN f1-score: ', f1_score(y_val, preds))\n",
    "\n",
    "optimizer = Optimizer('acc')\n",
    "knn_acc_params = optimizer.optimize()\n",
    "knn_acc = KNeighborsClassifier(**knn_acc_params)\n",
    "knn_acc.fit(X, y)\n",
    "preds = knn_acc.predict(X_val)\n",
    "\n",
    "print('Optimized on accuracy')\n",
    "print('Optimized KNN accuracy: ', accuracy_score(y_val, preds))\n",
    "print('Optimized KNN f1-score: ', f1_score(y_val, preds))"
   ]
  },
  {
   "cell_type": "code",
   "execution_count": 74,
   "metadata": {},
   "outputs": [
    {
     "name": "stderr",
     "output_type": "stream",
     "text": [
      "[MLENS] backend: threading\n"
     ]
    }
   ],
   "source": [
    "from sklearn.ensemble import AdaBoostClassifier\n",
    "from sklearn.ensemble import ExtraTreesClassifier\n",
    "from mlens.ensemble import SuperLearner"
   ]
  },
  {
   "cell_type": "code",
   "execution_count": 69,
   "metadata": {},
   "outputs": [
    {
     "name": "stderr",
     "output_type": "stream",
     "text": [
      "\u001b[32m[I 2020-11-14 15:33:40,444]\u001b[0m A new study created in memory with name: no-name-5923e333-0904-4c7d-b2d3-c4bfb8ab0e1f\u001b[0m\n"
     ]
    },
    {
     "name": "stdout",
     "output_type": "stream",
     "text": [
      "AdaBoost accuracy:  0.8639574163169209\n",
      "AdaBoost f1-score:  0.6914325516600882\n"
     ]
    },
    {
     "name": "stderr",
     "output_type": "stream",
     "text": [
      "\u001b[32m[I 2020-11-14 15:33:45,525]\u001b[0m Trial 0 finished with value: 0.677626876340243 and parameters: {'n_estimators': 134, 'learning_rate': 0.2854841288621992}. Best is trial 0 with value: 0.677626876340243.\u001b[0m\n",
      "\u001b[32m[I 2020-11-14 15:33:46,396]\u001b[0m Trial 1 finished with value: 0.6335625159154571 and parameters: {'n_estimators': 25, 'learning_rate': 0.35376431451852397}. Best is trial 0 with value: 0.677626876340243.\u001b[0m\n",
      "\u001b[32m[I 2020-11-14 15:33:46,616]\u001b[0m Trial 2 finished with value: 0.24954528919607133 and parameters: {'n_estimators': 6, 'learning_rate': 0.19698740582632962}. Best is trial 0 with value: 0.677626876340243.\u001b[0m\n",
      "\u001b[32m[I 2020-11-14 15:33:49,319]\u001b[0m Trial 3 finished with value: 0.6545899632802937 and parameters: {'n_estimators': 57, 'learning_rate': 0.40214444538590294}. Best is trial 0 with value: 0.677626876340243.\u001b[0m\n",
      "\u001b[32m[I 2020-11-14 15:33:51,305]\u001b[0m Trial 4 finished with value: 0.5977801268498942 and parameters: {'n_estimators': 47, 'learning_rate': 0.10897752410162008}. Best is trial 0 with value: 0.677626876340243.\u001b[0m\n",
      "\u001b[32m[I 2020-11-14 15:33:51,387]\u001b[0m Trial 5 finished with value: 0.33069238718567 and parameters: {'n_estimators': 2, 'learning_rate': 0.21957246182565457}. Best is trial 0 with value: 0.677626876340243.\u001b[0m\n",
      "\u001b[32m[I 2020-11-14 15:33:55,231]\u001b[0m Trial 6 finished with value: 0.6960556844547563 and parameters: {'n_estimators': 108, 'learning_rate': 0.7252014835458891}. Best is trial 6 with value: 0.6960556844547563.\u001b[0m\n",
      "\u001b[32m[I 2020-11-14 15:33:59,533]\u001b[0m Trial 7 finished with value: 0.6547063160481691 and parameters: {'n_estimators': 111, 'learning_rate': 0.17712217617551845}. Best is trial 6 with value: 0.6960556844547563.\u001b[0m\n",
      "\u001b[32m[I 2020-11-14 15:34:00,828]\u001b[0m Trial 8 finished with value: 0.2724991036213697 and parameters: {'n_estimators': 30, 'learning_rate': 0.05442829831609476}. Best is trial 6 with value: 0.6960556844547563.\u001b[0m\n",
      "\u001b[32m[I 2020-11-14 15:34:03,337]\u001b[0m Trial 9 finished with value: 0.6548410938654841 and parameters: {'n_estimators': 70, 'learning_rate': 0.25238345426150344}. Best is trial 6 with value: 0.6960556844547563.\u001b[0m\n",
      "\u001b[32m[I 2020-11-14 15:34:07,487]\u001b[0m Trial 10 finished with value: 0.6947856315179606 and parameters: {'n_estimators': 102, 'learning_rate': 0.7601726405161027}. Best is trial 6 with value: 0.6960556844547563.\u001b[0m\n",
      "\u001b[32m[I 2020-11-14 15:34:11,290]\u001b[0m Trial 11 finished with value: 0.6947613504074505 and parameters: {'n_estimators': 106, 'learning_rate': 0.8186324330884869}. Best is trial 6 with value: 0.6960556844547563.\u001b[0m\n",
      "\u001b[32m[I 2020-11-14 15:34:14,722]\u001b[0m Trial 12 finished with value: 0.6896875734085037 and parameters: {'n_estimators': 97, 'learning_rate': 0.7274972849441951}. Best is trial 6 with value: 0.6960556844547563.\u001b[0m\n",
      "\u001b[32m[I 2020-11-14 15:34:20,207]\u001b[0m Trial 13 finished with value: 0.689639115250291 and parameters: {'n_estimators': 141, 'learning_rate': 0.6159984464612819}. Best is trial 6 with value: 0.6960556844547563.\u001b[0m\n",
      "\u001b[32m[I 2020-11-14 15:34:24,539]\u001b[0m Trial 14 finished with value: 0.6975552968568102 and parameters: {'n_estimators': 87, 'learning_rate': 0.971983885345443}. Best is trial 14 with value: 0.6975552968568102.\u001b[0m\n",
      "\u001b[32m[I 2020-11-14 15:34:29,062]\u001b[0m Trial 15 finished with value: 0.7059094044607956 and parameters: {'n_estimators': 88, 'learning_rate': 0.993244296268781}. Best is trial 15 with value: 0.7059094044607956.\u001b[0m\n",
      "\u001b[32m[I 2020-11-14 15:34:33,359]\u001b[0m Trial 16 finished with value: 0.6976960670235047 and parameters: {'n_estimators': 81, 'learning_rate': 0.998181185427996}. Best is trial 15 with value: 0.7059094044607956.\u001b[0m\n",
      "\u001b[32m[I 2020-11-14 15:34:36,643]\u001b[0m Trial 17 finished with value: 0.6944119710077157 and parameters: {'n_estimators': 71, 'learning_rate': 0.9783707103319137}. Best is trial 15 with value: 0.7059094044607956.\u001b[0m\n",
      "\u001b[32m[I 2020-11-14 15:34:39,829]\u001b[0m Trial 18 finished with value: 0.6953488372093023 and parameters: {'n_estimators': 85, 'learning_rate': 0.9310824875199855}. Best is trial 15 with value: 0.7059094044607956.\u001b[0m\n",
      "\u001b[32m[I 2020-11-14 15:34:44,857]\u001b[0m Trial 19 finished with value: 0.7011121408711769 and parameters: {'n_estimators': 122, 'learning_rate': 0.8692623760256473}. Best is trial 15 with value: 0.7059094044607956.\u001b[0m\n",
      "\u001b[32m[I 2020-11-14 15:34:49,324]\u001b[0m Trial 20 finished with value: 0.7011361001623 and parameters: {'n_estimators': 126, 'learning_rate': 0.8705516006093534}. Best is trial 15 with value: 0.7059094044607956.\u001b[0m\n",
      "\u001b[32m[I 2020-11-14 15:34:54,650]\u001b[0m Trial 21 finished with value: 0.7021522795649154 and parameters: {'n_estimators': 126, 'learning_rate': 0.8628794133339843}. Best is trial 15 with value: 0.7059094044607956.\u001b[0m\n",
      "\u001b[32m[I 2020-11-14 15:35:00,984]\u001b[0m Trial 22 finished with value: 0.6855537344884103 and parameters: {'n_estimators': 150, 'learning_rate': 0.5697208941609231}. Best is trial 15 with value: 0.7059094044607956.\u001b[0m\n",
      "\u001b[32m[I 2020-11-14 15:35:05,685]\u001b[0m Trial 23 finished with value: 0.7025272432181775 and parameters: {'n_estimators': 126, 'learning_rate': 0.8790566603805601}. Best is trial 15 with value: 0.7059094044607956.\u001b[0m\n",
      "\u001b[32m[I 2020-11-14 15:35:09,721]\u001b[0m Trial 24 finished with value: 0.6892049428771274 and parameters: {'n_estimators': 120, 'learning_rate': 0.6147084926532633}. Best is trial 15 with value: 0.7059094044607956.\u001b[0m\n",
      "\u001b[32m[I 2020-11-14 15:35:14,514]\u001b[0m Trial 25 finished with value: 0.7056647398843932 and parameters: {'n_estimators': 149, 'learning_rate': 0.8727329394941983}. Best is trial 15 with value: 0.7059094044607956.\u001b[0m\n",
      "\u001b[32m[I 2020-11-14 15:35:19,087]\u001b[0m Trial 26 finished with value: 0.699235934244038 and parameters: {'n_estimators': 143, 'learning_rate': 0.8011065636727632}. Best is trial 15 with value: 0.7059094044607956.\u001b[0m\n",
      "\u001b[32m[I 2020-11-14 15:35:23,807]\u001b[0m Trial 27 finished with value: 0.7018114259173246 and parameters: {'n_estimators': 143, 'learning_rate': 0.9169720901871619}. Best is trial 15 with value: 0.7059094044607956.\u001b[0m\n",
      "\u001b[32m[I 2020-11-14 15:35:25,854]\u001b[0m Trial 28 finished with value: 0.6693644370388003 and parameters: {'n_estimators': 60, 'learning_rate': 0.4852287425283621}. Best is trial 15 with value: 0.7059094044607956.\u001b[0m\n",
      "\u001b[32m[I 2020-11-14 15:35:30,124]\u001b[0m Trial 29 finished with value: 0.6928438661710038 and parameters: {'n_estimators': 134, 'learning_rate': 0.6742046262979495}. Best is trial 15 with value: 0.7059094044607956.\u001b[0m\n",
      "\u001b[32m[I 2020-11-14 15:35:33,015]\u001b[0m A new study created in memory with name: no-name-59f7ae62-dfb5-49b6-aed3-b0e5027076c0\u001b[0m\n"
     ]
    },
    {
     "name": "stdout",
     "output_type": "stream",
     "text": [
      "Optimized on F1-score\n",
      "Optimized AdaBoost accuracy:  0.8690756474562391\n",
      "Optimized AdaBoost f1-score:  0.7059094044607956\n"
     ]
    },
    {
     "name": "stderr",
     "output_type": "stream",
     "text": [
      "\u001b[32m[I 2020-11-14 15:35:35,884]\u001b[0m Trial 0 finished with value: 0.8639574163169209 and parameters: {'n_estimators': 92, 'learning_rate': 0.7139077640147616}. Best is trial 0 with value: 0.8639574163169209.\u001b[0m\n",
      "\u001b[32m[I 2020-11-14 15:35:37,831]\u001b[0m Trial 1 finished with value: 0.8578155389497389 and parameters: {'n_estimators': 57, 'learning_rate': 0.47696372131206694}. Best is trial 0 with value: 0.8639574163169209.\u001b[0m\n",
      "\u001b[32m[I 2020-11-14 15:35:38,485]\u001b[0m Trial 2 finished with value: 0.7993653393387246 and parameters: {'n_estimators': 20, 'learning_rate': 0.12528993933067}. Best is trial 0 with value: 0.8639574163169209.\u001b[0m\n",
      "\u001b[32m[I 2020-11-14 15:35:40,966]\u001b[0m Trial 3 finished with value: 0.8603746545193981 and parameters: {'n_estimators': 68, 'learning_rate': 0.5274469409715583}. Best is trial 0 with value: 0.8639574163169209.\u001b[0m\n",
      "\u001b[32m[I 2020-11-14 15:35:44,156]\u001b[0m Trial 4 finished with value: 0.8650834271675709 and parameters: {'n_estimators': 96, 'learning_rate': 0.7870217365839136}. Best is trial 4 with value: 0.8650834271675709.\u001b[0m\n",
      "\u001b[32m[I 2020-11-14 15:35:46,832]\u001b[0m Trial 5 finished with value: 0.8532091309243526 and parameters: {'n_estimators': 82, 'learning_rate': 0.1550078957864177}. Best is trial 4 with value: 0.8650834271675709.\u001b[0m\n",
      "\u001b[32m[I 2020-11-14 15:35:50,102]\u001b[0m Trial 6 finished with value: 0.8605793837649708 and parameters: {'n_estimators': 99, 'learning_rate': 0.3281750032590712}. Best is trial 4 with value: 0.8650834271675709.\u001b[0m\n",
      "\u001b[32m[I 2020-11-14 15:35:52,591]\u001b[0m Trial 7 finished with value: 0.8615006653700481 and parameters: {'n_estimators': 80, 'learning_rate': 0.6849958482968146}. Best is trial 4 with value: 0.8650834271675709.\u001b[0m\n",
      "\u001b[32m[I 2020-11-14 15:35:55,004]\u001b[0m Trial 8 finished with value: 0.8667212611321528 and parameters: {'n_estimators': 73, 'learning_rate': 0.9483814372230654}. Best is trial 8 with value: 0.8667212611321528.\u001b[0m\n",
      "\u001b[32m[I 2020-11-14 15:35:58,333]\u001b[0m Trial 9 finished with value: 0.8615006653700481 and parameters: {'n_estimators': 91, 'learning_rate': 0.5721638437152397}. Best is trial 8 with value: 0.8667212611321528.\u001b[0m\n",
      "\u001b[32m[I 2020-11-14 15:36:03,565]\u001b[0m Trial 10 finished with value: 0.8700992936841028 and parameters: {'n_estimators': 142, 'learning_rate': 0.9964071549709722}. Best is trial 10 with value: 0.8700992936841028.\u001b[0m\n",
      "\u001b[32m[I 2020-11-14 15:36:08,139]\u001b[0m Trial 11 finished with value: 0.8702016583068891 and parameters: {'n_estimators': 148, 'learning_rate': 0.9895800831920352}. Best is trial 11 with value: 0.8702016583068891.\u001b[0m\n",
      "\u001b[32m[I 2020-11-14 15:36:13,259]\u001b[0m Trial 12 finished with value: 0.8713276691575391 and parameters: {'n_estimators': 150, 'learning_rate': 0.9996219469187912}. Best is trial 12 with value: 0.8713276691575391.\u001b[0m\n",
      "\u001b[32m[I 2020-11-14 15:36:17,944]\u001b[0m Trial 13 finished with value: 0.8695874705701709 and parameters: {'n_estimators': 147, 'learning_rate': 0.9079089699534613}. Best is trial 12 with value: 0.8713276691575391.\u001b[0m\n",
      "\u001b[32m[I 2020-11-14 15:36:21,937]\u001b[0m Trial 14 finished with value: 0.8682567304739482 and parameters: {'n_estimators': 125, 'learning_rate': 0.834823010998787}. Best is trial 12 with value: 0.8713276691575391.\u001b[0m\n",
      "\u001b[32m[I 2020-11-14 15:36:25,859]\u001b[0m Trial 15 finished with value: 0.8699969290613164 and parameters: {'n_estimators': 123, 'learning_rate': 0.991326132729164}. Best is trial 12 with value: 0.8713276691575391.\u001b[0m\n",
      "\u001b[32m[I 2020-11-14 15:36:30,028]\u001b[0m Trial 16 finished with value: 0.8679496366055891 and parameters: {'n_estimators': 125, 'learning_rate': 0.8588379418797566}. Best is trial 12 with value: 0.8713276691575391.\u001b[0m\n",
      "\u001b[32m[I 2020-11-14 15:36:35,014]\u001b[0m Trial 17 finished with value: 0.7539154468215785 and parameters: {'n_estimators': 146, 'learning_rate': 0.0007548307491050954}. Best is trial 12 with value: 0.8713276691575391.\u001b[0m\n",
      "\u001b[32m[I 2020-11-14 15:36:36,349]\u001b[0m Trial 18 finished with value: 0.8592486436687481 and parameters: {'n_estimators': 37, 'learning_rate': 0.6555487004643934}. Best is trial 12 with value: 0.8713276691575391.\u001b[0m\n",
      "\u001b[32m[I 2020-11-14 15:36:40,476]\u001b[0m Trial 19 finished with value: 0.8612959361244754 and parameters: {'n_estimators': 112, 'learning_rate': 0.3753665158941687}. Best is trial 12 with value: 0.8713276691575391.\u001b[0m\n",
      "\u001b[32m[I 2020-11-14 15:36:50,565]\u001b[0m Trial 20 finished with value: 0.8682567304739482 and parameters: {'n_estimators': 150, 'learning_rate': 0.765201664132345}. Best is trial 12 with value: 0.8713276691575391.\u001b[0m\n",
      "\u001b[32m[I 2020-11-14 15:36:56,954]\u001b[0m Trial 21 finished with value: 0.8697921998157436 and parameters: {'n_estimators': 137, 'learning_rate': 0.9886356637423228}. Best is trial 12 with value: 0.8713276691575391.\u001b[0m\n",
      "\u001b[32m[I 2020-11-14 15:37:04,534]\u001b[0m Trial 22 finished with value: 0.8705087521752483 and parameters: {'n_estimators': 137, 'learning_rate': 0.9943081019730976}. Best is trial 12 with value: 0.8713276691575391.\u001b[0m\n",
      "\u001b[32m[I 2020-11-14 15:37:10,066]\u001b[0m Trial 23 finished with value: 0.8687685535878801 and parameters: {'n_estimators': 134, 'learning_rate': 0.9023960112962985}. Best is trial 12 with value: 0.8713276691575391.\u001b[0m\n",
      "\u001b[32m[I 2020-11-14 15:37:14,345]\u001b[0m Trial 24 finished with value: 0.8695874705701709 and parameters: {'n_estimators': 112, 'learning_rate': 0.9984149820946208}. Best is trial 12 with value: 0.8713276691575391.\u001b[0m\n",
      "\u001b[32m[I 2020-11-14 15:37:19,595]\u001b[0m Trial 25 finished with value: 0.8679496366055891 and parameters: {'n_estimators': 115, 'learning_rate': 0.8282067788751495}. Best is trial 12 with value: 0.8713276691575391.\u001b[0m\n",
      "\u001b[32m[I 2020-11-14 15:37:25,521]\u001b[0m Trial 26 finished with value: 0.8680520012283754 and parameters: {'n_estimators': 132, 'learning_rate': 0.9165659965402566}. Best is trial 12 with value: 0.8713276691575391.\u001b[0m\n",
      "\u001b[32m[I 2020-11-14 15:37:31,899]\u001b[0m Trial 27 finished with value: 0.8697921998157436 and parameters: {'n_estimators': 148, 'learning_rate': 0.9902984846075064}. Best is trial 12 with value: 0.8713276691575391.\u001b[0m\n",
      "\u001b[32m[I 2020-11-14 15:37:37,959]\u001b[0m Trial 28 finished with value: 0.8649810625447846 and parameters: {'n_estimators': 150, 'learning_rate': 0.6042941622154823}. Best is trial 12 with value: 0.8713276691575391.\u001b[0m\n",
      "\u001b[32m[I 2020-11-14 15:37:41,138]\u001b[0m Trial 29 finished with value: 0.8646739686764254 and parameters: {'n_estimators': 104, 'learning_rate': 0.7261497807754053}. Best is trial 12 with value: 0.8713276691575391.\u001b[0m\n"
     ]
    },
    {
     "name": "stdout",
     "output_type": "stream",
     "text": [
      "Optimized on accuracy\n",
      "Optimized AdaBoost accuracy:  0.8713276691575391\n",
      "Optimized AdaBoost f1-score:  0.7113662456946039\n"
     ]
    }
   ],
   "source": [
    "abc = AdaBoostClassifier(random_state=666)\n",
    "abc.fit(X, y)\n",
    "preds = abc.predict(X_val)\n",
    "\n",
    "print('AdaBoost accuracy: ', accuracy_score(y_val, preds))\n",
    "print('AdaBoost f1-score: ', f1_score(y_val, preds))\n",
    "\n",
    "def create_model(trial):\n",
    "    n_estimators = trial.suggest_int(\"n_estimators\", 2, 150)\n",
    "    learning_rate = trial.suggest_uniform('learning_rate', 0.0005, 1.0)\n",
    "    model = AdaBoostClassifier(\n",
    "        n_estimators=n_estimators, \n",
    "        learning_rate=learning_rate, \n",
    "        random_state=666\n",
    "    )\n",
    "    return model\n",
    "\n",
    "optimizer = Optimizer('f1')\n",
    "abc_f1_params = optimizer.optimize()\n",
    "abc_f1_params['random_state'] = 666\n",
    "abc_f1 = AdaBoostClassifier(**abc_f1_params)\n",
    "abc_f1.fit(X, y)\n",
    "preds = abc_f1.predict(X_val)\n",
    "\n",
    "print('Optimized on F1-score')\n",
    "print('Optimized AdaBoost accuracy: ', accuracy_score(y_val, preds))\n",
    "print('Optimized AdaBoost f1-score: ', f1_score(y_val, preds))\n",
    "\n",
    "optimizer = Optimizer('acc')\n",
    "abc_acc_params = optimizer.optimize()\n",
    "abc_acc_params['random_state'] = 666\n",
    "abc_acc = AdaBoostClassifier(**abc_acc_params)\n",
    "abc_acc.fit(X, y)\n",
    "preds = abc_acc.predict(X_val)\n",
    "\n",
    "print('Optimized on accuracy')\n",
    "print('Optimized AdaBoost accuracy: ', accuracy_score(y_val, preds))\n",
    "print('Optimized AdaBoost f1-score: ', f1_score(y_val, preds))"
   ]
  },
  {
   "cell_type": "code",
   "execution_count": 72,
   "metadata": {},
   "outputs": [
    {
     "name": "stderr",
     "output_type": "stream",
     "text": [
      "\u001b[32m[I 2020-11-14 15:38:13,248]\u001b[0m A new study created in memory with name: no-name-3c93c671-4775-43f1-bb84-034ce456d86b\u001b[0m\n"
     ]
    },
    {
     "name": "stdout",
     "output_type": "stream",
     "text": [
      "ExtraTreesClassifier accuracy:  0.8436892210052206\n",
      "ExtraTreesClassifier f1-score:  0.6647639956092206\n"
     ]
    },
    {
     "name": "stderr",
     "output_type": "stream",
     "text": [
      "\u001b[32m[I 2020-11-14 15:38:13,733]\u001b[0m Trial 0 finished with value: 0.1047656557699882 and parameters: {'n_estimators': 22, 'max_depth': 4}. Best is trial 0 with value: 0.1047656557699882.\u001b[0m\n",
      "\u001b[32m[I 2020-11-14 15:38:15,794]\u001b[0m Trial 1 finished with value: 0.12012480499219969 and parameters: {'n_estimators': 124, 'max_depth': 4}. Best is trial 1 with value: 0.12012480499219969.\u001b[0m\n",
      "\u001b[32m[I 2020-11-14 15:38:17,038]\u001b[0m Trial 2 finished with value: 0.024650780608052588 and parameters: {'n_estimators': 120, 'max_depth': 2}. Best is trial 1 with value: 0.12012480499219969.\u001b[0m\n",
      "\u001b[32m[I 2020-11-14 15:38:17,236]\u001b[0m Trial 3 finished with value: 0.03031544448996313 and parameters: {'n_estimators': 21, 'max_depth': 2}. Best is trial 1 with value: 0.12012480499219969.\u001b[0m\n",
      "\u001b[32m[I 2020-11-14 15:38:19,229]\u001b[0m Trial 4 finished with value: 0.3044838373305527 and parameters: {'n_estimators': 143, 'max_depth': 5}. Best is trial 4 with value: 0.3044838373305527.\u001b[0m\n",
      "\u001b[32m[I 2020-11-14 15:38:20,186]\u001b[0m Trial 5 finished with value: 0.061290322580645165 and parameters: {'n_estimators': 42, 'max_depth': 3}. Best is trial 4 with value: 0.3044838373305527.\u001b[0m\n",
      "\u001b[32m[I 2020-11-14 15:38:21,564]\u001b[0m Trial 6 finished with value: 0.02383888203863543 and parameters: {'n_estimators': 140, 'max_depth': 2}. Best is trial 4 with value: 0.3044838373305527.\u001b[0m\n",
      "\u001b[32m[I 2020-11-14 15:38:22,298]\u001b[0m Trial 7 finished with value: 0.3036831132731063 and parameters: {'n_estimators': 55, 'max_depth': 5}. Best is trial 4 with value: 0.3044838373305527.\u001b[0m\n",
      "\u001b[32m[I 2020-11-14 15:38:22,335]\u001b[0m Trial 8 finished with value: 0.035145075602778915 and parameters: {'n_estimators': 2, 'max_depth': 2}. Best is trial 4 with value: 0.3044838373305527.\u001b[0m\n",
      "\u001b[32m[I 2020-11-14 15:38:24,482]\u001b[0m Trial 9 finished with value: 0.3287858117326057 and parameters: {'n_estimators': 130, 'max_depth': 5}. Best is trial 9 with value: 0.3287858117326057.\u001b[0m\n",
      "\u001b[32m[I 2020-11-14 15:38:26,173]\u001b[0m Trial 10 finished with value: 0.4055269922879178 and parameters: {'n_estimators': 91, 'max_depth': 6}. Best is trial 10 with value: 0.4055269922879178.\u001b[0m\n",
      "\u001b[32m[I 2020-11-14 15:38:27,633]\u001b[0m Trial 11 finished with value: 0.40064620355411956 and parameters: {'n_estimators': 96, 'max_depth': 6}. Best is trial 10 with value: 0.4055269922879178.\u001b[0m\n",
      "\u001b[32m[I 2020-11-14 15:38:29,299]\u001b[0m Trial 12 finished with value: 0.4010332579916048 and parameters: {'n_estimators': 92, 'max_depth': 6}. Best is trial 10 with value: 0.4055269922879178.\u001b[0m\n",
      "\u001b[32m[I 2020-11-14 15:38:30,982]\u001b[0m Trial 13 finished with value: 0.40818937939859246 and parameters: {'n_estimators': 89, 'max_depth': 6}. Best is trial 13 with value: 0.40818937939859246.\u001b[0m\n",
      "\u001b[32m[I 2020-11-14 15:38:32,281]\u001b[0m Trial 14 finished with value: 0.4069319640564827 and parameters: {'n_estimators': 73, 'max_depth': 6}. Best is trial 13 with value: 0.40818937939859246.\u001b[0m\n",
      "\u001b[32m[I 2020-11-14 15:38:33,390]\u001b[0m Trial 15 finished with value: 0.4193548387096774 and parameters: {'n_estimators': 70, 'max_depth': 6}. Best is trial 15 with value: 0.4193548387096774.\u001b[0m\n",
      "\u001b[32m[I 2020-11-14 15:38:34,585]\u001b[0m Trial 16 finished with value: 0.3205216197666438 and parameters: {'n_estimators': 69, 'max_depth': 5}. Best is trial 15 with value: 0.4193548387096774.\u001b[0m\n",
      "\u001b[32m[I 2020-11-14 15:38:36,957]\u001b[0m Trial 17 finished with value: 0.3972780298120544 and parameters: {'n_estimators': 101, 'max_depth': 6}. Best is trial 15 with value: 0.4193548387096774.\u001b[0m\n",
      "\u001b[32m[I 2020-11-14 15:38:37,750]\u001b[0m Trial 18 finished with value: 0.31146408839779005 and parameters: {'n_estimators': 59, 'max_depth': 5}. Best is trial 15 with value: 0.4193548387096774.\u001b[0m\n",
      "\u001b[32m[I 2020-11-14 15:38:38,190]\u001b[0m Trial 19 finished with value: 0.061290322580645165 and parameters: {'n_estimators': 42, 'max_depth': 3}. Best is trial 15 with value: 0.4193548387096774.\u001b[0m\n",
      "\u001b[32m[I 2020-11-14 15:38:39,797]\u001b[0m Trial 20 finished with value: 0.394677052904901 and parameters: {'n_estimators': 113, 'max_depth': 6}. Best is trial 15 with value: 0.4193548387096774.\u001b[0m\n",
      "\u001b[32m[I 2020-11-14 15:38:40,919]\u001b[0m Trial 21 finished with value: 0.4048843187660668 and parameters: {'n_estimators': 76, 'max_depth': 6}. Best is trial 15 with value: 0.4193548387096774.\u001b[0m\n",
      "\u001b[32m[I 2020-11-14 15:38:42,266]\u001b[0m Trial 22 finished with value: 0.40602950609364974 and parameters: {'n_estimators': 78, 'max_depth': 6}. Best is trial 15 with value: 0.4193548387096774.\u001b[0m\n",
      "\u001b[32m[I 2020-11-14 15:38:43,326]\u001b[0m Trial 23 finished with value: 0.32709962597755865 and parameters: {'n_estimators': 79, 'max_depth': 5}. Best is trial 15 with value: 0.4193548387096774.\u001b[0m\n",
      "\u001b[32m[I 2020-11-14 15:38:44,220]\u001b[0m Trial 24 finished with value: 0.4169318905155951 and parameters: {'n_estimators': 60, 'max_depth': 6}. Best is trial 15 with value: 0.4193548387096774.\u001b[0m\n",
      "\u001b[32m[I 2020-11-14 15:38:44,981]\u001b[0m Trial 25 finished with value: 0.30976198689203177 and parameters: {'n_estimators': 57, 'max_depth': 5}. Best is trial 15 with value: 0.4193548387096774.\u001b[0m\n",
      "\u001b[32m[I 2020-11-14 15:38:45,677]\u001b[0m Trial 26 finished with value: 0.41449459631277813 and parameters: {'n_estimators': 46, 'max_depth': 6}. Best is trial 15 with value: 0.4193548387096774.\u001b[0m\n",
      "\u001b[32m[I 2020-11-14 15:38:46,201]\u001b[0m Trial 27 finished with value: 0.10849056603773585 and parameters: {'n_estimators': 44, 'max_depth': 4}. Best is trial 15 with value: 0.4193548387096774.\u001b[0m\n",
      "\u001b[32m[I 2020-11-14 15:38:46,804]\u001b[0m Trial 28 finished with value: 0.4294631710362048 and parameters: {'n_estimators': 25, 'max_depth': 6}. Best is trial 28 with value: 0.4294631710362048.\u001b[0m\n",
      "\u001b[32m[I 2020-11-14 15:38:47,111]\u001b[0m Trial 29 finished with value: 0.09425742574257426 and parameters: {'n_estimators': 24, 'max_depth': 4}. Best is trial 28 with value: 0.4294631710362048.\u001b[0m\n",
      "\u001b[32m[I 2020-11-14 15:38:47,522]\u001b[0m A new study created in memory with name: no-name-8441cbd0-5156-44fb-9292-5584a8756aaf\u001b[0m\n"
     ]
    },
    {
     "name": "stdout",
     "output_type": "stream",
     "text": [
      "Optimized on F1-score\n",
      "Optimized ExtraTreesClassifier accuracy:  0.8037670181185382\n",
      "Optimized ExtraTreesClassifier f1-score:  0.35476270615954225\n"
     ]
    },
    {
     "name": "stderr",
     "output_type": "stream",
     "text": [
      "\u001b[32m[I 2020-11-14 15:38:48,143]\u001b[0m Trial 0 finished with value: 0.7562698331456649 and parameters: {'n_estimators': 71, 'max_depth': 2}. Best is trial 0 with value: 0.7562698331456649.\u001b[0m\n",
      "\u001b[32m[I 2020-11-14 15:38:49,238]\u001b[0m Trial 1 finished with value: 0.756884020882383 and parameters: {'n_estimators': 138, 'max_depth': 2}. Best is trial 1 with value: 0.756884020882383.\u001b[0m\n",
      "\u001b[32m[I 2020-11-14 15:38:49,464]\u001b[0m Trial 2 finished with value: 0.8032551950046064 and parameters: {'n_estimators': 13, 'max_depth': 5}. Best is trial 2 with value: 0.8032551950046064.\u001b[0m\n",
      "\u001b[32m[I 2020-11-14 15:38:50,451]\u001b[0m Trial 3 finished with value: 0.7585218548469649 and parameters: {'n_estimators': 104, 'max_depth': 3}. Best is trial 2 with value: 0.8032551950046064.\u001b[0m\n",
      "\u001b[32m[I 2020-11-14 15:38:51,435]\u001b[0m Trial 4 finished with value: 0.758828948715324 and parameters: {'n_estimators': 92, 'max_depth': 3}. Best is trial 2 with value: 0.8032551950046064.\u001b[0m\n",
      "\u001b[32m[I 2020-11-14 15:38:53,546]\u001b[0m Trial 5 finished with value: 0.7988535162247927 and parameters: {'n_estimators': 122, 'max_depth': 5}. Best is trial 2 with value: 0.8032551950046064.\u001b[0m\n",
      "\u001b[32m[I 2020-11-14 15:38:54,782]\u001b[0m Trial 6 finished with value: 0.7989558808475791 and parameters: {'n_estimators': 97, 'max_depth': 5}. Best is trial 2 with value: 0.8032551950046064.\u001b[0m\n",
      "\u001b[32m[I 2020-11-14 15:38:55,528]\u001b[0m Trial 7 finished with value: 0.7608762411710512 and parameters: {'n_estimators': 77, 'max_depth': 3}. Best is trial 2 with value: 0.8032551950046064.\u001b[0m\n",
      "\u001b[32m[I 2020-11-14 15:38:55,992]\u001b[0m Trial 8 finished with value: 0.7968062237690654 and parameters: {'n_estimators': 34, 'max_depth': 5}. Best is trial 2 with value: 0.8032551950046064.\u001b[0m\n",
      "\u001b[32m[I 2020-11-14 15:38:56,274]\u001b[0m Trial 9 finished with value: 0.7563721977684512 and parameters: {'n_estimators': 31, 'max_depth': 2}. Best is trial 2 with value: 0.8032551950046064.\u001b[0m\n",
      "\u001b[32m[I 2020-11-14 15:38:56,362]\u001b[0m Trial 10 finished with value: 0.8047906643464019 and parameters: {'n_estimators': 3, 'max_depth': 6}. Best is trial 10 with value: 0.8047906643464019.\u001b[0m\n",
      "\u001b[32m[I 2020-11-14 15:38:56,455]\u001b[0m Trial 11 finished with value: 0.8047906643464019 and parameters: {'n_estimators': 3, 'max_depth': 6}. Best is trial 10 with value: 0.8047906643464019.\u001b[0m\n",
      "\u001b[32m[I 2020-11-14 15:38:56,564]\u001b[0m Trial 12 finished with value: 0.8024362780223155 and parameters: {'n_estimators': 4, 'max_depth': 6}. Best is trial 10 with value: 0.8047906643464019.\u001b[0m\n",
      "\u001b[32m[I 2020-11-14 15:38:57,612]\u001b[0m Trial 13 finished with value: 0.8127751049237384 and parameters: {'n_estimators': 44, 'max_depth': 6}. Best is trial 13 with value: 0.8127751049237384.\u001b[0m\n",
      "\u001b[32m[I 2020-11-14 15:38:58,605]\u001b[0m Trial 14 finished with value: 0.8140034803971747 and parameters: {'n_estimators': 48, 'max_depth': 6}. Best is trial 14 with value: 0.8140034803971747.\u001b[0m\n",
      "\u001b[32m[I 2020-11-14 15:38:59,392]\u001b[0m Trial 15 finished with value: 0.768655952502815 and parameters: {'n_estimators': 51, 'max_depth': 4}. Best is trial 14 with value: 0.8140034803971747.\u001b[0m\n",
      "\u001b[32m[I 2020-11-14 15:39:00,178]\u001b[0m Trial 16 finished with value: 0.812672740300952 and parameters: {'n_estimators': 50, 'max_depth': 6}. Best is trial 14 with value: 0.8140034803971747.\u001b[0m\n",
      "\u001b[32m[I 2020-11-14 15:39:00,937]\u001b[0m Trial 17 finished with value: 0.7681441293888832 and parameters: {'n_estimators': 46, 'max_depth': 4}. Best is trial 14 with value: 0.8140034803971747.\u001b[0m\n",
      "\u001b[32m[I 2020-11-14 15:39:02,285]\u001b[0m Trial 18 finished with value: 0.812672740300952 and parameters: {'n_estimators': 69, 'max_depth': 6}. Best is trial 14 with value: 0.8140034803971747.\u001b[0m\n",
      "\u001b[32m[I 2020-11-14 15:39:03,030]\u001b[0m Trial 19 finished with value: 0.7992629747159382 and parameters: {'n_estimators': 25, 'max_depth': 5}. Best is trial 14 with value: 0.8140034803971747.\u001b[0m\n",
      "\u001b[32m[I 2020-11-14 15:39:04,069]\u001b[0m Trial 20 finished with value: 0.8124680110553792 and parameters: {'n_estimators': 60, 'max_depth': 6}. Best is trial 14 with value: 0.8140034803971747.\u001b[0m\n",
      "\u001b[32m[I 2020-11-14 15:39:05,660]\u001b[0m Trial 21 finished with value: 0.8124680110553792 and parameters: {'n_estimators': 67, 'max_depth': 6}. Best is trial 14 with value: 0.8140034803971747.\u001b[0m\n",
      "\u001b[32m[I 2020-11-14 15:39:06,534]\u001b[0m Trial 22 finished with value: 0.8098065308629337 and parameters: {'n_estimators': 38, 'max_depth': 6}. Best is trial 14 with value: 0.8140034803971747.\u001b[0m\n",
      "\u001b[32m[I 2020-11-14 15:39:08,446]\u001b[0m Trial 23 finished with value: 0.7969085883918517 and parameters: {'n_estimators': 80, 'max_depth': 5}. Best is trial 14 with value: 0.8140034803971747.\u001b[0m\n",
      "\u001b[32m[I 2020-11-14 15:39:10,252]\u001b[0m Trial 24 finished with value: 0.8124680110553792 and parameters: {'n_estimators': 59, 'max_depth': 6}. Best is trial 14 with value: 0.8140034803971747.\u001b[0m\n",
      "\u001b[32m[I 2020-11-14 15:39:10,827]\u001b[0m Trial 25 finished with value: 0.7977275053741427 and parameters: {'n_estimators': 19, 'max_depth': 5}. Best is trial 14 with value: 0.8140034803971747.\u001b[0m\n",
      "\u001b[32m[I 2020-11-14 15:39:12,350]\u001b[0m Trial 26 finished with value: 0.8114443648275156 and parameters: {'n_estimators': 84, 'max_depth': 6}. Best is trial 14 with value: 0.8140034803971747.\u001b[0m\n",
      "\u001b[32m[I 2020-11-14 15:39:12,830]\u001b[0m Trial 27 finished with value: 0.7681441293888832 and parameters: {'n_estimators': 42, 'max_depth': 4}. Best is trial 14 with value: 0.8140034803971747.\u001b[0m\n",
      "\u001b[32m[I 2020-11-14 15:39:13,822]\u001b[0m Trial 28 finished with value: 0.8136963865288156 and parameters: {'n_estimators': 55, 'max_depth': 6}. Best is trial 14 with value: 0.8140034803971747.\u001b[0m\n",
      "\u001b[32m[I 2020-11-14 15:39:14,782]\u001b[0m Trial 29 finished with value: 0.7958849421639881 and parameters: {'n_estimators': 59, 'max_depth': 5}. Best is trial 14 with value: 0.8140034803971747.\u001b[0m\n"
     ]
    },
    {
     "name": "stdout",
     "output_type": "stream",
     "text": [
      "Optimized on accuracy\n",
      "Optimized ExtraTreesClassifier accuracy:  0.8102159893540792\n",
      "Optimized ExtraTreesClassifier f1-score:  0.4088010204081633\n"
     ]
    }
   ],
   "source": [
    "et = ExtraTreesClassifier(random_state=666)\n",
    "et.fit(X, y)\n",
    "preds = et.predict(X_val)\n",
    "\n",
    "print('ExtraTreesClassifier accuracy: ', accuracy_score(y_val, preds))\n",
    "print('ExtraTreesClassifier f1-score: ', f1_score(y_val, preds))\n",
    "\n",
    "def create_model(trial):\n",
    "    n_estimators = trial.suggest_int(\"n_estimators\", 2, 150)\n",
    "    max_depth = trial.suggest_int(\"max_depth\", 2, 6)\n",
    "    model = ExtraTreesClassifier(\n",
    "        n_estimators=n_estimators, \n",
    "        max_depth=max_depth, \n",
    "        random_state=0\n",
    "    )\n",
    "    return model\n",
    "\n",
    "optimizer = Optimizer('f1')\n",
    "et_f1_params = optimizer.optimize()\n",
    "et_f1_params['random_state'] = 666\n",
    "et_f1 = ExtraTreesClassifier(**et_f1_params)\n",
    "et_f1.fit(X, y)\n",
    "preds = et_f1.predict(X_val)\n",
    "\n",
    "print('Optimized on F1-score')\n",
    "print('Optimized ExtraTreesClassifier accuracy: ', accuracy_score(y_val, preds))\n",
    "print('Optimized ExtraTreesClassifier f1-score: ', f1_score(y_val, preds))\n",
    "\n",
    "optimizer = Optimizer('acc')\n",
    "et_acc_params = optimizer.optimize()\n",
    "et_acc_params['random_state'] = 666\n",
    "et_acc = ExtraTreesClassifier(**et_acc_params)\n",
    "et_acc.fit(X, y)\n",
    "preds = et_acc.predict(X_val)\n",
    "\n",
    "print('Optimized on accuracy')\n",
    "print('Optimized ExtraTreesClassifier accuracy: ', accuracy_score(y_val, preds))\n",
    "print('Optimized ExtraTreesClassifier f1-score: ', f1_score(y_val, preds))"
   ]
  },
  {
   "cell_type": "code",
   "execution_count": 75,
   "metadata": {},
   "outputs": [
    {
     "name": "stdout",
     "output_type": "stream",
     "text": [
      "SuperLearner accuracy:  0.8734773262360528\n",
      "SuperLearner f1-score:  0.7126917712691773\n"
     ]
    }
   ],
   "source": [
    "model = SuperLearner(folds=5, random_state=666)\n",
    "model.add(\n",
    "    [\n",
    "        bc, \n",
    "        lgb, \n",
    "        xgb, \n",
    "        rf, \n",
    "        dt, \n",
    "        knn\n",
    "    ]\n",
    ")\n",
    "model.add_meta(LogisticRegression())\n",
    "model.fit(X, y)\n",
    "\n",
    "preds = model.predict(X_val)\n",
    "\n",
    "print('SuperLearner accuracy: ', accuracy_score(y_val, preds))\n",
    "print('SuperLearner f1-score: ', f1_score(y_val, preds))"
   ]
  },
  {
   "cell_type": "code",
   "execution_count": null,
   "metadata": {},
   "outputs": [],
   "source": []
  },
  {
   "cell_type": "code",
   "execution_count": null,
   "metadata": {},
   "outputs": [],
   "source": []
  },
  {
   "cell_type": "code",
   "execution_count": null,
   "metadata": {},
   "outputs": [],
   "source": []
  },
  {
   "cell_type": "code",
   "execution_count": null,
   "metadata": {},
   "outputs": [],
   "source": []
  },
  {
   "cell_type": "code",
   "execution_count": null,
   "metadata": {},
   "outputs": [],
   "source": []
  },
  {
   "cell_type": "code",
   "execution_count": null,
   "metadata": {},
   "outputs": [],
   "source": []
  },
  {
   "cell_type": "code",
   "execution_count": null,
   "metadata": {},
   "outputs": [],
   "source": []
  },
  {
   "cell_type": "code",
   "execution_count": null,
   "metadata": {},
   "outputs": [],
   "source": []
  },
  {
   "cell_type": "code",
   "execution_count": null,
   "metadata": {},
   "outputs": [],
   "source": []
  },
  {
   "cell_type": "code",
   "execution_count": null,
   "metadata": {},
   "outputs": [],
   "source": []
  },
  {
   "cell_type": "code",
   "execution_count": null,
   "metadata": {},
   "outputs": [],
   "source": []
  },
  {
   "cell_type": "code",
   "execution_count": null,
   "metadata": {},
   "outputs": [],
   "source": []
  },
  {
   "cell_type": "code",
   "execution_count": null,
   "metadata": {},
   "outputs": [],
   "source": []
  },
  {
   "cell_type": "code",
   "execution_count": 49,
   "metadata": {},
   "outputs": [],
   "source": [
    "# create a generalized function to calculate the metrics values for train set\n",
    "def get_train_report(model):\n",
    "    \n",
    "    # for training set:\n",
    "    # train_pred: prediction made by the model on the train dataset 'X_train'\n",
    "    # y_train: actual values of the target variable for the train dataset\n",
    "\n",
    "    # predict the output of the target variable from the train data \n",
    "    train_pred = model.predict(X_train)\n",
    "\n",
    "    # return the performace measures on train set\n",
    "    return(classification_report(y_train, train_pred))"
   ]
  },
  {
   "cell_type": "code",
   "execution_count": 50,
   "metadata": {},
   "outputs": [],
   "source": [
    "# create a generalized function to calculate the metrics values for test set\n",
    "def get_test_report(model):\n",
    "    \n",
    "    # for test set:\n",
    "    # test_pred: prediction made by the model on the test dataset 'X_test'\n",
    "    # y_test: actual values of the target variable for the test dataset\n",
    "\n",
    "    # predict the output of the target variable from the test data \n",
    "    test_pred = model.predict(X_test)\n",
    "\n",
    "    # return the performace measures on test set\n",
    "    return(classification_report(y_test, test_pred))"
   ]
  },
  {
   "cell_type": "code",
   "execution_count": 51,
   "metadata": {},
   "outputs": [],
   "source": [
    "def plot_roc(model):\n",
    "    y_pred_prob = model.predict_proba(X_test)[:,1]\n",
    "    \n",
    "    # the roc_curve() returns the values for false positive rate, true positive rate and threshold\n",
    "    # pass the actual target values and predicted probabilities to the function\n",
    "    fpr, tpr, thresholds = roc_curve(y_test, y_pred_prob)\n",
    "\n",
    "    # plot the ROC curve\n",
    "    plt.plot(fpr, tpr)\n",
    "\n",
    "    # set limits for x and y axes\n",
    "    plt.xlim([0.0, 1.0])\n",
    "    plt.ylim([0.0, 1.0])\n",
    "\n",
    "    # plot the straight line showing worst prediction for the model\n",
    "    plt.plot([0, 1], [0, 1],'r--')\n",
    "\n",
    "    # add plot and axes labels\n",
    "    # set text size using 'fontsize'\n",
    "    plt.title('ROC curve for Admission Prediction Classifier', fontsize = 15)\n",
    "    plt.xlabel('False positive rate (1-Specificity)', fontsize = 15)\n",
    "    plt.ylabel('True positive rate (Sensitivity)', fontsize = 15)\n",
    "\n",
    "    # add the AUC score to the plot\n",
    "    # 'x' and 'y' gives position of the text\n",
    "    # 's' is the text \n",
    "    # use round() to round-off the AUC score upto 4 digits\n",
    "    plt.text(x = 0.82, y = 0.3, s = ('AUC Score:',round(roc_auc_score(y_test, y_pred_prob),4)))\n",
    "\n",
    "    # plot the grid\n",
    "    plt.grid(True)"
   ]
  },
  {
   "cell_type": "markdown",
   "metadata": {},
   "source": [
    "## Model Buliding\n"
   ]
  },
  {
   "cell_type": "code",
   "execution_count": 52,
   "metadata": {},
   "outputs": [],
   "source": [
    "decision_tree_classification = DecisionTreeClassifier(criterion = 'entropy', random_state = 10)\n",
    "\n",
    "# fit the model using fit() on train data\n",
    "decision_tree = decision_tree_classification.fit(X_train, y_train)"
   ]
  },
  {
   "cell_type": "code",
   "execution_count": 53,
   "metadata": {},
   "outputs": [
    {
     "data": {
      "text/plain": [
       "DecisionTreeClassifier(criterion='entropy', random_state=10)"
      ]
     },
     "execution_count": 53,
     "metadata": {},
     "output_type": "execute_result"
    }
   ],
   "source": [
    "dt_entropy = DecisionTreeClassifier(criterion = 'entropy', random_state = 10)\n",
    "dt_entropy.fit(X_train, y_train)"
   ]
  },
  {
   "cell_type": "code",
   "execution_count": 54,
   "metadata": {},
   "outputs": [
    {
     "data": {
      "text/plain": [
       "array([0.18829911, 0.114662  , 0.11984608, 0.04243292, 0.10655603,\n",
       "       0.05107492, 0.01643286, 0.01316727, 0.07636463, 0.21918628,\n",
       "       0.00670124, 0.0237287 , 0.00454077, 0.00640057, 0.0006396 ,\n",
       "       0.00996703])"
      ]
     },
     "execution_count": 54,
     "metadata": {},
     "output_type": "execute_result"
    }
   ],
   "source": [
    "labels = X_train.columns\n",
    "dt_entropy. feature_importances_"
   ]
  },
  {
   "cell_type": "code",
   "execution_count": 55,
   "metadata": {},
   "outputs": [
    {
     "data": {
      "text/plain": [
       "array([0.18829911, 0.114662  , 0.11984608, 0.04243292, 0.10655603,\n",
       "       0.05107492, 0.01643286, 0.01316727, 0.07636463, 0.21918628,\n",
       "       0.00670124, 0.0237287 , 0.00454077, 0.00640057, 0.0006396 ,\n",
       "       0.00996703])"
      ]
     },
     "execution_count": 55,
     "metadata": {},
     "output_type": "execute_result"
    }
   ],
   "source": [
    "dt_entropy.feature_importances_"
   ]
  },
  {
   "cell_type": "code",
   "execution_count": 56,
   "metadata": {},
   "outputs": [
    {
     "data": {
      "text/plain": [
       "<matplotlib.axes._subplots.AxesSubplot at 0xe343e88>"
      ]
     },
     "execution_count": 56,
     "metadata": {},
     "output_type": "execute_result"
    },
    {
     "data": {
      "image/png": "[encoded data removed]",
      "text/plain": [
       "<Figure size 864x864 with 1 Axes>"
      ]
     },
     "metadata": {
      "needs_background": "light"
     },
     "output_type": "display_data"
    }
   ],
   "source": [
    "df_imp = pd.DataFrame({'Features': X_train.columns, \n",
    "                                   'Importance': dt_entropy.feature_importances_})\n",
    "df_imp = df_imp.sort_values('Importance', ascending= False)\n",
    "sns.barplot(x = 'Importance', y = 'Features', data = df_imp)"
   ]
  },
  {
   "cell_type": "code",
   "execution_count": 57,
   "metadata": {},
   "outputs": [
    {
     "data": {
      "text/plain": [
       "DecisionTreeClassifier(criterion='entropy', max_depth=6, random_state=10)"
      ]
     },
     "execution_count": 57,
     "metadata": {},
     "output_type": "execute_result"
    }
   ],
   "source": [
    "dt_entropy6 = DecisionTreeClassifier(criterion = 'entropy', max_depth = 6, random_state = 10)\n",
    "dt_entropy6.fit(X_train, y_train)"
   ]
  },
  {
   "cell_type": "code",
   "execution_count": 58,
   "metadata": {},
   "outputs": [],
   "source": [
    "dt6_feature = pd.DataFrame({'Feature':X_train.columns, 'Importance':dt_entropy6.feature_importances_ })"
   ]
  },
  {
   "cell_type": "code",
   "execution_count": 59,
   "metadata": {},
   "outputs": [
    {
     "data": {
      "text/html": [
       "<div>\n",
       "<style scoped>\n",
       "    .dataframe tbody tr th:only-of-type {\n",
       "        vertical-align: middle;\n",
       "    }\n",
       "\n",
       "    .dataframe tbody tr th {\n",
       "        vertical-align: top;\n",
       "    }\n",
       "\n",
       "    .dataframe thead th {\n",
       "        text-align: right;\n",
       "    }\n",
       "</style>\n",
       "<table border=\"1\" class=\"dataframe\">\n",
       "  <thead>\n",
       "    <tr style=\"text-align: right;\">\n",
       "      <th></th>\n",
       "      <th>Feature</th>\n",
       "      <th>Importance</th>\n",
       "    </tr>\n",
       "  </thead>\n",
       "  <tbody>\n",
       "    <tr>\n",
       "      <td>0</td>\n",
       "      <td>age</td>\n",
       "      <td>0.055762</td>\n",
       "    </tr>\n",
       "    <tr>\n",
       "      <td>1</td>\n",
       "      <td>education-num</td>\n",
       "      <td>0.197943</td>\n",
       "    </tr>\n",
       "    <tr>\n",
       "      <td>2</td>\n",
       "      <td>capital-gain</td>\n",
       "      <td>0.215059</td>\n",
       "    </tr>\n",
       "    <tr>\n",
       "      <td>3</td>\n",
       "      <td>capital-loss</td>\n",
       "      <td>0.048756</td>\n",
       "    </tr>\n",
       "    <tr>\n",
       "      <td>4</td>\n",
       "      <td>hours-per-week</td>\n",
       "      <td>0.025126</td>\n",
       "    </tr>\n",
       "    <tr>\n",
       "      <td>5</td>\n",
       "      <td>workclass</td>\n",
       "      <td>0.000613</td>\n",
       "    </tr>\n",
       "    <tr>\n",
       "      <td>6</td>\n",
       "      <td>education</td>\n",
       "      <td>0.000000</td>\n",
       "    </tr>\n",
       "    <tr>\n",
       "      <td>7</td>\n",
       "      <td>marital-status</td>\n",
       "      <td>0.000000</td>\n",
       "    </tr>\n",
       "    <tr>\n",
       "      <td>8</td>\n",
       "      <td>occupation</td>\n",
       "      <td>0.000642</td>\n",
       "    </tr>\n",
       "    <tr>\n",
       "      <td>9</td>\n",
       "      <td>relationship</td>\n",
       "      <td>0.456100</td>\n",
       "    </tr>\n",
       "    <tr>\n",
       "      <td>10</td>\n",
       "      <td>sex</td>\n",
       "      <td>0.000000</td>\n",
       "    </tr>\n",
       "    <tr>\n",
       "      <td>11</td>\n",
       "      <td>native-country</td>\n",
       "      <td>0.000000</td>\n",
       "    </tr>\n",
       "    <tr>\n",
       "      <td>12</td>\n",
       "      <td>Asian-Pac-Islander</td>\n",
       "      <td>0.000000</td>\n",
       "    </tr>\n",
       "    <tr>\n",
       "      <td>13</td>\n",
       "      <td>Black</td>\n",
       "      <td>0.000000</td>\n",
       "    </tr>\n",
       "    <tr>\n",
       "      <td>14</td>\n",
       "      <td>Other</td>\n",
       "      <td>0.000000</td>\n",
       "    </tr>\n",
       "    <tr>\n",
       "      <td>15</td>\n",
       "      <td>White</td>\n",
       "      <td>0.000000</td>\n",
       "    </tr>\n",
       "  </tbody>\n",
       "</table>\n",
       "</div>"
      ],
      "text/plain": [
       "                Feature  Importance\n",
       "0                   age    0.055762\n",
       "1         education-num    0.197943\n",
       "2          capital-gain    0.215059\n",
       "3          capital-loss    0.048756\n",
       "4        hours-per-week    0.025126\n",
       "5             workclass    0.000613\n",
       "6             education    0.000000\n",
       "7        marital-status    0.000000\n",
       "8            occupation    0.000642\n",
       "9          relationship    0.456100\n",
       "10                  sex    0.000000\n",
       "11       native-country    0.000000\n",
       "12   Asian-Pac-Islander    0.000000\n",
       "13                Black    0.000000\n",
       "14                Other    0.000000\n",
       "15                White    0.000000"
      ]
     },
     "execution_count": 59,
     "metadata": {},
     "output_type": "execute_result"
    }
   ],
   "source": [
    "dt6_feature"
   ]
  },
  {
   "cell_type": "code",
   "execution_count": 60,
   "metadata": {},
   "outputs": [
    {
     "data": {
      "text/plain": [
       "<matplotlib.axes._subplots.AxesSubplot at 0xe33cb88>"
      ]
     },
     "execution_count": 60,
     "metadata": {},
     "output_type": "execute_result"
    },
    {
     "data": {
      "image/png": "[encoded data removed]",
      "text/plain": [
       "<Figure size 864x864 with 1 Axes>"
      ]
     },
     "metadata": {
      "needs_background": "light"
     },
     "output_type": "display_data"
    }
   ],
   "source": [
    "dt6_feature = dt6_feature.sort_values('Importance', ascending=False)\n",
    "sns.barplot(x='Importance', y= 'Feature', data = dt6_feature )"
   ]
  },
  {
   "cell_type": "code",
   "execution_count": 61,
   "metadata": {},
   "outputs": [
    {
     "data": {
      "text/plain": [
       "DecisionTreeClassifier(criterion='entropy', random_state=10)"
      ]
     },
     "execution_count": 61,
     "metadata": {},
     "output_type": "execute_result"
    }
   ],
   "source": [
    "dt_entropy"
   ]
  },
  {
   "cell_type": "code",
   "execution_count": 62,
   "metadata": {},
   "outputs": [
    {
     "data": {
      "text/plain": [
       "DecisionTreeClassifier(criterion='entropy', max_depth=6, random_state=10)"
      ]
     },
     "execution_count": 62,
     "metadata": {},
     "output_type": "execute_result"
    }
   ],
   "source": [
    "dt_entropy6"
   ]
  },
  {
   "cell_type": "code",
   "execution_count": 63,
   "metadata": {},
   "outputs": [],
   "source": [
    "y_pred  = dt_entropy.predict(X_test)\n",
    "y_pred6 = dt_entropy6.predict(X_test)\n"
   ]
  },
  {
   "cell_type": "code",
   "execution_count": 64,
   "metadata": {},
   "outputs": [
    {
     "name": "stdout",
     "output_type": "stream",
     "text": [
      " Accuracy for FG Decision Tree - Training  0.974534845033655\n",
      " Accuracy for FG Decision Tree - Test  0.8178933360630566\n",
      "---------\n",
      " Accuracy for 6 level Decision Tree - Training  0.856217848642285\n",
      " Accuracy for 6 level Decision Tree - Test  0.8476814412938888\n"
     ]
    }
   ],
   "source": [
    "from sklearn.metrics import accuracy_score, confusion_matrix, classification_report\n",
    "\n",
    "print(' Accuracy for FG Decision Tree - Training ', dt_entropy.score(X_train,y_train))\n",
    "print(' Accuracy for FG Decision Tree - Test ', accuracy_score(y_test,y_pred))\n",
    "print('---------')\n",
    "\n",
    "print(' Accuracy for 6 level Decision Tree - Training ', dt_entropy6.score(X_train,y_train))\n",
    "print(' Accuracy for 6 level Decision Tree - Test ', accuracy_score(y_test,y_pred6))\n"
   ]
  },
  {
   "cell_type": "code",
   "execution_count": 65,
   "metadata": {},
   "outputs": [
    {
     "name": "stdout",
     "output_type": "stream",
     "text": [
      "              precision    recall  f1-score   support\n",
      "\n",
      "           0       0.87      0.89      0.88      7388\n",
      "           1       0.63      0.60      0.62      2381\n",
      "\n",
      "    accuracy                           0.82      9769\n",
      "   macro avg       0.75      0.74      0.75      9769\n",
      "weighted avg       0.81      0.82      0.82      9769\n",
      "\n",
      "              precision    recall  f1-score   support\n",
      "\n",
      "           0       0.86      0.95      0.90      7388\n",
      "           1       0.78      0.53      0.63      2381\n",
      "\n",
      "    accuracy                           0.85      9769\n",
      "   macro avg       0.82      0.74      0.77      9769\n",
      "weighted avg       0.84      0.85      0.84      9769\n",
      "\n"
     ]
    }
   ],
   "source": [
    "#classification report\n",
    "print(classification_report(y_test,y_pred))\n",
    "print(classification_report(y_test,y_pred6))"
   ]
  },
  {
   "cell_type": "code",
   "execution_count": 66,
   "metadata": {},
   "outputs": [
    {
     "name": "stdout",
     "output_type": "stream",
     "text": [
      "{'criterion': 'gini', 'max_depth': 7}\n"
     ]
    }
   ],
   "source": [
    "#regularization\n",
    "param = ({'criterion': ['entropy','gini'], 'max_depth': [3,5,7]})\n",
    "dt = DecisionTreeClassifier(random_state=10)\n",
    "grid_dt = GridSearchCV(dt, param_grid =param, cv= 5 )\n",
    "grid_dt.fit(X_train,y_train)\n",
    "print(grid_dt.best_params_)"
   ]
  },
  {
   "cell_type": "code",
   "execution_count": 67,
   "metadata": {},
   "outputs": [],
   "source": [
    "dt_entropy7 = DecisionTreeClassifier(criterion='gini', max_depth= 7)\n",
    "dt_entropy7.fit(X_train, y_train)\n",
    "y_pred7 = dt_entropy7.predict(X_test)"
   ]
  },
  {
   "cell_type": "code",
   "execution_count": 68,
   "metadata": {},
   "outputs": [
    {
     "name": "stdout",
     "output_type": "stream",
     "text": [
      " Accuracy for 7 level Decision Tree - Training  0.8597496992808333\n",
      " Accuracy for 7 level Decision Tree - Test  0.8495240045040434\n"
     ]
    }
   ],
   "source": [
    "\n",
    "print(' Accuracy for 7 level Decision Tree - Training ', dt_entropy7.score(X_train,y_train))\n",
    "print(' Accuracy for 7 level Decision Tree - Test ', accuracy_score(y_test,y_pred7))"
   ]
  },
  {
   "cell_type": "code",
   "execution_count": 69,
   "metadata": {},
   "outputs": [
    {
     "name": "stdout",
     "output_type": "stream",
     "text": [
      "{'criterion': 'gini', 'max_depth': 7, 'min_samples_leaf': 3, 'min_samples_split': 3}\n"
     ]
    }
   ],
   "source": [
    "#regularization\n",
    "param = ({'criterion': ['entropy','gini'], 'max_depth':[3,5,7,],'min_samples_leaf': [3,5,10], 'min_samples_split':[3,5,10]})\n",
    "dt = DecisionTreeClassifier(random_state=10)\n",
    "grid_dt = GridSearchCV(dt, param_grid =param, cv= 5 )\n",
    "grid_dt.fit(X_train,y_train)\n",
    "print(grid_dt.best_params_)"
   ]
  },
  {
   "cell_type": "code",
   "execution_count": 70,
   "metadata": {},
   "outputs": [],
   "source": [
    "dt_prune = DecisionTreeClassifier(criterion='gini', max_depth= 7, min_samples_leaf= 3, min_samples_split= 3, random_state = 10)\n",
    "dt_prune.fit(X_train,y_train)\n",
    "y_pred_prune = dt_prune.predict(X_test)"
   ]
  },
  {
   "cell_type": "code",
   "execution_count": 71,
   "metadata": {},
   "outputs": [
    {
     "name": "stdout",
     "output_type": "stream",
     "text": [
      " Accuracy for 5 level Decision Tree - Training  0.8595449543162798\n",
      " Accuracy for 5 level Decision Tree - Test  0.8495240045040434\n"
     ]
    }
   ],
   "source": [
    "\n",
    "print(' Accuracy for 5 level Decision Tree - Training ', dt_prune.score(X_train,y_train))\n",
    "print(' Accuracy for 5 level Decision Tree - Test ', accuracy_score(y_test,y_pred_prune))"
   ]
  },
  {
   "cell_type": "code",
   "execution_count": 72,
   "metadata": {},
   "outputs": [],
   "source": [
    "from sklearn.ensemble import RandomForestClassifier"
   ]
  },
  {
   "cell_type": "code",
   "execution_count": 73,
   "metadata": {},
   "outputs": [],
   "source": [
    "rf = RandomForestClassifier(random_state = 1)\n",
    "rf.fit(X_train,y_train)\n",
    "y_pred_rf = rf.predict(X_test)"
   ]
  },
  {
   "cell_type": "code",
   "execution_count": 74,
   "metadata": {},
   "outputs": [
    {
     "name": "stdout",
     "output_type": "stream",
     "text": [
      " Accuracy for RF - Training  0.9744836587925165\n",
      " Accuracy for RF - Test  0.8469648889343843\n"
     ]
    }
   ],
   "source": [
    "\n",
    "print(' Accuracy for RF - Training ', rf.score(X_train,y_train))\n",
    "print(' Accuracy for RF - Test ', accuracy_score(y_test,y_pred_rf))"
   ]
  },
  {
   "cell_type": "code",
   "execution_count": 75,
   "metadata": {},
   "outputs": [],
   "source": [
    "rf50 = RandomForestClassifier(n_estimators=50,random_state = 1)\n",
    "rf50.fit(X_train,y_train)\n",
    "y_pred_rf50 = rf50.predict(X_test)"
   ]
  },
  {
   "cell_type": "code",
   "execution_count": 76,
   "metadata": {},
   "outputs": [
    {
     "name": "stdout",
     "output_type": "stream",
     "text": [
      " Accuracy for RF - Training  0.9742533207073939\n",
      " Accuracy for RF - Test  0.8465554304432388\n"
     ]
    }
   ],
   "source": [
    "\n",
    "print(' Accuracy for RF - Training ', rf50.score(X_train,y_train))\n",
    "print(' Accuracy for RF - Test ', accuracy_score(y_test,y_pred_rf50))"
   ]
  },
  {
   "cell_type": "code",
   "execution_count": 77,
   "metadata": {},
   "outputs": [
    {
     "name": "stdout",
     "output_type": "stream",
     "text": [
      "{'criterion': 'gini', 'min_samples_leaf': 10, 'n_estimators': 60}\n"
     ]
    }
   ],
   "source": [
    "param = ({'criterion': ['entropy','gini'],'n_estimators':[50,60,70],'min_samples_leaf': [10,15,20]})\n",
    "rf1 = RandomForestClassifier(random_state=10)\n",
    "grid_rf = GridSearchCV(rf1, param_grid =param, cv= 5 )\n",
    "grid_rf.fit(X_train,y_train)\n",
    "print(grid_rf.best_params_)"
   ]
  },
  {
   "cell_type": "code",
   "execution_count": 78,
   "metadata": {},
   "outputs": [],
   "source": [
    "rfgini = RandomForestClassifier(criterion= 'gini',n_estimators=60,min_samples_leaf=10, random_state = 1)\n",
    "rfgini.fit(X_train,y_train)\n",
    "y_pred_gini = rfgini.predict(X_test)"
   ]
  },
  {
   "cell_type": "code",
   "execution_count": 79,
   "metadata": {},
   "outputs": [
    {
     "name": "stdout",
     "output_type": "stream",
     "text": [
      " Accuracy for RF - Training  0.8778184424026821\n",
      " Accuracy for RF - Test  0.8573037158358071\n"
     ]
    }
   ],
   "source": [
    "print(' Accuracy for RF - Training ', rfgini.score(X_train,y_train))\n",
    "print(' Accuracy for RF - Test ', accuracy_score(y_test,y_pred_gini))"
   ]
  },
  {
   "cell_type": "code",
   "execution_count": 80,
   "metadata": {},
   "outputs": [
    {
     "data": {
      "text/plain": [
       "array([9.03352453e-02, 1.46216025e-01, 2.13038018e-01, 5.13398986e-02,\n",
       "       5.33286318e-02, 1.71773331e-02, 3.79001265e-02, 1.17628113e-01,\n",
       "       4.52259692e-02, 2.05442498e-01, 1.30739385e-02, 5.00004837e-03,\n",
       "       5.83161493e-04, 1.14600342e-03, 4.22438592e-05, 2.52274648e-03])"
      ]
     },
     "execution_count": 80,
     "metadata": {},
     "output_type": "execute_result"
    }
   ],
   "source": [
    "rfgini.feature_importances_"
   ]
  },
  {
   "cell_type": "code",
   "execution_count": 81,
   "metadata": {},
   "outputs": [],
   "source": [
    "rf_feature = pd.DataFrame({'Feature':X_train.columns, 'Importance':rfgini.feature_importances_ })"
   ]
  },
  {
   "cell_type": "code",
   "execution_count": 82,
   "metadata": {},
   "outputs": [
    {
     "data": {
      "text/html": [
       "<div>\n",
       "<style scoped>\n",
       "    .dataframe tbody tr th:only-of-type {\n",
       "        vertical-align: middle;\n",
       "    }\n",
       "\n",
       "    .dataframe tbody tr th {\n",
       "        vertical-align: top;\n",
       "    }\n",
       "\n",
       "    .dataframe thead th {\n",
       "        text-align: right;\n",
       "    }\n",
       "</style>\n",
       "<table border=\"1\" class=\"dataframe\">\n",
       "  <thead>\n",
       "    <tr style=\"text-align: right;\">\n",
       "      <th></th>\n",
       "      <th>Feature</th>\n",
       "      <th>Importance</th>\n",
       "    </tr>\n",
       "  </thead>\n",
       "  <tbody>\n",
       "    <tr>\n",
       "      <td>0</td>\n",
       "      <td>age</td>\n",
       "      <td>0.090335</td>\n",
       "    </tr>\n",
       "    <tr>\n",
       "      <td>1</td>\n",
       "      <td>education-num</td>\n",
       "      <td>0.146216</td>\n",
       "    </tr>\n",
       "    <tr>\n",
       "      <td>2</td>\n",
       "      <td>capital-gain</td>\n",
       "      <td>0.213038</td>\n",
       "    </tr>\n",
       "    <tr>\n",
       "      <td>3</td>\n",
       "      <td>capital-loss</td>\n",
       "      <td>0.051340</td>\n",
       "    </tr>\n",
       "    <tr>\n",
       "      <td>4</td>\n",
       "      <td>hours-per-week</td>\n",
       "      <td>0.053329</td>\n",
       "    </tr>\n",
       "    <tr>\n",
       "      <td>5</td>\n",
       "      <td>workclass</td>\n",
       "      <td>0.017177</td>\n",
       "    </tr>\n",
       "    <tr>\n",
       "      <td>6</td>\n",
       "      <td>education</td>\n",
       "      <td>0.037900</td>\n",
       "    </tr>\n",
       "    <tr>\n",
       "      <td>7</td>\n",
       "      <td>marital-status</td>\n",
       "      <td>0.117628</td>\n",
       "    </tr>\n",
       "    <tr>\n",
       "      <td>8</td>\n",
       "      <td>occupation</td>\n",
       "      <td>0.045226</td>\n",
       "    </tr>\n",
       "    <tr>\n",
       "      <td>9</td>\n",
       "      <td>relationship</td>\n",
       "      <td>0.205442</td>\n",
       "    </tr>\n",
       "    <tr>\n",
       "      <td>10</td>\n",
       "      <td>sex</td>\n",
       "      <td>0.013074</td>\n",
       "    </tr>\n",
       "    <tr>\n",
       "      <td>11</td>\n",
       "      <td>native-country</td>\n",
       "      <td>0.005000</td>\n",
       "    </tr>\n",
       "    <tr>\n",
       "      <td>12</td>\n",
       "      <td>Asian-Pac-Islander</td>\n",
       "      <td>0.000583</td>\n",
       "    </tr>\n",
       "    <tr>\n",
       "      <td>13</td>\n",
       "      <td>Black</td>\n",
       "      <td>0.001146</td>\n",
       "    </tr>\n",
       "    <tr>\n",
       "      <td>14</td>\n",
       "      <td>Other</td>\n",
       "      <td>0.000042</td>\n",
       "    </tr>\n",
       "    <tr>\n",
       "      <td>15</td>\n",
       "      <td>White</td>\n",
       "      <td>0.002523</td>\n",
       "    </tr>\n",
       "  </tbody>\n",
       "</table>\n",
       "</div>"
      ],
      "text/plain": [
       "                Feature  Importance\n",
       "0                   age    0.090335\n",
       "1         education-num    0.146216\n",
       "2          capital-gain    0.213038\n",
       "3          capital-loss    0.051340\n",
       "4        hours-per-week    0.053329\n",
       "5             workclass    0.017177\n",
       "6             education    0.037900\n",
       "7        marital-status    0.117628\n",
       "8            occupation    0.045226\n",
       "9          relationship    0.205442\n",
       "10                  sex    0.013074\n",
       "11       native-country    0.005000\n",
       "12   Asian-Pac-Islander    0.000583\n",
       "13                Black    0.001146\n",
       "14                Other    0.000042\n",
       "15                White    0.002523"
      ]
     },
     "execution_count": 82,
     "metadata": {},
     "output_type": "execute_result"
    }
   ],
   "source": [
    "rf_feature"
   ]
  },
  {
   "cell_type": "code",
   "execution_count": 83,
   "metadata": {},
   "outputs": [
    {
     "data": {
      "text/plain": [
       "<matplotlib.axes._subplots.AxesSubplot at 0xe383648>"
      ]
     },
     "execution_count": 83,
     "metadata": {},
     "output_type": "execute_result"
    },
    {
     "data": {
      "image/png": "[encoded data removed]",
      "text/plain": [
       "<Figure size 864x864 with 1 Axes>"
      ]
     },
     "metadata": {
      "needs_background": "light"
     },
     "output_type": "display_data"
    }
   ],
   "source": [
    "rf_feature = rf_feature.sort_values('Importance', ascending=False)\n",
    "sns.barplot(x='Importance', y= 'Feature', data = rf_feature )"
   ]
  },
  {
   "cell_type": "code",
   "execution_count": 84,
   "metadata": {},
   "outputs": [],
   "source": [
    "from sklearn.linear_model import LogisticRegression\n",
    "from sklearn.neighbors import KNeighborsClassifier"
   ]
  },
  {
   "cell_type": "code",
   "execution_count": 85,
   "metadata": {},
   "outputs": [],
   "source": [
    "lr =LogisticRegression()\n",
    "knn = KNeighborsClassifier()\n",
    "dt = DecisionTreeClassifier()"
   ]
  },
  {
   "cell_type": "code",
   "execution_count": 86,
   "metadata": {},
   "outputs": [],
   "source": [
    "from sklearn.ensemble import BaggingClassifier"
   ]
  },
  {
   "cell_type": "code",
   "execution_count": 87,
   "metadata": {},
   "outputs": [],
   "source": [
    "bag_lr  = BaggingClassifier(base_estimator = lr)\n",
    "bag_knn = BaggingClassifier(base_estimator = knn)\n",
    "bag_dt  = BaggingClassifier(base_estimator = dt)"
   ]
  },
  {
   "cell_type": "code",
   "execution_count": 88,
   "metadata": {},
   "outputs": [
    {
     "data": {
      "text/plain": [
       "BaggingClassifier(base_estimator=DecisionTreeClassifier())"
      ]
     },
     "execution_count": 88,
     "metadata": {},
     "output_type": "execute_result"
    }
   ],
   "source": [
    "lr.fit(X_train,y_train)\n",
    "knn.fit(X_train,y_train)\n",
    "dt.fit(X_train,y_train)\n",
    "bag_lr.fit(X_train,y_train)\n",
    "bag_knn.fit(X_train,y_train)\n",
    "bag_dt.fit(X_train,y_train)"
   ]
  },
  {
   "cell_type": "code",
   "execution_count": 89,
   "metadata": {},
   "outputs": [],
   "source": [
    "y_pred_lr = lr.predict(X_test)\n",
    "y_pred_knn = knn.predict(X_test)\n",
    "y_pred_dt = dt.predict(X_test)\n",
    "y_pred_bag_lr = bag_lr.predict(X_test)\n",
    "y_pred_bag_knn = bag_knn.predict(X_test)\n",
    "y_pred_bag_dt = bag_dt.predict(X_test)"
   ]
  },
  {
   "cell_type": "code",
   "execution_count": 90,
   "metadata": {},
   "outputs": [
    {
     "name": "stdout",
     "output_type": "stream",
     "text": [
      "Accuracy score of LR Model       0.8001842563210154\n",
      "Accuracy score of KNN Model      0.8407206469444161\n",
      "Accuracy score of DT Model        0.8176886068174839\n",
      "Accuracy score of Bag LR Model  0.8002866209438019\n",
      "Accuracy score of Bag KNN Model  0.8432797625140751\n",
      "Accuracy score of Bag DT  Model  0.8434844917596479\n"
     ]
    }
   ],
   "source": [
    "print('Accuracy score of LR Model      ', accuracy_score(y_test, y_pred_lr))\n",
    "print('Accuracy score of KNN Model     ', accuracy_score(y_test, y_pred_knn))\n",
    "print('Accuracy score of DT Model       ', accuracy_score(y_test, y_pred_dt))\n",
    "print('Accuracy score of Bag LR Model ', accuracy_score(y_test, y_pred_bag_lr))\n",
    "print('Accuracy score of Bag KNN Model ', accuracy_score(y_test, y_pred_bag_knn))\n",
    "print('Accuracy score of Bag DT  Model ', accuracy_score(y_test, y_pred_bag_dt))"
   ]
  },
  {
   "cell_type": "code",
   "execution_count": 91,
   "metadata": {},
   "outputs": [],
   "source": [
    "\n",
    "bag_dt1  = BaggingClassifier(n_estimators = 20, base_estimator = dt, oob_score=True, random_state=100)"
   ]
  },
  {
   "cell_type": "code",
   "execution_count": 92,
   "metadata": {},
   "outputs": [
    {
     "data": {
      "text/plain": [
       "BaggingClassifier(base_estimator=DecisionTreeClassifier(), n_estimators=20,\n",
       "                  oob_score=True, random_state=100)"
      ]
     },
     "execution_count": 92,
     "metadata": {},
     "output_type": "execute_result"
    }
   ],
   "source": [
    "bag_dt1.fit(X_train, y_train)"
   ]
  },
  {
   "cell_type": "code",
   "execution_count": 93,
   "metadata": {},
   "outputs": [
    {
     "data": {
      "text/plain": [
       "0.8421928185703683"
      ]
     },
     "execution_count": 93,
     "metadata": {},
     "output_type": "execute_result"
    }
   ],
   "source": [
    "bag_dt1.oob_score_"
   ]
  },
  {
   "cell_type": "code",
   "execution_count": 94,
   "metadata": {},
   "outputs": [],
   "source": [
    "y_pred_bag_dt1 = bag_dt.predict(X_test)"
   ]
  },
  {
   "cell_type": "code",
   "execution_count": 95,
   "metadata": {},
   "outputs": [
    {
     "data": {
      "text/plain": [
       "0.8434844917596479"
      ]
     },
     "execution_count": 95,
     "metadata": {},
     "output_type": "execute_result"
    }
   ],
   "source": [
    "accuracy_score(y_test, y_pred_bag_dt1)"
   ]
  },
  {
   "cell_type": "code",
   "execution_count": 96,
   "metadata": {},
   "outputs": [],
   "source": [
    "from sklearn.ensemble import AdaBoostClassifier"
   ]
  },
  {
   "cell_type": "code",
   "execution_count": 97,
   "metadata": {},
   "outputs": [],
   "source": [
    "abcl = AdaBoostClassifier(random_state=100)\n",
    "abcl.fit(X_train, y_train)\n",
    "y_predict_abcl = abcl.predict(X_test)"
   ]
  },
  {
   "cell_type": "code",
   "execution_count": 98,
   "metadata": {},
   "outputs": [
    {
     "data": {
      "text/plain": [
       "0.8530044016787798"
      ]
     },
     "execution_count": 98,
     "metadata": {},
     "output_type": "execute_result"
    }
   ],
   "source": [
    "accuracy_score(y_test, y_predict_abcl)"
   ]
  },
  {
   "cell_type": "code",
   "execution_count": 99,
   "metadata": {},
   "outputs": [
    {
     "name": "stdout",
     "output_type": "stream",
     "text": [
      "Training accuracy:  0.8625393494228751\n"
     ]
    }
   ],
   "source": [
    "print('Training accuracy: ' , abcl.score(X_train, y_train))"
   ]
  },
  {
   "cell_type": "code",
   "execution_count": 100,
   "metadata": {},
   "outputs": [
    {
     "name": "stdout",
     "output_type": "stream",
     "text": [
      "Testing accuracy:  0.8530044016787798\n",
      "Testing accuracy:  0.8530044016787798\n"
     ]
    }
   ],
   "source": [
    "print('Testing accuracy: ' , abcl.score(X_test, y_test))\n",
    "print('Testing accuracy: ' , accuracy_score(y_test, y_predict_abcl))\n"
   ]
  },
  {
   "cell_type": "code",
   "execution_count": 101,
   "metadata": {},
   "outputs": [],
   "source": [
    "lr =LogisticRegression()\n",
    "knn = KNeighborsClassifier()\n",
    "dt = DecisionTreeClassifier()"
   ]
  },
  {
   "cell_type": "code",
   "execution_count": 102,
   "metadata": {},
   "outputs": [],
   "source": [
    "abcl_lr = AdaBoostClassifier(base_estimator = lr, random_state=100)\n",
    "abcl_knn = AdaBoostClassifier(base_estimator = knn, random_state=100)\n",
    "abcl_dt = AdaBoostClassifier(base_estimator = dt, random_state=100)\n"
   ]
  },
  {
   "cell_type": "code",
   "execution_count": 103,
   "metadata": {},
   "outputs": [
    {
     "data": {
      "text/plain": [
       "AdaBoostClassifier(base_estimator=DecisionTreeClassifier(), random_state=100)"
      ]
     },
     "execution_count": 103,
     "metadata": {},
     "output_type": "execute_result"
    }
   ],
   "source": [
    "abcl_lr.fit(X_train, y_train)\n",
    "#abcl_knn.fit(X_train, y_train)\n",
    "abcl_dt.fit(X_train, y_train)\n"
   ]
  },
  {
   "cell_type": "code",
   "execution_count": 104,
   "metadata": {},
   "outputs": [],
   "source": [
    "\n",
    "y_predict_abcl_lr = abcl_lr.predict(X_test)\n",
    "y_predict_abcl_dt = abcl_dt.predict(X_test)"
   ]
  },
  {
   "cell_type": "code",
   "execution_count": 105,
   "metadata": {},
   "outputs": [
    {
     "name": "stdout",
     "output_type": "stream",
     "text": [
      "Training accuracy for LR:  0.8044685588513808\n",
      "Testing accuracy for LR:  0.8035622888729655\n",
      "------------\n",
      "Training accuracy for DT:  0.974534845033655\n",
      "Testing accuracy for DT:  0.8367284266557478\n"
     ]
    }
   ],
   "source": [
    "print('Training accuracy for LR: ' , abcl_lr.score(X_train, y_train))\n",
    "print('Testing accuracy for LR: ' , accuracy_score(y_test, y_predict_abcl_lr))\n",
    "print('------------')\n",
    "print('Training accuracy for DT: ' , abcl_dt.score(X_train, y_train))\n",
    "print('Testing accuracy for DT: ' , accuracy_score(y_test, y_predict_abcl_dt))\n"
   ]
  },
  {
   "cell_type": "code",
   "execution_count": 106,
   "metadata": {},
   "outputs": [
    {
     "name": "stdout",
     "output_type": "stream",
     "text": [
      "{'n_estimators': 300}\n"
     ]
    }
   ],
   "source": [
    "param = {'n_estimators' : [200,250,300]}\n",
    "ab = AdaBoostClassifier( random_state=100)\n",
    "ab_grid = GridSearchCV(estimator = ab,param_grid = param, cv=3, scoring = 'accuracy' )\n",
    "ab_grid.fit(X_train, y_train)\n",
    "print(ab_grid.best_params_)"
   ]
  },
  {
   "cell_type": "code",
   "execution_count": 107,
   "metadata": {},
   "outputs": [
    {
     "name": "stdout",
     "output_type": "stream",
     "text": [
      "Training accuracy for Adaboost 300 estimators:  0.870959486090139\n",
      "Testing accuracy for Adaboost 300 estimators:  0.8642645101852799\n"
     ]
    }
   ],
   "source": [
    "ab_300 =AdaBoostClassifier(n_estimators=300, random_state=100)\n",
    "ab_300.fit(X_train, y_train)\n",
    "\n",
    "y_predict_ab300 = ab_300.predict(X_test)\n",
    "print('Training accuracy for Adaboost 300 estimators: ' , ab_300.score(X_train, y_train))\n",
    "print('Testing accuracy for Adaboost 300 estimators: ' , accuracy_score(y_test, y_predict_ab300))"
   ]
  },
  {
   "cell_type": "code",
   "execution_count": 108,
   "metadata": {},
   "outputs": [],
   "source": [
    "from sklearn.ensemble import GradientBoostingClassifier"
   ]
  },
  {
   "cell_type": "code",
   "execution_count": 109,
   "metadata": {},
   "outputs": [],
   "source": [
    "gbcl = GradientBoostingClassifier(n_estimators =11, random_state=100)"
   ]
  },
  {
   "cell_type": "code",
   "execution_count": 110,
   "metadata": {},
   "outputs": [
    {
     "data": {
      "text/plain": [
       "GradientBoostingClassifier(n_estimators=11, random_state=100)"
      ]
     },
     "execution_count": 110,
     "metadata": {},
     "output_type": "execute_result"
    }
   ],
   "source": [
    "gbcl.fit(X_train, y_train)\n"
   ]
  },
  {
   "cell_type": "code",
   "execution_count": 111,
   "metadata": {},
   "outputs": [
    {
     "name": "stdout",
     "output_type": "stream",
     "text": [
      "Training accuracy for Gradient Boost 20 estimators:  0.8444450131804571\n",
      "Testing accuracy for Gradient Boost 20 estimators:  0.8374449790152523\n"
     ]
    }
   ],
   "source": [
    "y_predict_gbcl= gbcl.predict(X_test)\n",
    "print('Training accuracy for Gradient Boost 20 estimators: ' , gbcl.score(X_train, y_train))\n",
    "print('Testing accuracy for Gradient Boost 20 estimators: ' , accuracy_score(y_test, y_predict_gbcl))"
   ]
  },
  {
   "cell_type": "code",
   "execution_count": 112,
   "metadata": {},
   "outputs": [
    {
     "name": "stdout",
     "output_type": "stream",
     "text": [
      "{'n_estimators': 200}\n"
     ]
    }
   ],
   "source": [
    "param = {'n_estimators' : [100,200]}\n",
    "gb = GradientBoostingClassifier( random_state=100)\n",
    "gb_grid = GridSearchCV(estimator = gb,param_grid = param, cv=3, scoring = 'accuracy' )\n",
    "gb_grid.fit(X_train, y_train)\n",
    "print(gb_grid.best_params_)"
   ]
  },
  {
   "cell_type": "code",
   "execution_count": 113,
   "metadata": {},
   "outputs": [
    {
     "data": {
      "text/plain": [
       "XGBClassifier(base_score=0.5, booster='gbtree', colsample_bylevel=1,\n",
       "              colsample_bynode=1, colsample_bytree=1, gamma=0, gpu_id=-1,\n",
       "              importance_type='gain', interaction_constraints='',\n",
       "              learning_rate=0.300000012, max_delta_step=0, max_depth=6,\n",
       "              min_child_weight=1, missing=nan, monotone_constraints='()',\n",
       "              n_estimators=5, n_jobs=0, num_parallel_tree=1, random_state=0,\n",
       "              reg_alpha=0, reg_lambda=1, scale_pos_weight=1, subsample=1,\n",
       "              tree_method='exact', validate_parameters=1, verbosity=None)"
      ]
     },
     "execution_count": 113,
     "metadata": {},
     "output_type": "execute_result"
    }
   ],
   "source": [
    "from xgboost import XGBClassifier\n",
    "xgb = XGBClassifier(n_estimators=5)\n",
    "xgb.fit(X_train, y_train)"
   ]
  },
  {
   "cell_type": "code",
   "execution_count": 114,
   "metadata": {},
   "outputs": [
    {
     "name": "stdout",
     "output_type": "stream",
     "text": [
      "Training accuracy for XGB 20 estimators:  0.8620786732526297\n",
      "Testing accuracy for XGB Boost 20 estimators:  0.8514689323369843\n"
     ]
    }
   ],
   "source": [
    "\n",
    "y_predict_xgb= xgb.predict(X_test)\n",
    "print('Training accuracy for XGB 20 estimators: ' , xgb.score(X_train, y_train))\n",
    "print('Testing accuracy for XGB Boost 20 estimators: ' , accuracy_score(y_test, y_predict_xgb))"
   ]
  },
  {
   "cell_type": "code",
   "execution_count": 115,
   "metadata": {},
   "outputs": [],
   "source": [
    "from sklearn.ensemble import StackingClassifier\n",
    "from sklearn.naive_bayes import GaussianNB"
   ]
  },
  {
   "cell_type": "code",
   "execution_count": 116,
   "metadata": {},
   "outputs": [],
   "source": [
    "# define the base models\n",
    "level_0 = list()\n",
    "level_0.append(('lr', LogisticRegression()))\n",
    "level_0.append(('knn', KNeighborsClassifier()))\n",
    "level_0.append(('cart', DecisionTreeClassifier()))\n",
    "level_0.append(('bayes', GaussianNB()))\n",
    "\n",
    "# define meta learner model\n",
    "level_1 = LogisticRegression()\n",
    "\n",
    "# define the stacking ensemble\n",
    "model = StackingClassifier(estimators=level_0, final_estimator=level_1, cv=5)"
   ]
  },
  {
   "cell_type": "code",
   "execution_count": 117,
   "metadata": {},
   "outputs": [
    {
     "data": {
      "text/plain": [
       "StackingClassifier(cv=5,\n",
       "                   estimators=[('lr', LogisticRegression()),\n",
       "                               ('knn', KNeighborsClassifier()),\n",
       "                               ('cart', DecisionTreeClassifier()),\n",
       "                               ('bayes', GaussianNB())],\n",
       "                   final_estimator=LogisticRegression())"
      ]
     },
     "execution_count": 117,
     "metadata": {},
     "output_type": "execute_result"
    }
   ],
   "source": [
    "model.fit(X_train, y_train)"
   ]
  },
  {
   "cell_type": "code",
   "execution_count": 118,
   "metadata": {},
   "outputs": [
    {
     "name": "stdout",
     "output_type": "stream",
     "text": [
      "Training accuracy for Stacking:  0.9111406853837688\n",
      "Testing accuracy for Stacking:  0.8522878493192753\n"
     ]
    }
   ],
   "source": [
    "\n",
    "y_predict_stack= model.predict(X_test)\n",
    "print('Training accuracy for Stacking: ' , model.score(X_train, y_train))\n",
    "print('Testing accuracy for Stacking: ' , accuracy_score(y_test, y_predict_stack))"
   ]
  },
  {
   "cell_type": "code",
   "execution_count": 119,
   "metadata": {},
   "outputs": [],
   "source": [
    "from sklearn.ensemble import VotingClassifier"
   ]
  },
  {
   "cell_type": "code",
   "execution_count": 120,
   "metadata": {},
   "outputs": [],
   "source": [
    "# Voting Classifier with hard voting \n",
    "vote_hard = VotingClassifier(estimators = level_0, voting ='hard') \n",
    "vote_hard.fit(X_train, y_train) \n",
    "y_pred_vote_hard = vote_hard.predict(X_test) "
   ]
  },
  {
   "cell_type": "code",
   "execution_count": 121,
   "metadata": {},
   "outputs": [
    {
     "name": "stdout",
     "output_type": "stream",
     "text": [
      "Training accuracy for Voting Hard:  0.8510224451667392\n",
      "Testing accuracy for Voting Hard:  0.8327362063670796\n"
     ]
    }
   ],
   "source": [
    "\n",
    "print('Training accuracy for Voting Hard: ' , vote_hard.score(X_train, y_train))\n",
    "print('Testing accuracy for Voting Hard: ' , accuracy_score(y_test, y_pred_vote_hard))"
   ]
  },
  {
   "cell_type": "code",
   "execution_count": 122,
   "metadata": {},
   "outputs": [],
   "source": [
    "# Voting Classifier with soft voting \n",
    "vote_soft = VotingClassifier(estimators = level_0, voting ='soft') \n",
    "vote_soft.fit(X_train, y_train) \n",
    "y_pred_vote_soft = vote_soft.predict(X_test) "
   ]
  },
  {
   "cell_type": "code",
   "execution_count": 123,
   "metadata": {},
   "outputs": [
    {
     "name": "stdout",
     "output_type": "stream",
     "text": [
      "Training accuracy for Voting Soft:  0.9059708750287923\n",
      "Testing accuracy for Voting Soft:  0.8442010441191524\n"
     ]
    }
   ],
   "source": [
    "\n",
    "print('Training accuracy for Voting Soft: ' , vote_soft.score(X_train, y_train))\n",
    "print('Testing accuracy for Voting Soft: ' , accuracy_score(y_test, y_pred_vote_soft))"
   ]
  },
  {
   "cell_type": "code",
   "execution_count": null,
   "metadata": {},
   "outputs": [],
   "source": []
  },
  {
   "cell_type": "code",
   "execution_count": null,
   "metadata": {},
   "outputs": [],
   "source": []
  },
  {
   "cell_type": "code",
   "execution_count": null,
   "metadata": {},
   "outputs": [],
   "source": []
  },
  {
   "cell_type": "code",
   "execution_count": null,
   "metadata": {},
   "outputs": [],
   "source": []
  },
  {
   "cell_type": "code",
   "execution_count": null,
   "metadata": {},
   "outputs": [],
   "source": []
  },
  {
   "cell_type": "code",
   "execution_count": null,
   "metadata": {},
   "outputs": [],
   "source": []
  },
  {
   "cell_type": "code",
   "execution_count": null,
   "metadata": {},
   "outputs": [],
   "source": []
  },
  {
   "cell_type": "code",
   "execution_count": null,
   "metadata": {},
   "outputs": [],
   "source": []
  },
  {
   "cell_type": "code",
   "execution_count": null,
   "metadata": {},
   "outputs": [],
   "source": []
  },
  {
   "cell_type": "code",
   "execution_count": null,
   "metadata": {},
   "outputs": [],
   "source": []
  },
  {
   "cell_type": "code",
   "execution_count": null,
   "metadata": {},
   "outputs": [],
   "source": []
  },
  {
   "cell_type": "code",
   "execution_count": null,
   "metadata": {},
   "outputs": [],
   "source": []
  },
  {
   "cell_type": "code",
   "execution_count": null,
   "metadata": {},
   "outputs": [],
   "source": []
  },
  {
   "cell_type": "code",
   "execution_count": null,
   "metadata": {},
   "outputs": [],
   "source": []
  },
  {
   "cell_type": "code",
   "execution_count": null,
   "metadata": {},
   "outputs": [],
   "source": []
  },
  {
   "cell_type": "code",
   "execution_count": null,
   "metadata": {},
   "outputs": [],
   "source": []
  },
  {
   "cell_type": "code",
   "execution_count": null,
   "metadata": {},
   "outputs": [],
   "source": []
  },
  {
   "cell_type": "code",
   "execution_count": null,
   "metadata": {},
   "outputs": [],
   "source": []
  },
  {
   "cell_type": "code",
   "execution_count": null,
   "metadata": {},
   "outputs": [],
   "source": []
  },
  {
   "cell_type": "code",
   "execution_count": null,
   "metadata": {},
   "outputs": [],
   "source": []
  },
  {
   "cell_type": "code",
   "execution_count": null,
   "metadata": {},
   "outputs": [],
   "source": []
  },
  {
   "cell_type": "code",
   "execution_count": null,
   "metadata": {},
   "outputs": [],
   "source": []
  },
  {
   "cell_type": "code",
   "execution_count": null,
   "metadata": {},
   "outputs": [],
   "source": []
  },
  {
   "cell_type": "code",
   "execution_count": null,
   "metadata": {},
   "outputs": [],
   "source": []
  },
  {
   "cell_type": "code",
   "execution_count": null,
   "metadata": {},
   "outputs": [],
   "source": []
  },
  {
   "cell_type": "code",
   "execution_count": null,
   "metadata": {},
   "outputs": [],
   "source": []
  },
  {
   "cell_type": "code",
   "execution_count": null,
   "metadata": {},
   "outputs": [],
   "source": []
  },
  {
   "cell_type": "code",
   "execution_count": null,
   "metadata": {},
   "outputs": [],
   "source": []
  },
  {
   "cell_type": "code",
   "execution_count": null,
   "metadata": {},
   "outputs": [],
   "source": []
  },
  {
   "cell_type": "code",
   "execution_count": null,
   "metadata": {},
   "outputs": [],
   "source": []
  },
  {
   "cell_type": "code",
   "execution_count": null,
   "metadata": {},
   "outputs": [],
   "source": []
  },
  {
   "cell_type": "code",
   "execution_count": null,
   "metadata": {},
   "outputs": [],
   "source": []
  },
  {
   "cell_type": "code",
   "execution_count": null,
   "metadata": {},
   "outputs": [],
   "source": []
  },
  {
   "cell_type": "code",
   "execution_count": null,
   "metadata": {},
   "outputs": [],
   "source": []
  },
  {
   "cell_type": "code",
   "execution_count": null,
   "metadata": {},
   "outputs": [],
   "source": []
  },
  {
   "cell_type": "code",
   "execution_count": null,
   "metadata": {},
   "outputs": [],
   "source": []
  },
  {
   "cell_type": "code",
   "execution_count": null,
   "metadata": {},
   "outputs": [],
   "source": []
  },
  {
   "cell_type": "code",
   "execution_count": null,
   "metadata": {},
   "outputs": [],
   "source": []
  },
  {
   "cell_type": "code",
   "execution_count": null,
   "metadata": {},
   "outputs": [],
   "source": []
  },
  {
   "cell_type": "code",
   "execution_count": null,
   "metadata": {},
   "outputs": [],
   "source": []
  },
  {
   "cell_type": "code",
   "execution_count": null,
   "metadata": {},
   "outputs": [],
   "source": []
  },
  {
   "cell_type": "code",
   "execution_count": null,
   "metadata": {},
   "outputs": [],
   "source": []
  },
  {
   "cell_type": "code",
   "execution_count": null,
   "metadata": {},
   "outputs": [],
   "source": []
  },
  {
   "cell_type": "code",
   "execution_count": null,
   "metadata": {},
   "outputs": [],
   "source": []
  },
  {
   "cell_type": "code",
   "execution_count": null,
   "metadata": {},
   "outputs": [],
   "source": []
  },
  {
   "cell_type": "code",
   "execution_count": null,
   "metadata": {},
   "outputs": [],
   "source": []
  },
  {
   "cell_type": "code",
   "execution_count": null,
   "metadata": {},
   "outputs": [],
   "source": []
  },
  {
   "cell_type": "code",
   "execution_count": null,
   "metadata": {},
   "outputs": [],
   "source": []
  },
  {
   "cell_type": "code",
   "execution_count": null,
   "metadata": {},
   "outputs": [],
   "source": []
  },
  {
   "cell_type": "code",
   "execution_count": null,
   "metadata": {},
   "outputs": [],
   "source": []
  },
  {
   "cell_type": "code",
   "execution_count": null,
   "metadata": {},
   "outputs": [],
   "source": []
  },
  {
   "cell_type": "code",
   "execution_count": null,
   "metadata": {},
   "outputs": [],
   "source": []
  },
  {
   "cell_type": "code",
   "execution_count": null,
   "metadata": {},
   "outputs": [],
   "source": []
  },
  {
   "cell_type": "code",
   "execution_count": null,
   "metadata": {},
   "outputs": [],
   "source": []
  },
  {
   "cell_type": "code",
   "execution_count": null,
   "metadata": {},
   "outputs": [],
   "source": []
  },
  {
   "cell_type": "code",
   "execution_count": null,
   "metadata": {},
   "outputs": [],
   "source": []
  },
  {
   "cell_type": "code",
   "execution_count": null,
   "metadata": {},
   "outputs": [],
   "source": []
  },
  {
   "cell_type": "code",
   "execution_count": null,
   "metadata": {},
   "outputs": [],
   "source": []
  },
  {
   "cell_type": "code",
   "execution_count": null,
   "metadata": {},
   "outputs": [],
   "source": []
  },
  {
   "cell_type": "code",
   "execution_count": null,
   "metadata": {},
   "outputs": [],
   "source": []
  },
  {
   "cell_type": "code",
   "execution_count": null,
   "metadata": {},
   "outputs": [],
   "source": []
  },
  {
   "cell_type": "code",
   "execution_count": null,
   "metadata": {},
   "outputs": [],
   "source": []
  },
  {
   "cell_type": "code",
   "execution_count": null,
   "metadata": {},
   "outputs": [],
   "source": []
  },
  {
   "cell_type": "code",
   "execution_count": null,
   "metadata": {},
   "outputs": [],
   "source": []
  },
  {
   "cell_type": "code",
   "execution_count": null,
   "metadata": {},
   "outputs": [],
   "source": []
  },
  {
   "cell_type": "code",
   "execution_count": null,
   "metadata": {},
   "outputs": [],
   "source": []
  },
  {
   "cell_type": "code",
   "execution_count": null,
   "metadata": {},
   "outputs": [],
   "source": []
  },
  {
   "cell_type": "code",
   "execution_count": null,
   "metadata": {},
   "outputs": [],
   "source": []
  },
  {
   "cell_type": "code",
   "execution_count": null,
   "metadata": {},
   "outputs": [],
   "source": []
  },
  {
   "cell_type": "code",
   "execution_count": null,
   "metadata": {},
   "outputs": [],
   "source": []
  },
  {
   "cell_type": "code",
   "execution_count": null,
   "metadata": {},
   "outputs": [],
   "source": []
  },
  {
   "cell_type": "code",
   "execution_count": null,
   "metadata": {},
   "outputs": [],
   "source": []
  },
  {
   "cell_type": "code",
   "execution_count": null,
   "metadata": {},
   "outputs": [],
   "source": []
  },
  {
   "cell_type": "code",
   "execution_count": null,
   "metadata": {},
   "outputs": [],
   "source": []
  },
  {
   "cell_type": "code",
   "execution_count": null,
   "metadata": {},
   "outputs": [],
   "source": []
  },
  {
   "cell_type": "code",
   "execution_count": null,
   "metadata": {},
   "outputs": [],
   "source": []
  },
  {
   "cell_type": "code",
   "execution_count": null,
   "metadata": {},
   "outputs": [],
   "source": []
  },
  {
   "cell_type": "code",
   "execution_count": null,
   "metadata": {},
   "outputs": [],
   "source": []
  },
  {
   "cell_type": "code",
   "execution_count": null,
   "metadata": {},
   "outputs": [],
   "source": []
  },
  {
   "cell_type": "code",
   "execution_count": null,
   "metadata": {},
   "outputs": [],
   "source": []
  },
  {
   "cell_type": "code",
   "execution_count": null,
   "metadata": {},
   "outputs": [],
   "source": []
  },
  {
   "cell_type": "code",
   "execution_count": null,
   "metadata": {},
   "outputs": [],
   "source": []
  },
  {
   "cell_type": "code",
   "execution_count": null,
   "metadata": {},
   "outputs": [],
   "source": []
  },
  {
   "cell_type": "code",
   "execution_count": null,
   "metadata": {},
   "outputs": [],
   "source": []
  },
  {
   "cell_type": "code",
   "execution_count": null,
   "metadata": {},
   "outputs": [],
   "source": []
  },
  {
   "cell_type": "code",
   "execution_count": null,
   "metadata": {},
   "outputs": [],
   "source": []
  },
  {
   "cell_type": "code",
   "execution_count": null,
   "metadata": {},
   "outputs": [],
   "source": []
  },
  {
   "cell_type": "code",
   "execution_count": null,
   "metadata": {},
   "outputs": [],
   "source": []
  },
  {
   "cell_type": "code",
   "execution_count": null,
   "metadata": {},
   "outputs": [],
   "source": []
  },
  {
   "cell_type": "code",
   "execution_count": null,
   "metadata": {},
   "outputs": [],
   "source": []
  },
  {
   "cell_type": "code",
   "execution_count": null,
   "metadata": {},
   "outputs": [],
   "source": []
  },
  {
   "cell_type": "code",
   "execution_count": null,
   "metadata": {},
   "outputs": [],
   "source": []
  },
  {
   "cell_type": "code",
   "execution_count": null,
   "metadata": {},
   "outputs": [],
   "source": []
  },
  {
   "cell_type": "code",
   "execution_count": null,
   "metadata": {},
   "outputs": [],
   "source": []
  },
  {
   "cell_type": "code",
   "execution_count": null,
   "metadata": {},
   "outputs": [],
   "source": []
  },
  {
   "cell_type": "code",
   "execution_count": null,
   "metadata": {},
   "outputs": [],
   "source": []
  },
  {
   "cell_type": "code",
   "execution_count": null,
   "metadata": {},
   "outputs": [],
   "source": []
  },
  {
   "cell_type": "code",
   "execution_count": null,
   "metadata": {},
   "outputs": [],
   "source": []
  },
  {
   "cell_type": "code",
   "execution_count": null,
   "metadata": {},
   "outputs": [],
   "source": []
  },
  {
   "cell_type": "code",
   "execution_count": null,
   "metadata": {},
   "outputs": [],
   "source": []
  },
  {
   "cell_type": "code",
   "execution_count": null,
   "metadata": {},
   "outputs": [],
   "source": []
  },
  {
   "cell_type": "code",
   "execution_count": null,
   "metadata": {},
   "outputs": [],
   "source": []
  },
  {
   "cell_type": "code",
   "execution_count": null,
   "metadata": {},
   "outputs": [],
   "source": []
  },
  {
   "cell_type": "code",
   "execution_count": null,
   "metadata": {},
   "outputs": [],
   "source": []
  },
  {
   "cell_type": "code",
   "execution_count": null,
   "metadata": {},
   "outputs": [],
   "source": []
  },
  {
   "cell_type": "code",
   "execution_count": null,
   "metadata": {},
   "outputs": [],
   "source": []
  },
  {
   "cell_type": "code",
   "execution_count": null,
   "metadata": {},
   "outputs": [],
   "source": []
  },
  {
   "cell_type": "code",
   "execution_count": null,
   "metadata": {},
   "outputs": [],
   "source": []
  },
  {
   "cell_type": "code",
   "execution_count": null,
   "metadata": {},
   "outputs": [],
   "source": []
  },
  {
   "cell_type": "code",
   "execution_count": null,
   "metadata": {},
   "outputs": [],
   "source": []
  },
  {
   "cell_type": "code",
   "execution_count": null,
   "metadata": {},
   "outputs": [],
   "source": []
  },
  {
   "cell_type": "code",
   "execution_count": null,
   "metadata": {},
   "outputs": [],
   "source": []
  },
  {
   "cell_type": "code",
   "execution_count": null,
   "metadata": {},
   "outputs": [],
   "source": []
  },
  {
   "cell_type": "code",
   "execution_count": null,
   "metadata": {},
   "outputs": [],
   "source": []
  },
  {
   "cell_type": "code",
   "execution_count": null,
   "metadata": {},
   "outputs": [],
   "source": []
  },
  {
   "cell_type": "code",
   "execution_count": null,
   "metadata": {},
   "outputs": [],
   "source": []
  },
  {
   "cell_type": "code",
   "execution_count": null,
   "metadata": {},
   "outputs": [],
   "source": []
  },
  {
   "cell_type": "code",
   "execution_count": null,
   "metadata": {},
   "outputs": [],
   "source": []
  },
  {
   "cell_type": "code",
   "execution_count": null,
   "metadata": {},
   "outputs": [],
   "source": []
  },
  {
   "cell_type": "code",
   "execution_count": null,
   "metadata": {},
   "outputs": [],
   "source": []
  },
  {
   "cell_type": "code",
   "execution_count": null,
   "metadata": {},
   "outputs": [],
   "source": []
  },
  {
   "cell_type": "code",
   "execution_count": null,
   "metadata": {},
   "outputs": [],
   "source": []
  },
  {
   "cell_type": "code",
   "execution_count": null,
   "metadata": {},
   "outputs": [],
   "source": []
  },
  {
   "cell_type": "code",
   "execution_count": null,
   "metadata": {},
   "outputs": [],
   "source": []
  },
  {
   "cell_type": "code",
   "execution_count": null,
   "metadata": {},
   "outputs": [],
   "source": []
  },
  {
   "cell_type": "code",
   "execution_count": null,
   "metadata": {},
   "outputs": [],
   "source": []
  },
  {
   "cell_type": "code",
   "execution_count": null,
   "metadata": {},
   "outputs": [],
   "source": []
  },
  {
   "cell_type": "code",
   "execution_count": null,
   "metadata": {},
   "outputs": [],
   "source": []
  },
  {
   "cell_type": "code",
   "execution_count": null,
   "metadata": {},
   "outputs": [],
   "source": []
  },
  {
   "cell_type": "code",
   "execution_count": null,
   "metadata": {},
   "outputs": [],
   "source": []
  },
  {
   "cell_type": "code",
   "execution_count": null,
   "metadata": {},
   "outputs": [],
   "source": []
  },
  {
   "cell_type": "code",
   "execution_count": null,
   "metadata": {},
   "outputs": [],
   "source": []
  },
  {
   "cell_type": "code",
   "execution_count": null,
   "metadata": {},
   "outputs": [],
   "source": []
  },
  {
   "cell_type": "code",
   "execution_count": null,
   "metadata": {},
   "outputs": [],
   "source": []
  },
  {
   "cell_type": "code",
   "execution_count": null,
   "metadata": {},
   "outputs": [],
   "source": []
  },
  {
   "cell_type": "code",
   "execution_count": null,
   "metadata": {},
   "outputs": [],
   "source": []
  },
  {
   "cell_type": "code",
   "execution_count": null,
   "metadata": {},
   "outputs": [],
   "source": []
  },
  {
   "cell_type": "code",
   "execution_count": null,
   "metadata": {},
   "outputs": [],
   "source": []
  },
  {
   "cell_type": "code",
   "execution_count": null,
   "metadata": {},
   "outputs": [],
   "source": []
  },
  {
   "cell_type": "code",
   "execution_count": null,
   "metadata": {},
   "outputs": [],
   "source": []
  },
  {
   "cell_type": "code",
   "execution_count": null,
   "metadata": {},
   "outputs": [],
   "source": []
  },
  {
   "cell_type": "code",
   "execution_count": null,
   "metadata": {},
   "outputs": [],
   "source": []
  },
  {
   "cell_type": "code",
   "execution_count": null,
   "metadata": {},
   "outputs": [],
   "source": []
  },
  {
   "cell_type": "code",
   "execution_count": null,
   "metadata": {},
   "outputs": [],
   "source": []
  },
  {
   "cell_type": "code",
   "execution_count": null,
   "metadata": {},
   "outputs": [],
   "source": []
  },
  {
   "cell_type": "code",
   "execution_count": null,
   "metadata": {},
   "outputs": [],
   "source": []
  },
  {
   "cell_type": "code",
   "execution_count": null,
   "metadata": {},
   "outputs": [],
   "source": []
  },
  {
   "cell_type": "code",
   "execution_count": null,
   "metadata": {},
   "outputs": [],
   "source": []
  },
  {
   "cell_type": "code",
   "execution_count": null,
   "metadata": {},
   "outputs": [],
   "source": []
  },
  {
   "cell_type": "code",
   "execution_count": null,
   "metadata": {},
   "outputs": [],
   "source": []
  },
  {
   "cell_type": "code",
   "execution_count": null,
   "metadata": {},
   "outputs": [],
   "source": []
  },
  {
   "cell_type": "code",
   "execution_count": null,
   "metadata": {},
   "outputs": [],
   "source": []
  },
  {
   "cell_type": "code",
   "execution_count": null,
   "metadata": {},
   "outputs": [],
   "source": []
  },
  {
   "cell_type": "code",
   "execution_count": null,
   "metadata": {},
   "outputs": [],
   "source": []
  },
  {
   "cell_type": "code",
   "execution_count": null,
   "metadata": {},
   "outputs": [],
   "source": []
  },
  {
   "cell_type": "code",
   "execution_count": null,
   "metadata": {},
   "outputs": [],
   "source": []
  },
  {
   "cell_type": "code",
   "execution_count": null,
   "metadata": {},
   "outputs": [],
   "source": []
  },
  {
   "cell_type": "code",
   "execution_count": null,
   "metadata": {},
   "outputs": [],
   "source": []
  },
  {
   "cell_type": "code",
   "execution_count": null,
   "metadata": {},
   "outputs": [],
   "source": []
  },
  {
   "cell_type": "code",
   "execution_count": null,
   "metadata": {},
   "outputs": [],
   "source": []
  },
  {
   "cell_type": "code",
   "execution_count": null,
   "metadata": {},
   "outputs": [],
   "source": []
  },
  {
   "cell_type": "code",
   "execution_count": null,
   "metadata": {},
   "outputs": [],
   "source": []
  },
  {
   "cell_type": "code",
   "execution_count": null,
   "metadata": {},
   "outputs": [],
   "source": []
  },
  {
   "cell_type": "code",
   "execution_count": null,
   "metadata": {},
   "outputs": [],
   "source": []
  },
  {
   "cell_type": "code",
   "execution_count": null,
   "metadata": {},
   "outputs": [],
   "source": []
  },
  {
   "cell_type": "code",
   "execution_count": null,
   "metadata": {},
   "outputs": [],
   "source": []
  },
  {
   "cell_type": "code",
   "execution_count": null,
   "metadata": {},
   "outputs": [],
   "source": []
  },
  {
   "cell_type": "code",
   "execution_count": null,
   "metadata": {},
   "outputs": [],
   "source": []
  },
  {
   "cell_type": "code",
   "execution_count": null,
   "metadata": {},
   "outputs": [],
   "source": []
  },
  {
   "cell_type": "code",
   "execution_count": null,
   "metadata": {},
   "outputs": [],
   "source": []
  },
  {
   "cell_type": "code",
   "execution_count": null,
   "metadata": {},
   "outputs": [],
   "source": []
  },
  {
   "cell_type": "code",
   "execution_count": null,
   "metadata": {},
   "outputs": [],
   "source": []
  },
  {
   "cell_type": "code",
   "execution_count": null,
   "metadata": {},
   "outputs": [],
   "source": []
  },
  {
   "cell_type": "code",
   "execution_count": null,
   "metadata": {},
   "outputs": [],
   "source": []
  },
  {
   "cell_type": "code",
   "execution_count": null,
   "metadata": {},
   "outputs": [],
   "source": []
  },
  {
   "cell_type": "code",
   "execution_count": null,
   "metadata": {},
   "outputs": [],
   "source": []
  },
  {
   "cell_type": "code",
   "execution_count": null,
   "metadata": {},
   "outputs": [],
   "source": []
  },
  {
   "cell_type": "code",
   "execution_count": null,
   "metadata": {},
   "outputs": [],
   "source": []
  },
  {
   "cell_type": "code",
   "execution_count": null,
   "metadata": {},
   "outputs": [],
   "source": []
  },
  {
   "cell_type": "code",
   "execution_count": null,
   "metadata": {},
   "outputs": [],
   "source": []
  },
  {
   "cell_type": "code",
   "execution_count": null,
   "metadata": {},
   "outputs": [],
   "source": []
  },
  {
   "cell_type": "code",
   "execution_count": null,
   "metadata": {},
   "outputs": [],
   "source": []
  },
  {
   "cell_type": "code",
   "execution_count": null,
   "metadata": {},
   "outputs": [],
   "source": []
  },
  {
   "cell_type": "code",
   "execution_count": null,
   "metadata": {},
   "outputs": [],
   "source": []
  },
  {
   "cell_type": "code",
   "execution_count": null,
   "metadata": {},
   "outputs": [],
   "source": []
  },
  {
   "cell_type": "code",
   "execution_count": null,
   "metadata": {},
   "outputs": [],
   "source": []
  },
  {
   "cell_type": "code",
   "execution_count": null,
   "metadata": {},
   "outputs": [],
   "source": []
  },
  {
   "cell_type": "code",
   "execution_count": null,
   "metadata": {},
   "outputs": [],
   "source": []
  },
  {
   "cell_type": "code",
   "execution_count": null,
   "metadata": {},
   "outputs": [],
   "source": []
  },
  {
   "cell_type": "code",
   "execution_count": null,
   "metadata": {},
   "outputs": [],
   "source": []
  },
  {
   "cell_type": "code",
   "execution_count": null,
   "metadata": {},
   "outputs": [],
   "source": []
  },
  {
   "cell_type": "code",
   "execution_count": null,
   "metadata": {},
   "outputs": [],
   "source": []
  },
  {
   "cell_type": "code",
   "execution_count": null,
   "metadata": {},
   "outputs": [],
   "source": []
  },
  {
   "cell_type": "code",
   "execution_count": null,
   "metadata": {},
   "outputs": [],
   "source": []
  },
  {
   "cell_type": "code",
   "execution_count": null,
   "metadata": {},
   "outputs": [],
   "source": []
  },
  {
   "cell_type": "code",
   "execution_count": null,
   "metadata": {},
   "outputs": [],
   "source": []
  },
  {
   "cell_type": "code",
   "execution_count": null,
   "metadata": {},
   "outputs": [],
   "source": []
  },
  {
   "cell_type": "code",
   "execution_count": null,
   "metadata": {},
   "outputs": [],
   "source": []
  },
  {
   "cell_type": "code",
   "execution_count": null,
   "metadata": {},
   "outputs": [],
   "source": []
  },
  {
   "cell_type": "code",
   "execution_count": null,
   "metadata": {},
   "outputs": [],
   "source": []
  },
  {
   "cell_type": "code",
   "execution_count": null,
   "metadata": {},
   "outputs": [],
   "source": []
  },
  {
   "cell_type": "code",
   "execution_count": null,
   "metadata": {},
   "outputs": [],
   "source": []
  },
  {
   "cell_type": "code",
   "execution_count": null,
   "metadata": {},
   "outputs": [],
   "source": []
  },
  {
   "cell_type": "code",
   "execution_count": null,
   "metadata": {},
   "outputs": [],
   "source": []
  },
  {
   "cell_type": "code",
   "execution_count": null,
   "metadata": {},
   "outputs": [],
   "source": []
  },
  {
   "cell_type": "code",
   "execution_count": null,
   "metadata": {},
   "outputs": [],
   "source": []
  },
  {
   "cell_type": "code",
   "execution_count": null,
   "metadata": {},
   "outputs": [],
   "source": []
  },
  {
   "cell_type": "code",
   "execution_count": null,
   "metadata": {},
   "outputs": [],
   "source": []
  },
  {
   "cell_type": "code",
   "execution_count": null,
   "metadata": {},
   "outputs": [],
   "source": []
  },
  {
   "cell_type": "code",
   "execution_count": null,
   "metadata": {},
   "outputs": [],
   "source": []
  },
  {
   "cell_type": "code",
   "execution_count": null,
   "metadata": {},
   "outputs": [],
   "source": []
  },
  {
   "cell_type": "code",
   "execution_count": null,
   "metadata": {},
   "outputs": [],
   "source": []
  },
  {
   "cell_type": "code",
   "execution_count": null,
   "metadata": {},
   "outputs": [],
   "source": []
  }
 ],
 "metadata": {
  "kernelspec": {
   "display_name": "Python 3",
   "language": "python",
   "name": "python3"
  },
  "language_info": {
   "codemirror_mode": {
    "name": "ipython",
    "version": 3
   },
   "file_extension": ".py",
   "mimetype": "text/x-python",
   "name": "python",
   "nbconvert_exporter": "python",
   "pygments_lexer": "ipython3",
   "version": "3.8.3"
  }
 },
 "nbformat": 4,
 "nbformat_minor": 2
}
